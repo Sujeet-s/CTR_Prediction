{
 "cells": [
  {
   "cell_type": "markdown",
   "id": "64757b1a",
   "metadata": {},
   "source": [
    "### Reading Data"
   ]
  },
  {
   "cell_type": "code",
   "execution_count": 1,
   "id": "157962ad",
   "metadata": {},
   "outputs": [],
   "source": [
    "import pandas as pd\n",
    "import numpy as np\n",
    "import matplotlib.pyplot as plt\n",
    "%matplotlib inline\n",
    "import seaborn as sns\n",
    "import warnings\n",
    "warnings.filterwarnings('ignore')"
   ]
  },
  {
   "cell_type": "code",
   "execution_count": 2,
   "id": "8ba0ab2d",
   "metadata": {},
   "outputs": [],
   "source": [
    "df = pd.read_csv('data.csv')"
   ]
  },
  {
   "cell_type": "markdown",
   "id": "22d2584d",
   "metadata": {},
   "source": [
    "### Exploratory Data Analysis"
   ]
  },
  {
   "cell_type": "code",
   "execution_count": 3,
   "id": "f054d391",
   "metadata": {},
   "outputs": [
    {
     "data": {
      "text/html": [
       "<div>\n",
       "<style scoped>\n",
       "    .dataframe tbody tr th:only-of-type {\n",
       "        vertical-align: middle;\n",
       "    }\n",
       "\n",
       "    .dataframe tbody tr th {\n",
       "        vertical-align: top;\n",
       "    }\n",
       "\n",
       "    .dataframe thead th {\n",
       "        text-align: right;\n",
       "    }\n",
       "</style>\n",
       "<table border=\"1\" class=\"dataframe\">\n",
       "  <thead>\n",
       "    <tr style=\"text-align: right;\">\n",
       "      <th></th>\n",
       "      <th>click</th>\n",
       "      <th>C1</th>\n",
       "      <th>banner_pos</th>\n",
       "      <th>site_id</th>\n",
       "      <th>site_domain</th>\n",
       "      <th>site_category</th>\n",
       "      <th>app_id</th>\n",
       "      <th>app_domain</th>\n",
       "      <th>app_category</th>\n",
       "      <th>device_id</th>\n",
       "      <th>...</th>\n",
       "      <th>C17</th>\n",
       "      <th>C18</th>\n",
       "      <th>C19</th>\n",
       "      <th>C20</th>\n",
       "      <th>C21</th>\n",
       "      <th>month</th>\n",
       "      <th>dayofweek</th>\n",
       "      <th>day</th>\n",
       "      <th>hour</th>\n",
       "      <th>y</th>\n",
       "    </tr>\n",
       "  </thead>\n",
       "  <tbody>\n",
       "    <tr>\n",
       "      <th>0</th>\n",
       "      <td>False</td>\n",
       "      <td>1005</td>\n",
       "      <td>1</td>\n",
       "      <td>856e6d3f</td>\n",
       "      <td>58a89a43</td>\n",
       "      <td>f028772b</td>\n",
       "      <td>ecad2386</td>\n",
       "      <td>7801e8d9</td>\n",
       "      <td>07d7df22</td>\n",
       "      <td>a99f214a</td>\n",
       "      <td>...</td>\n",
       "      <td>2528</td>\n",
       "      <td>0</td>\n",
       "      <td>39</td>\n",
       "      <td>100075</td>\n",
       "      <td>221</td>\n",
       "      <td>10</td>\n",
       "      <td>1</td>\n",
       "      <td>28</td>\n",
       "      <td>14</td>\n",
       "      <td>0</td>\n",
       "    </tr>\n",
       "    <tr>\n",
       "      <th>1</th>\n",
       "      <td>True</td>\n",
       "      <td>1005</td>\n",
       "      <td>1</td>\n",
       "      <td>e151e245</td>\n",
       "      <td>7e091613</td>\n",
       "      <td>f028772b</td>\n",
       "      <td>ecad2386</td>\n",
       "      <td>7801e8d9</td>\n",
       "      <td>07d7df22</td>\n",
       "      <td>a99f214a</td>\n",
       "      <td>...</td>\n",
       "      <td>1934</td>\n",
       "      <td>2</td>\n",
       "      <td>39</td>\n",
       "      <td>-1</td>\n",
       "      <td>16</td>\n",
       "      <td>10</td>\n",
       "      <td>2</td>\n",
       "      <td>22</td>\n",
       "      <td>19</td>\n",
       "      <td>1</td>\n",
       "    </tr>\n",
       "    <tr>\n",
       "      <th>2</th>\n",
       "      <td>False</td>\n",
       "      <td>1005</td>\n",
       "      <td>0</td>\n",
       "      <td>e3c09f3a</td>\n",
       "      <td>d262cf1e</td>\n",
       "      <td>28905ebd</td>\n",
       "      <td>ecad2386</td>\n",
       "      <td>7801e8d9</td>\n",
       "      <td>07d7df22</td>\n",
       "      <td>a99f214a</td>\n",
       "      <td>...</td>\n",
       "      <td>2552</td>\n",
       "      <td>3</td>\n",
       "      <td>167</td>\n",
       "      <td>100202</td>\n",
       "      <td>23</td>\n",
       "      <td>10</td>\n",
       "      <td>3</td>\n",
       "      <td>23</td>\n",
       "      <td>18</td>\n",
       "      <td>0</td>\n",
       "    </tr>\n",
       "    <tr>\n",
       "      <th>3</th>\n",
       "      <td>False</td>\n",
       "      <td>1002</td>\n",
       "      <td>0</td>\n",
       "      <td>0da94452</td>\n",
       "      <td>248e439f</td>\n",
       "      <td>50e219e0</td>\n",
       "      <td>ecad2386</td>\n",
       "      <td>7801e8d9</td>\n",
       "      <td>07d7df22</td>\n",
       "      <td>0fa578fd</td>\n",
       "      <td>...</td>\n",
       "      <td>2478</td>\n",
       "      <td>3</td>\n",
       "      <td>167</td>\n",
       "      <td>100074</td>\n",
       "      <td>23</td>\n",
       "      <td>10</td>\n",
       "      <td>2</td>\n",
       "      <td>22</td>\n",
       "      <td>19</td>\n",
       "      <td>0</td>\n",
       "    </tr>\n",
       "    <tr>\n",
       "      <th>4</th>\n",
       "      <td>True</td>\n",
       "      <td>1005</td>\n",
       "      <td>0</td>\n",
       "      <td>1fbe01fe</td>\n",
       "      <td>f3845767</td>\n",
       "      <td>28905ebd</td>\n",
       "      <td>ecad2386</td>\n",
       "      <td>7801e8d9</td>\n",
       "      <td>07d7df22</td>\n",
       "      <td>a99f214a</td>\n",
       "      <td>...</td>\n",
       "      <td>1722</td>\n",
       "      <td>0</td>\n",
       "      <td>35</td>\n",
       "      <td>-1</td>\n",
       "      <td>79</td>\n",
       "      <td>10</td>\n",
       "      <td>1</td>\n",
       "      <td>21</td>\n",
       "      <td>8</td>\n",
       "      <td>1</td>\n",
       "    </tr>\n",
       "  </tbody>\n",
       "</table>\n",
       "<p>5 rows × 27 columns</p>\n",
       "</div>"
      ],
      "text/plain": [
       "   click    C1  banner_pos   site_id site_domain site_category    app_id  \\\n",
       "0  False  1005           1  856e6d3f    58a89a43      f028772b  ecad2386   \n",
       "1   True  1005           1  e151e245    7e091613      f028772b  ecad2386   \n",
       "2  False  1005           0  e3c09f3a    d262cf1e      28905ebd  ecad2386   \n",
       "3  False  1002           0  0da94452    248e439f      50e219e0  ecad2386   \n",
       "4   True  1005           0  1fbe01fe    f3845767      28905ebd  ecad2386   \n",
       "\n",
       "  app_domain app_category device_id  ...   C17 C18  C19     C20  C21  month  \\\n",
       "0   7801e8d9     07d7df22  a99f214a  ...  2528   0   39  100075  221     10   \n",
       "1   7801e8d9     07d7df22  a99f214a  ...  1934   2   39      -1   16     10   \n",
       "2   7801e8d9     07d7df22  a99f214a  ...  2552   3  167  100202   23     10   \n",
       "3   7801e8d9     07d7df22  0fa578fd  ...  2478   3  167  100074   23     10   \n",
       "4   7801e8d9     07d7df22  a99f214a  ...  1722   0   35      -1   79     10   \n",
       "\n",
       "   dayofweek  day  hour  y  \n",
       "0          1   28    14  0  \n",
       "1          2   22    19  1  \n",
       "2          3   23    18  0  \n",
       "3          2   22    19  0  \n",
       "4          1   21     8  1  \n",
       "\n",
       "[5 rows x 27 columns]"
      ]
     },
     "execution_count": 3,
     "metadata": {},
     "output_type": "execute_result"
    }
   ],
   "source": [
    "df.head()"
   ]
  },
  {
   "cell_type": "code",
   "execution_count": 4,
   "id": "3a45bf53",
   "metadata": {},
   "outputs": [
    {
     "name": "stdout",
     "output_type": "stream",
     "text": [
      "<class 'pandas.core.frame.DataFrame'>\n",
      "RangeIndex: 99999 entries, 0 to 99998\n",
      "Data columns (total 27 columns):\n",
      " #   Column            Non-Null Count  Dtype \n",
      "---  ------            --------------  ----- \n",
      " 0   click             99999 non-null  bool  \n",
      " 1   C1                99999 non-null  int64 \n",
      " 2   banner_pos        99999 non-null  int64 \n",
      " 3   site_id           99999 non-null  object\n",
      " 4   site_domain       99999 non-null  object\n",
      " 5   site_category     99999 non-null  object\n",
      " 6   app_id            99999 non-null  object\n",
      " 7   app_domain        99999 non-null  object\n",
      " 8   app_category      99999 non-null  object\n",
      " 9   device_id         99999 non-null  object\n",
      " 10  device_ip         99999 non-null  object\n",
      " 11  device_model      99999 non-null  object\n",
      " 12  device_type       99999 non-null  int64 \n",
      " 13  device_conn_type  99999 non-null  int64 \n",
      " 14  C14               99999 non-null  int64 \n",
      " 15  C15               99999 non-null  int64 \n",
      " 16  C16               99999 non-null  int64 \n",
      " 17  C17               99999 non-null  int64 \n",
      " 18  C18               99999 non-null  int64 \n",
      " 19  C19               99999 non-null  int64 \n",
      " 20  C20               99999 non-null  int64 \n",
      " 21  C21               99999 non-null  int64 \n",
      " 22  month             99999 non-null  int64 \n",
      " 23  dayofweek         99999 non-null  int64 \n",
      " 24  day               99999 non-null  int64 \n",
      " 25  hour              99999 non-null  int64 \n",
      " 26  y                 99999 non-null  int64 \n",
      "dtypes: bool(1), int64(17), object(9)\n",
      "memory usage: 19.9+ MB\n"
     ]
    }
   ],
   "source": [
    "df.info()"
   ]
  },
  {
   "cell_type": "code",
   "execution_count": 5,
   "id": "eaddbae2",
   "metadata": {},
   "outputs": [
    {
     "data": {
      "text/plain": [
       "Index(['click', 'C1', 'banner_pos', 'device_type', 'device_conn_type', 'C14',\n",
       "       'C15', 'C16', 'C17', 'C18', 'C19', 'C20', 'C21', 'month', 'dayofweek',\n",
       "       'day', 'hour', 'y'],\n",
       "      dtype='object')"
      ]
     },
     "execution_count": 5,
     "metadata": {},
     "output_type": "execute_result"
    }
   ],
   "source": [
    "df.select_dtypes(exclude='object').columns"
   ]
  },
  {
   "cell_type": "code",
   "execution_count": 6,
   "id": "0722981e",
   "metadata": {},
   "outputs": [],
   "source": [
    "# Converting Banner Position to object\n",
    "df.banner_pos = df.banner_pos.astype(\"str\")\n",
    "df[['C1', 'C14','C15', 'C16', 'C17', 'C18', 'C19', 'C20', 'C21']] = df[['C1', 'C14','C15', 'C16', 'C17', 'C18', 'C19', 'C20', 'C21']].astype(\"str\")"
   ]
  },
  {
   "cell_type": "code",
   "execution_count": 7,
   "id": "21b7e9bd",
   "metadata": {},
   "outputs": [
    {
     "data": {
      "text/html": [
       "<div>\n",
       "<style scoped>\n",
       "    .dataframe tbody tr th:only-of-type {\n",
       "        vertical-align: middle;\n",
       "    }\n",
       "\n",
       "    .dataframe tbody tr th {\n",
       "        vertical-align: top;\n",
       "    }\n",
       "\n",
       "    .dataframe thead th {\n",
       "        text-align: right;\n",
       "    }\n",
       "</style>\n",
       "<table border=\"1\" class=\"dataframe\">\n",
       "  <thead>\n",
       "    <tr style=\"text-align: right;\">\n",
       "      <th></th>\n",
       "      <th>device_type</th>\n",
       "      <th>device_conn_type</th>\n",
       "      <th>month</th>\n",
       "      <th>dayofweek</th>\n",
       "      <th>day</th>\n",
       "      <th>hour</th>\n",
       "      <th>y</th>\n",
       "    </tr>\n",
       "  </thead>\n",
       "  <tbody>\n",
       "    <tr>\n",
       "      <th>count</th>\n",
       "      <td>99999.00000</td>\n",
       "      <td>99999.000000</td>\n",
       "      <td>99999.0</td>\n",
       "      <td>99999.000000</td>\n",
       "      <td>99999.000000</td>\n",
       "      <td>99999.000000</td>\n",
       "      <td>99999.000000</td>\n",
       "    </tr>\n",
       "    <tr>\n",
       "      <th>mean</th>\n",
       "      <td>1.01639</td>\n",
       "      <td>0.329453</td>\n",
       "      <td>10.0</td>\n",
       "      <td>2.592836</td>\n",
       "      <td>25.485755</td>\n",
       "      <td>11.300673</td>\n",
       "      <td>0.169802</td>\n",
       "    </tr>\n",
       "    <tr>\n",
       "      <th>std</th>\n",
       "      <td>0.53110</td>\n",
       "      <td>0.854673</td>\n",
       "      <td>0.0</td>\n",
       "      <td>1.723003</td>\n",
       "      <td>2.968520</td>\n",
       "      <td>5.938725</td>\n",
       "      <td>0.375460</td>\n",
       "    </tr>\n",
       "    <tr>\n",
       "      <th>min</th>\n",
       "      <td>0.00000</td>\n",
       "      <td>0.000000</td>\n",
       "      <td>10.0</td>\n",
       "      <td>0.000000</td>\n",
       "      <td>21.000000</td>\n",
       "      <td>0.000000</td>\n",
       "      <td>0.000000</td>\n",
       "    </tr>\n",
       "    <tr>\n",
       "      <th>25%</th>\n",
       "      <td>1.00000</td>\n",
       "      <td>0.000000</td>\n",
       "      <td>10.0</td>\n",
       "      <td>1.000000</td>\n",
       "      <td>23.000000</td>\n",
       "      <td>7.000000</td>\n",
       "      <td>0.000000</td>\n",
       "    </tr>\n",
       "    <tr>\n",
       "      <th>50%</th>\n",
       "      <td>1.00000</td>\n",
       "      <td>0.000000</td>\n",
       "      <td>10.0</td>\n",
       "      <td>2.000000</td>\n",
       "      <td>26.000000</td>\n",
       "      <td>11.000000</td>\n",
       "      <td>0.000000</td>\n",
       "    </tr>\n",
       "    <tr>\n",
       "      <th>75%</th>\n",
       "      <td>1.00000</td>\n",
       "      <td>0.000000</td>\n",
       "      <td>10.0</td>\n",
       "      <td>4.000000</td>\n",
       "      <td>28.000000</td>\n",
       "      <td>16.000000</td>\n",
       "      <td>0.000000</td>\n",
       "    </tr>\n",
       "    <tr>\n",
       "      <th>max</th>\n",
       "      <td>5.00000</td>\n",
       "      <td>5.000000</td>\n",
       "      <td>10.0</td>\n",
       "      <td>6.000000</td>\n",
       "      <td>30.000000</td>\n",
       "      <td>23.000000</td>\n",
       "      <td>1.000000</td>\n",
       "    </tr>\n",
       "  </tbody>\n",
       "</table>\n",
       "</div>"
      ],
      "text/plain": [
       "       device_type  device_conn_type    month     dayofweek           day  \\\n",
       "count  99999.00000      99999.000000  99999.0  99999.000000  99999.000000   \n",
       "mean       1.01639          0.329453     10.0      2.592836     25.485755   \n",
       "std        0.53110          0.854673      0.0      1.723003      2.968520   \n",
       "min        0.00000          0.000000     10.0      0.000000     21.000000   \n",
       "25%        1.00000          0.000000     10.0      1.000000     23.000000   \n",
       "50%        1.00000          0.000000     10.0      2.000000     26.000000   \n",
       "75%        1.00000          0.000000     10.0      4.000000     28.000000   \n",
       "max        5.00000          5.000000     10.0      6.000000     30.000000   \n",
       "\n",
       "               hour             y  \n",
       "count  99999.000000  99999.000000  \n",
       "mean      11.300673      0.169802  \n",
       "std        5.938725      0.375460  \n",
       "min        0.000000      0.000000  \n",
       "25%        7.000000      0.000000  \n",
       "50%       11.000000      0.000000  \n",
       "75%       16.000000      0.000000  \n",
       "max       23.000000      1.000000  "
      ]
     },
     "execution_count": 7,
     "metadata": {},
     "output_type": "execute_result"
    }
   ],
   "source": [
    "df.describe()"
   ]
  },
  {
   "cell_type": "markdown",
   "id": "6c9ee7e6",
   "metadata": {},
   "source": [
    "- The data is of 1 week (21-30 of October)"
   ]
  },
  {
   "cell_type": "code",
   "execution_count": 8,
   "id": "4b9256a2",
   "metadata": {},
   "outputs": [
    {
     "data": {
      "text/plain": [
       "click                   2\n",
       "C1                      7\n",
       "banner_pos              7\n",
       "site_id              1485\n",
       "site_domain          1331\n",
       "site_category          19\n",
       "app_id               1354\n",
       "app_domain             96\n",
       "app_category           21\n",
       "device_id           16801\n",
       "device_ip           78013\n",
       "device_model         3145\n",
       "device_type             4\n",
       "device_conn_type        4\n",
       "C14                  1722\n",
       "C15                     8\n",
       "C16                     9\n",
       "C17                   399\n",
       "C18                     4\n",
       "C19                    64\n",
       "C20                   154\n",
       "C21                    60\n",
       "month                   1\n",
       "dayofweek               7\n",
       "day                    10\n",
       "hour                   24\n",
       "y                       2\n",
       "dtype: int64"
      ]
     },
     "execution_count": 8,
     "metadata": {},
     "output_type": "execute_result"
    }
   ],
   "source": [
    "df.nunique()"
   ]
  },
  {
   "cell_type": "code",
   "execution_count": 9,
   "id": "1b6e7d2f",
   "metadata": {},
   "outputs": [
    {
     "data": {
      "text/plain": [
       "Index(['click', 'C1', 'banner_pos', 'site_id', 'site_domain', 'site_category',\n",
       "       'app_id', 'app_domain', 'app_category', 'device_id', 'device_ip',\n",
       "       'device_model', 'device_type', 'device_conn_type', 'C14', 'C15', 'C16',\n",
       "       'C17', 'C18', 'C19', 'C20', 'C21', 'month', 'dayofweek', 'day', 'hour',\n",
       "       'y'],\n",
       "      dtype='object')"
      ]
     },
     "execution_count": 9,
     "metadata": {},
     "output_type": "execute_result"
    }
   ],
   "source": [
    "df.columns"
   ]
  },
  {
   "cell_type": "markdown",
   "id": "4a4699e7",
   "metadata": {},
   "source": [
    "Target -> 'click'\n",
    " \n",
    "site features -> 'site_id', 'site_domain', 'site_category',\n",
    "\n",
    "app features -> 'app_id', 'app_domain', 'app_category', \n",
    "\n",
    "device features -> 'device_id', 'device_ip','device_model', 'device_type', 'device_conn_type', \n",
    "\n",
    "anonymized categorical features -> 'C1', 'C14', 'C15', 'C16','C17', 'C18', 'C19', 'C20', 'C21', \n",
    "\n",
    "other features -> 'month', 'dayofweek', 'day', 'hour','banner_pos',"
   ]
  },
  {
   "cell_type": "markdown",
   "id": "681d7f53",
   "metadata": {},
   "source": [
    "#### Checking for variance across CTR and other variables"
   ]
  },
  {
   "cell_type": "code",
   "execution_count": 10,
   "id": "fad59bba",
   "metadata": {},
   "outputs": [
    {
     "data": {
      "text/plain": [
       "<AxesSubplot:xlabel='click', ylabel='C1'>"
      ]
     },
     "execution_count": 10,
     "metadata": {},
     "output_type": "execute_result"
    },
    {
     "data": {
      "image/png": "[encoded data removed]",
      "text/plain": [
       "<Figure size 432x288 with 1 Axes>"
      ]
     },
     "metadata": {
      "needs_background": "light"
     },
     "output_type": "display_data"
    }
   ],
   "source": [
    "sns.boxplot(data= df,x='click',y='C1')"
   ]
  },
  {
   "cell_type": "code",
   "execution_count": 11,
   "id": "4b60f426",
   "metadata": {},
   "outputs": [
    {
     "data": {
      "text/plain": [
       "('C1',\n",
       " 'banner_pos',\n",
       " 'device_type',\n",
       " 'device_conn_type',\n",
       " 'C14',\n",
       " 'C15',\n",
       " 'C16',\n",
       " 'C17',\n",
       " 'C18',\n",
       " 'C19',\n",
       " 'C20',\n",
       " 'C21')"
      ]
     },
     "execution_count": 11,
     "metadata": {},
     "output_type": "execute_result"
    }
   ],
   "source": [
    "'C1', 'banner_pos', 'device_type', 'device_conn_type', 'C14','C15', 'C16', 'C17', 'C18', 'C19', 'C20', 'C21'"
   ]
  },
  {
   "cell_type": "code",
   "execution_count": 12,
   "id": "24c3fa33",
   "metadata": {},
   "outputs": [
    {
     "data": {
      "text/plain": [
       "<AxesSubplot:xlabel='click', ylabel='banner_pos'>"
      ]
     },
     "execution_count": 12,
     "metadata": {},
     "output_type": "execute_result"
    },
    {
     "data": {
      "image/png": "[encoded data removed]",
      "text/plain": [
       "<Figure size 432x288 with 1 Axes>"
      ]
     },
     "metadata": {
      "needs_background": "light"
     },
     "output_type": "display_data"
    }
   ],
   "source": [
    "sns.boxplot(data= df,x='click',y='banner_pos')"
   ]
  },
  {
   "cell_type": "code",
   "execution_count": 13,
   "id": "7c3843af",
   "metadata": {},
   "outputs": [
    {
     "data": {
      "text/plain": [
       "<AxesSubplot:xlabel='y', ylabel='device_conn_type'>"
      ]
     },
     "execution_count": 13,
     "metadata": {},
     "output_type": "execute_result"
    },
    {
     "data": {
      "image/png": "[encoded data removed]",
      "text/plain": [
       "<Figure size 432x288 with 1 Axes>"
      ]
     },
     "metadata": {
      "needs_background": "light"
     },
     "output_type": "display_data"
    }
   ],
   "source": [
    "sns.boxplot(data= df[(df['device_conn_type']>0) &(df['device_conn_type']<5)],x='y',y='device_conn_type')"
   ]
  },
  {
   "cell_type": "code",
   "execution_count": 14,
   "id": "8491e4f9",
   "metadata": {},
   "outputs": [
    {
     "data": {
      "text/plain": [
       "<AxesSubplot:xlabel='y', ylabel='count'>"
      ]
     },
     "execution_count": 14,
     "metadata": {},
     "output_type": "execute_result"
    },
    {
     "data": {
      "image/png": "[encoded data removed]",
      "text/plain": [
       "<Figure size 432x288 with 1 Axes>"
      ]
     },
     "metadata": {
      "needs_background": "light"
     },
     "output_type": "display_data"
    }
   ],
   "source": [
    "# Check the CTR for Complete Dataset\n",
    "sns.countplot(data=df, x='y')"
   ]
  },
  {
   "cell_type": "code",
   "execution_count": 15,
   "id": "f53feacc",
   "metadata": {},
   "outputs": [
    {
     "data": {
      "text/plain": [
       "0    0.830198\n",
       "1    0.169802\n",
       "Name: y, dtype: float64"
      ]
     },
     "execution_count": 15,
     "metadata": {},
     "output_type": "execute_result"
    }
   ],
   "source": [
    "df.y.value_counts(normalize=True)\n",
    "# CTR = 16.9%"
   ]
  },
  {
   "cell_type": "markdown",
   "id": "bb5c96de",
   "metadata": {},
   "source": [
    "Dates wise analysis"
   ]
  },
  {
   "cell_type": "code",
   "execution_count": 16,
   "id": "d8f83001",
   "metadata": {},
   "outputs": [
    {
     "data": {
      "text/plain": [
       "22    13092\n",
       "28    13056\n",
       "30    10495\n",
       "21    10213\n",
       "29     9742\n",
       "23     9519\n",
       "26     9326\n",
       "24     8264\n",
       "25     8258\n",
       "27     8034\n",
       "Name: day, dtype: int64"
      ]
     },
     "execution_count": 16,
     "metadata": {},
     "output_type": "execute_result"
    }
   ],
   "source": [
    "df.day.value_counts()"
   ]
  },
  {
   "cell_type": "code",
   "execution_count": 17,
   "id": "60acd17d",
   "metadata": {},
   "outputs": [],
   "source": [
    "CTR_day_wise = df.pivot_table(index='day',values='y',aggfunc='mean')*100"
   ]
  },
  {
   "cell_type": "code",
   "execution_count": 18,
   "id": "feadb434",
   "metadata": {},
   "outputs": [
    {
     "data": {
      "text/plain": [
       "<AxesSubplot:xlabel='day'>"
      ]
     },
     "execution_count": 18,
     "metadata": {},
     "output_type": "execute_result"
    },
    {
     "data": {
      "image/png": "[encoded data removed]",
      "text/plain": [
       "<Figure size 432x288 with 1 Axes>"
      ]
     },
     "metadata": {
      "needs_background": "light"
     },
     "output_type": "display_data"
    }
   ],
   "source": [
    "CTR_day_wise.plot(grid= True)"
   ]
  },
  {
   "cell_type": "code",
   "execution_count": 19,
   "id": "3ca2c1ea",
   "metadata": {},
   "outputs": [],
   "source": [
    "CTR_hour_wise = df.pivot_table(index='hour',values='y',aggfunc='mean')*100"
   ]
  },
  {
   "cell_type": "code",
   "execution_count": 20,
   "id": "f5eb78c6",
   "metadata": {},
   "outputs": [
    {
     "data": {
      "text/plain": [
       "<AxesSubplot:xlabel='hour'>"
      ]
     },
     "execution_count": 20,
     "metadata": {},
     "output_type": "execute_result"
    },
    {
     "data": {
      "image/png": "[encoded data removed]",
      "text/plain": [
       "<Figure size 432x288 with 1 Axes>"
      ]
     },
     "metadata": {
      "needs_background": "light"
     },
     "output_type": "display_data"
    }
   ],
   "source": [
    "CTR_hour_wise.plot(grid= True)"
   ]
  },
  {
   "cell_type": "code",
   "execution_count": 21,
   "id": "c7878e80",
   "metadata": {},
   "outputs": [],
   "source": [
    "CTR_day_of_week = df.pivot_table(index='dayofweek',values='y',aggfunc='mean')*100"
   ]
  },
  {
   "cell_type": "code",
   "execution_count": 22,
   "id": "00a31d97",
   "metadata": {},
   "outputs": [
    {
     "data": {
      "text/plain": [
       "<AxesSubplot:xlabel='dayofweek'>"
      ]
     },
     "execution_count": 22,
     "metadata": {},
     "output_type": "execute_result"
    },
    {
     "data": {
      "image/png": "[encoded data removed]",
      "text/plain": [
       "<Figure size 432x288 with 1 Axes>"
      ]
     },
     "metadata": {
      "needs_background": "light"
     },
     "output_type": "display_data"
    }
   ],
   "source": [
    "CTR_day_of_week.plot(grid= True)"
   ]
  },
  {
   "cell_type": "markdown",
   "id": "828e0415",
   "metadata": {},
   "source": [
    "Banner Position"
   ]
  },
  {
   "cell_type": "code",
   "execution_count": 23,
   "id": "67c5af0a",
   "metadata": {},
   "outputs": [],
   "source": [
    "CTR_bannerpos = df.pivot_table(index='banner_pos',values='y',aggfunc='mean')*100"
   ]
  },
  {
   "cell_type": "code",
   "execution_count": 24,
   "id": "02767936",
   "metadata": {},
   "outputs": [
    {
     "data": {
      "text/plain": [
       "<AxesSubplot:xlabel='banner_pos'>"
      ]
     },
     "execution_count": 24,
     "metadata": {},
     "output_type": "execute_result"
    },
    {
     "data": {
      "image/png": "[encoded data removed]",
      "text/plain": [
       "<Figure size 432x288 with 1 Axes>"
      ]
     },
     "metadata": {
      "needs_background": "light"
     },
     "output_type": "display_data"
    }
   ],
   "source": [
    "CTR_bannerpos.plot(grid= True)\n",
    "# Variation of CTR is visible on Banner Position"
   ]
  },
  {
   "cell_type": "markdown",
   "id": "a65dbcd2",
   "metadata": {},
   "source": [
    "Device Type"
   ]
  },
  {
   "cell_type": "code",
   "execution_count": 25,
   "id": "9ac97009",
   "metadata": {},
   "outputs": [],
   "source": [
    "CTR_device = df.pivot_table(index='device_type',values='y',aggfunc='mean')*100"
   ]
  },
  {
   "cell_type": "code",
   "execution_count": 26,
   "id": "ce92ef9d",
   "metadata": {},
   "outputs": [
    {
     "data": {
      "text/plain": [
       "<AxesSubplot:xlabel='device_type'>"
      ]
     },
     "execution_count": 26,
     "metadata": {},
     "output_type": "execute_result"
    },
    {
     "data": {
      "image/png": "[encoded data removed]",
      "text/plain": [
       "<Figure size 432x288 with 1 Axes>"
      ]
     },
     "metadata": {
      "needs_background": "light"
     },
     "output_type": "display_data"
    }
   ],
   "source": [
    "CTR_device.plot(grid= True)\n",
    "# Variation of CTR is visible on Device Type"
   ]
  },
  {
   "cell_type": "code",
   "execution_count": 27,
   "id": "502eb2bd",
   "metadata": {},
   "outputs": [
    {
     "data": {
      "text/plain": [
       "<AxesSubplot:xlabel='device_conn_type'>"
      ]
     },
     "execution_count": 27,
     "metadata": {},
     "output_type": "execute_result"
    },
    {
     "data": {
      "image/png": "[encoded data removed]",
      "text/plain": [
       "<Figure size 432x288 with 1 Axes>"
      ]
     },
     "metadata": {
      "needs_background": "light"
     },
     "output_type": "display_data"
    }
   ],
   "source": [
    "CTR_device_conn_type = df.pivot_table(index='device_conn_type',values='y',aggfunc='mean')*100\n",
    "CTR_device_conn_type.plot(grid= True)"
   ]
  },
  {
   "cell_type": "markdown",
   "id": "7c5327d5",
   "metadata": {},
   "source": [
    "Site Category"
   ]
  },
  {
   "cell_type": "code",
   "execution_count": 28,
   "id": "0895f4fb",
   "metadata": {},
   "outputs": [
    {
     "data": {
      "text/plain": [
       "<AxesSubplot:xlabel='site_category'>"
      ]
     },
     "execution_count": 28,
     "metadata": {},
     "output_type": "execute_result"
    },
    {
     "data": {
      "image/png": "[encoded data removed]",
      "text/plain": [
       "<Figure size 432x288 with 1 Axes>"
      ]
     },
     "metadata": {
      "needs_background": "light"
     },
     "output_type": "display_data"
    }
   ],
   "source": [
    "CTR_site_category = df.pivot_table(index='site_category',values='y',aggfunc='mean')*100\n",
    "CTR_site_category.plot(grid= True)"
   ]
  },
  {
   "cell_type": "markdown",
   "id": "a0cfc3c3",
   "metadata": {},
   "source": [
    "App Category"
   ]
  },
  {
   "cell_type": "code",
   "execution_count": 29,
   "id": "44e84ae6",
   "metadata": {},
   "outputs": [
    {
     "data": {
      "text/plain": [
       "<AxesSubplot:xlabel='app_category'>"
      ]
     },
     "execution_count": 29,
     "metadata": {},
     "output_type": "execute_result"
    },
    {
     "data": {
      "image/png": "[encoded data removed]",
      "text/plain": [
       "<Figure size 432x288 with 1 Axes>"
      ]
     },
     "metadata": {
      "needs_background": "light"
     },
     "output_type": "display_data"
    }
   ],
   "source": [
    "CTR_app_category = df.pivot_table(index='app_category',values='y',aggfunc='mean')*100\n",
    "CTR_app_category.plot(grid= True)"
   ]
  },
  {
   "cell_type": "markdown",
   "id": "f1eeba70",
   "metadata": {},
   "source": [
    "Anonymized variable C1"
   ]
  },
  {
   "cell_type": "code",
   "execution_count": 30,
   "id": "f292882c",
   "metadata": {},
   "outputs": [
    {
     "data": {
      "text/plain": [
       "<AxesSubplot:xlabel='C1'>"
      ]
     },
     "execution_count": 30,
     "metadata": {},
     "output_type": "execute_result"
    },
    {
     "data": {
      "image/png": "[encoded data removed]",
      "text/plain": [
       "<Figure size 432x288 with 1 Axes>"
      ]
     },
     "metadata": {
      "needs_background": "light"
     },
     "output_type": "display_data"
    }
   ],
   "source": [
    "CTR_C1 = df.pivot_table(index='C1',values='y',aggfunc='mean')*100\n",
    "CTR_C1.plot(grid= True)\n"
   ]
  },
  {
   "cell_type": "markdown",
   "id": "de5847ce",
   "metadata": {},
   "source": [
    "### Data Cleaning and Set Up"
   ]
  },
  {
   "cell_type": "code",
   "execution_count": 31,
   "id": "fb0fc64a",
   "metadata": {},
   "outputs": [
    {
     "name": "stdout",
     "output_type": "stream",
     "text": [
      "<class 'pandas.core.frame.DataFrame'>\n",
      "RangeIndex: 99999 entries, 0 to 99998\n",
      "Data columns (total 27 columns):\n",
      " #   Column            Non-Null Count  Dtype \n",
      "---  ------            --------------  ----- \n",
      " 0   click             99999 non-null  bool  \n",
      " 1   C1                99999 non-null  object\n",
      " 2   banner_pos        99999 non-null  object\n",
      " 3   site_id           99999 non-null  object\n",
      " 4   site_domain       99999 non-null  object\n",
      " 5   site_category     99999 non-null  object\n",
      " 6   app_id            99999 non-null  object\n",
      " 7   app_domain        99999 non-null  object\n",
      " 8   app_category      99999 non-null  object\n",
      " 9   device_id         99999 non-null  object\n",
      " 10  device_ip         99999 non-null  object\n",
      " 11  device_model      99999 non-null  object\n",
      " 12  device_type       99999 non-null  int64 \n",
      " 13  device_conn_type  99999 non-null  int64 \n",
      " 14  C14               99999 non-null  object\n",
      " 15  C15               99999 non-null  object\n",
      " 16  C16               99999 non-null  object\n",
      " 17  C17               99999 non-null  object\n",
      " 18  C18               99999 non-null  object\n",
      " 19  C19               99999 non-null  object\n",
      " 20  C20               99999 non-null  object\n",
      " 21  C21               99999 non-null  object\n",
      " 22  month             99999 non-null  int64 \n",
      " 23  dayofweek         99999 non-null  int64 \n",
      " 24  day               99999 non-null  int64 \n",
      " 25  hour              99999 non-null  int64 \n",
      " 26  y                 99999 non-null  int64 \n",
      "dtypes: bool(1), int64(7), object(19)\n",
      "memory usage: 19.9+ MB\n"
     ]
    }
   ],
   "source": [
    "df.info()"
   ]
  },
  {
   "cell_type": "code",
   "execution_count": 32,
   "id": "d1611f6f",
   "metadata": {},
   "outputs": [
    {
     "data": {
      "text/plain": [
       "click                   2\n",
       "C1                      7\n",
       "banner_pos              7\n",
       "site_id              1485\n",
       "site_domain          1331\n",
       "site_category          19\n",
       "app_id               1354\n",
       "app_domain             96\n",
       "app_category           21\n",
       "device_id           16801\n",
       "device_ip           78013\n",
       "device_model         3145\n",
       "device_type             4\n",
       "device_conn_type        4\n",
       "C14                  1722\n",
       "C15                     8\n",
       "C16                     9\n",
       "C17                   399\n",
       "C18                     4\n",
       "C19                    64\n",
       "C20                   154\n",
       "C21                    60\n",
       "month                   1\n",
       "dayofweek               7\n",
       "day                    10\n",
       "hour                   24\n",
       "y                       2\n",
       "dtype: int64"
      ]
     },
     "execution_count": 32,
     "metadata": {},
     "output_type": "execute_result"
    }
   ],
   "source": [
    "df.nunique()\n",
    "# Removing  site_domain,app_id,device_id,device_ip, device_model, month from consideration \n",
    "#(as one hot encoding will make too many variables and many of these are redundant)"
   ]
  },
  {
   "cell_type": "code",
   "execution_count": 33,
   "id": "f1c9a09a",
   "metadata": {},
   "outputs": [],
   "source": [
    "df2 = df.drop(['device_ip','click','site_domain','app_id','device_id','month','device_model','site_id','app_domain'],axis = 1)"
   ]
  },
  {
   "cell_type": "code",
   "execution_count": 34,
   "id": "18bee72e",
   "metadata": {},
   "outputs": [],
   "source": [
    "categorical = list(df2.select_dtypes(include='object').columns)"
   ]
  },
  {
   "cell_type": "code",
   "execution_count": 35,
   "id": "e0a4d47d",
   "metadata": {},
   "outputs": [
    {
     "data": {
      "text/plain": [
       "['C1',\n",
       " 'banner_pos',\n",
       " 'site_category',\n",
       " 'app_category',\n",
       " 'C14',\n",
       " 'C15',\n",
       " 'C16',\n",
       " 'C17',\n",
       " 'C18',\n",
       " 'C19',\n",
       " 'C20',\n",
       " 'C21']"
      ]
     },
     "execution_count": 35,
     "metadata": {},
     "output_type": "execute_result"
    }
   ],
   "source": [
    "categorical"
   ]
  },
  {
   "cell_type": "code",
   "execution_count": 36,
   "id": "b12c07ec",
   "metadata": {},
   "outputs": [],
   "source": [
    "df3 = pd.get_dummies(df2, columns= categorical, drop_first = True )"
   ]
  },
  {
   "cell_type": "code",
   "execution_count": 37,
   "id": "a36ebd53",
   "metadata": {},
   "outputs": [
    {
     "data": {
      "text/plain": [
       "(99999, 2468)"
      ]
     },
     "execution_count": 37,
     "metadata": {},
     "output_type": "execute_result"
    }
   ],
   "source": [
    "df3.shape"
   ]
  },
  {
   "cell_type": "code",
   "execution_count": 38,
   "id": "d1de44b7",
   "metadata": {},
   "outputs": [
    {
     "name": "stdout",
     "output_type": "stream",
     "text": [
      "<class 'pandas.core.frame.DataFrame'>\n",
      "RangeIndex: 99999 entries, 0 to 99998\n",
      "Columns: 2468 entries, device_type to C21_95\n",
      "dtypes: int64(6), uint8(2462)\n",
      "memory usage: 239.4 MB\n"
     ]
    }
   ],
   "source": [
    "df3.info()"
   ]
  },
  {
   "cell_type": "code",
   "execution_count": 39,
   "id": "8489d3bb",
   "metadata": {},
   "outputs": [],
   "source": [
    "X = df3.drop('y',axis=1)"
   ]
  },
  {
   "cell_type": "code",
   "execution_count": 40,
   "id": "b9a8ea83",
   "metadata": {},
   "outputs": [],
   "source": [
    "y=df3['y']"
   ]
  },
  {
   "cell_type": "code",
   "execution_count": 41,
   "id": "ecd9a219",
   "metadata": {},
   "outputs": [
    {
     "data": {
      "text/plain": [
       "(99999, 2467)"
      ]
     },
     "execution_count": 41,
     "metadata": {},
     "output_type": "execute_result"
    }
   ],
   "source": [
    "X.shape"
   ]
  },
  {
   "cell_type": "markdown",
   "id": "a1206986",
   "metadata": {},
   "source": [
    "# Performing Logistic Regression \n",
    "\n",
    "## Reasons for taking logistic regression: \n",
    "1. It is  the simplest known model for classification, so if we see that the performance is good we can shift to higher complexity models.\n",
    "2. Easy to interpret the results and explain to Stakeholders.\n",
    "\n",
    "\n",
    "## Model 1 : Taking All Possible Variables"
   ]
  },
  {
   "cell_type": "code",
   "execution_count": 42,
   "id": "8be8a788",
   "metadata": {},
   "outputs": [],
   "source": [
    "from sklearn.model_selection import train_test_split\n",
    "from sklearn.linear_model import LogisticRegression\n",
    "from sklearn import metrics\n",
    "from sklearn.metrics import roc_auc_score\n"
   ]
  },
  {
   "cell_type": "code",
   "execution_count": 43,
   "id": "6c49b1a5",
   "metadata": {},
   "outputs": [],
   "source": [
    "X_train, X_test, y_train, y_test = train_test_split(X, y, test_size=0.3, random_state=0)"
   ]
  },
  {
   "cell_type": "code",
   "execution_count": 44,
   "id": "99c7ed58",
   "metadata": {},
   "outputs": [
    {
     "data": {
      "text/plain": [
       "LogisticRegression()"
      ]
     },
     "execution_count": 44,
     "metadata": {},
     "output_type": "execute_result"
    }
   ],
   "source": [
    "model = LogisticRegression()\n",
    "\n",
    "model.fit(X_train, y_train)"
   ]
  },
  {
   "cell_type": "code",
   "execution_count": 45,
   "id": "52508373",
   "metadata": {},
   "outputs": [
    {
     "data": {
      "text/plain": [
       "array([[-0.14940388, -0.06355358, -0.01006372, ..., -0.01936644,\n",
       "         0.07677394, -0.05382179]])"
      ]
     },
     "execution_count": 45,
     "metadata": {},
     "output_type": "execute_result"
    }
   ],
   "source": [
    "model.coef_"
   ]
  },
  {
   "cell_type": "code",
   "execution_count": 46,
   "id": "4c502848",
   "metadata": {},
   "outputs": [
    {
     "name": "stdout",
     "output_type": "stream",
     "text": [
      "0.8313666666666667\n"
     ]
    }
   ],
   "source": [
    "y_pred = model.predict(X_test)\n",
    "print(metrics.accuracy_score(y_test,y_pred))"
   ]
  },
  {
   "cell_type": "code",
   "execution_count": 47,
   "id": "5cee1f9c",
   "metadata": {},
   "outputs": [
    {
     "name": "stdout",
     "output_type": "stream",
     "text": [
      "[[24739   141]\n",
      " [ 4918   202]]\n"
     ]
    }
   ],
   "source": [
    "cnf_matrix = metrics.confusion_matrix(y_test,y_pred)\n",
    "print(cnf_matrix)"
   ]
  },
  {
   "cell_type": "code",
   "execution_count": 48,
   "id": "e66d4da8",
   "metadata": {},
   "outputs": [
    {
     "data": {
      "text/plain": [
       "DummyClassifier(strategy='most_frequent')"
      ]
     },
     "execution_count": 48,
     "metadata": {},
     "output_type": "execute_result"
    }
   ],
   "source": [
    "from sklearn.dummy import DummyClassifier\n",
    "dummy_clf = DummyClassifier(strategy=\"most_frequent\")\n",
    "dummy_clf.fit(X_train, y_train)"
   ]
  },
  {
   "cell_type": "code",
   "execution_count": 49,
   "id": "1ecef748",
   "metadata": {},
   "outputs": [
    {
     "name": "stdout",
     "output_type": "stream",
     "text": [
      "[[24880     0]\n",
      " [ 5120     0]]\n"
     ]
    },
    {
     "data": {
      "image/png": "[encoded data removed]",
      "text/plain": [
       "<Figure size 432x288 with 2 Axes>"
      ]
     },
     "metadata": {
      "needs_background": "light"
     },
     "output_type": "display_data"
    }
   ],
   "source": [
    "y_pred_dummy = dummy_clf.predict(X_test)\n",
    "\n",
    "# Plot and print confusion matrix\n",
    "cnf_matrix = metrics.confusion_matrix(y_test, y_pred_dummy)\n",
    "print(cnf_matrix)\n",
    "metrics.plot_confusion_matrix(dummy_clf, X_test, y_test)\n",
    "plt.show()"
   ]
  },
  {
   "cell_type": "code",
   "execution_count": 50,
   "id": "29fa809a",
   "metadata": {},
   "outputs": [
    {
     "name": "stdout",
     "output_type": "stream",
     "text": [
      "0.8293333333333334\n"
     ]
    }
   ],
   "source": [
    "print(metrics.accuracy_score(y_test, y_pred_dummy))"
   ]
  },
  {
   "cell_type": "code",
   "execution_count": 51,
   "id": "54c156f8",
   "metadata": {},
   "outputs": [],
   "source": [
    "# Model is Performing better than Dummy Classifier"
   ]
  },
  {
   "cell_type": "code",
   "execution_count": 52,
   "id": "9026a43a",
   "metadata": {},
   "outputs": [
    {
     "data": {
      "image/png": "[encoded data removed]",
      "text/plain": [
       "<Figure size 432x288 with 1 Axes>"
      ]
     },
     "metadata": {
      "needs_background": "light"
     },
     "output_type": "display_data"
    }
   ],
   "source": [
    "metrics.plot_roc_curve(model, X_test, y_test) \n",
    "plt.show()\n",
    "# 69% is the AUC "
   ]
  },
  {
   "cell_type": "markdown",
   "id": "dc922e97",
   "metadata": {},
   "source": [
    "## Model 2 : Removing variable C14-C21"
   ]
  },
  {
   "cell_type": "code",
   "execution_count": 53,
   "id": "208b3b13",
   "metadata": {},
   "outputs": [],
   "source": [
    "col_list = list(X.columns)"
   ]
  },
  {
   "cell_type": "code",
   "execution_count": 54,
   "id": "06132a54",
   "metadata": {},
   "outputs": [],
   "source": [
    "col_to_remove= []\n",
    "for col in col_list:\n",
    "    if 'C14' in col or 'C15'in col or 'C16'in col or 'C17'in col or  'C18'in col or 'C19'in col or 'C20'in col or 'C21' in col  :\n",
    "        col_to_remove.append(col)"
   ]
  },
  {
   "cell_type": "code",
   "execution_count": 55,
   "id": "37171b46",
   "metadata": {
    "collapsed": true
   },
   "outputs": [
    {
     "data": {
      "text/plain": [
       "['C14_1037',\n",
       " 'C14_1038',\n",
       " 'C14_1039',\n",
       " 'C14_10532',\n",
       " 'C14_10536',\n",
       " 'C14_10738',\n",
       " 'C14_10739',\n",
       " 'C14_10740',\n",
       " 'C14_10741',\n",
       " 'C14_10742',\n",
       " 'C14_10743',\n",
       " 'C14_10897',\n",
       " 'C14_11142',\n",
       " 'C14_11144',\n",
       " 'C14_11188',\n",
       " 'C14_11190',\n",
       " 'C14_11193',\n",
       " 'C14_11323',\n",
       " 'C14_11325',\n",
       " 'C14_12000',\n",
       " 'C14_12012',\n",
       " 'C14_12026',\n",
       " 'C14_12034',\n",
       " 'C14_12043',\n",
       " 'C14_12199',\n",
       " 'C14_12217',\n",
       " 'C14_12469',\n",
       " 'C14_12470',\n",
       " 'C14_12471',\n",
       " 'C14_12472',\n",
       " 'C14_12477',\n",
       " 'C14_1266',\n",
       " 'C14_1267',\n",
       " 'C14_1268',\n",
       " 'C14_1272',\n",
       " 'C14_1275',\n",
       " 'C14_1276',\n",
       " 'C14_1278',\n",
       " 'C14_13557',\n",
       " 'C14_13558',\n",
       " 'C14_13560',\n",
       " 'C14_13643',\n",
       " 'C14_13644',\n",
       " 'C14_13777',\n",
       " 'C14_13778',\n",
       " 'C14_13779',\n",
       " 'C14_13780',\n",
       " 'C14_13781',\n",
       " 'C14_13782',\n",
       " 'C14_13783',\n",
       " 'C14_14140',\n",
       " 'C14_14142',\n",
       " 'C14_14202',\n",
       " 'C14_14264',\n",
       " 'C14_14265',\n",
       " 'C14_14266',\n",
       " 'C14_14283',\n",
       " 'C14_14983',\n",
       " 'C14_14985',\n",
       " 'C14_14988',\n",
       " 'C14_15005',\n",
       " 'C14_15006',\n",
       " 'C14_15010',\n",
       " 'C14_15016',\n",
       " 'C14_15017',\n",
       " 'C14_15385',\n",
       " 'C14_15387',\n",
       " 'C14_15388',\n",
       " 'C14_15390',\n",
       " 'C14_15503',\n",
       " 'C14_15504',\n",
       " 'C14_15505',\n",
       " 'C14_15506',\n",
       " 'C14_15507',\n",
       " 'C14_15508',\n",
       " 'C14_15509',\n",
       " 'C14_15511',\n",
       " 'C14_15512',\n",
       " 'C14_15513',\n",
       " 'C14_15514',\n",
       " 'C14_15515',\n",
       " 'C14_15516',\n",
       " 'C14_15538',\n",
       " 'C14_15539',\n",
       " 'C14_15540',\n",
       " 'C14_15543',\n",
       " 'C14_15575',\n",
       " 'C14_15698',\n",
       " 'C14_15699',\n",
       " 'C14_15700',\n",
       " 'C14_15701',\n",
       " 'C14_15702',\n",
       " 'C14_15703',\n",
       " 'C14_15704',\n",
       " 'C14_15705',\n",
       " 'C14_15706',\n",
       " 'C14_15707',\n",
       " 'C14_15708',\n",
       " 'C14_15827',\n",
       " 'C14_15829',\n",
       " 'C14_15838',\n",
       " 'C14_15839',\n",
       " 'C14_15840',\n",
       " 'C14_15841',\n",
       " 'C14_15847',\n",
       " 'C14_15908',\n",
       " 'C14_16011',\n",
       " 'C14_16071',\n",
       " 'C14_16152',\n",
       " 'C14_16153',\n",
       " 'C14_16204',\n",
       " 'C14_16208',\n",
       " 'C14_16250',\n",
       " 'C14_16251',\n",
       " 'C14_16252',\n",
       " 'C14_16263',\n",
       " 'C14_16339',\n",
       " 'C14_16340',\n",
       " 'C14_16341',\n",
       " 'C14_16342',\n",
       " 'C14_16343',\n",
       " 'C14_16350',\n",
       " 'C14_16352',\n",
       " 'C14_16403',\n",
       " 'C14_16405',\n",
       " 'C14_16406',\n",
       " 'C14_16407',\n",
       " 'C14_16408',\n",
       " 'C14_16615',\n",
       " 'C14_16685',\n",
       " 'C14_16687',\n",
       " 'C14_16688',\n",
       " 'C14_16838',\n",
       " 'C14_16841',\n",
       " 'C14_16858',\n",
       " 'C14_16859',\n",
       " 'C14_16920',\n",
       " 'C14_16932',\n",
       " 'C14_16934',\n",
       " 'C14_16989',\n",
       " 'C14_17014',\n",
       " 'C14_17016',\n",
       " 'C14_17017',\n",
       " 'C14_17026',\n",
       " 'C14_17037',\n",
       " 'C14_17062',\n",
       " 'C14_17081',\n",
       " 'C14_17109',\n",
       " 'C14_17156',\n",
       " 'C14_17163',\n",
       " 'C14_17170',\n",
       " 'C14_17171',\n",
       " 'C14_17208',\n",
       " 'C14_17209',\n",
       " 'C14_17212',\n",
       " 'C14_17234',\n",
       " 'C14_17239',\n",
       " 'C14_17262',\n",
       " 'C14_17263',\n",
       " 'C14_17264',\n",
       " 'C14_17444',\n",
       " 'C14_17566',\n",
       " 'C14_17573',\n",
       " 'C14_17583',\n",
       " 'C14_17586',\n",
       " 'C14_17614',\n",
       " 'C14_17653',\n",
       " 'C14_17654',\n",
       " 'C14_17661',\n",
       " 'C14_17670',\n",
       " 'C14_17671',\n",
       " 'C14_17706',\n",
       " 'C14_17709',\n",
       " 'C14_17747',\n",
       " 'C14_17753',\n",
       " 'C14_17755',\n",
       " 'C14_17757',\n",
       " 'C14_17758',\n",
       " 'C14_17759',\n",
       " 'C14_17786',\n",
       " 'C14_17863',\n",
       " 'C14_17875',\n",
       " 'C14_17877',\n",
       " 'C14_17893',\n",
       " 'C14_17894',\n",
       " 'C14_17914',\n",
       " 'C14_18091',\n",
       " 'C14_18092',\n",
       " 'C14_18093',\n",
       " 'C14_18094',\n",
       " 'C14_18095',\n",
       " 'C14_18311',\n",
       " 'C14_18314',\n",
       " 'C14_18316',\n",
       " 'C14_18405',\n",
       " 'C14_18419',\n",
       " 'C14_18430',\n",
       " 'C14_18447',\n",
       " 'C14_18452',\n",
       " 'C14_18454',\n",
       " 'C14_18455',\n",
       " 'C14_18457',\n",
       " 'C14_18459',\n",
       " 'C14_18461',\n",
       " 'C14_18467',\n",
       " 'C14_18468',\n",
       " 'C14_18475',\n",
       " 'C14_18489',\n",
       " 'C14_18492',\n",
       " 'C14_18493',\n",
       " 'C14_18495',\n",
       " 'C14_18496',\n",
       " 'C14_18503',\n",
       " 'C14_18510',\n",
       " 'C14_18532',\n",
       " 'C14_18536',\n",
       " 'C14_18539',\n",
       " 'C14_18542',\n",
       " 'C14_18546',\n",
       " 'C14_18553',\n",
       " 'C14_18560',\n",
       " 'C14_18564',\n",
       " 'C14_18567',\n",
       " 'C14_18568',\n",
       " 'C14_18571',\n",
       " 'C14_18572',\n",
       " 'C14_18573',\n",
       " 'C14_18574',\n",
       " 'C14_18578',\n",
       " 'C14_18581',\n",
       " 'C14_18584',\n",
       " 'C14_18587',\n",
       " 'C14_18588',\n",
       " 'C14_18594',\n",
       " 'C14_18595',\n",
       " 'C14_18599',\n",
       " 'C14_18602',\n",
       " 'C14_18648',\n",
       " 'C14_18854',\n",
       " 'C14_18856',\n",
       " 'C14_18858',\n",
       " 'C14_18859',\n",
       " 'C14_18861',\n",
       " 'C14_18920',\n",
       " 'C14_18924',\n",
       " 'C14_18925',\n",
       " 'C14_18934',\n",
       " 'C14_18936',\n",
       " 'C14_18945',\n",
       " 'C14_18946',\n",
       " 'C14_18947',\n",
       " 'C14_18949',\n",
       " 'C14_18950',\n",
       " 'C14_18952',\n",
       " 'C14_18953',\n",
       " 'C14_18954',\n",
       " 'C14_18985',\n",
       " 'C14_18986',\n",
       " 'C14_18987',\n",
       " 'C14_18993',\n",
       " 'C14_19015',\n",
       " 'C14_19016',\n",
       " 'C14_19143',\n",
       " 'C14_19146',\n",
       " 'C14_19176',\n",
       " 'C14_19178',\n",
       " 'C14_19196',\n",
       " 'C14_19197',\n",
       " 'C14_19215',\n",
       " 'C14_19216',\n",
       " 'C14_19251',\n",
       " 'C14_19276',\n",
       " 'C14_19277',\n",
       " 'C14_19278',\n",
       " 'C14_19279',\n",
       " 'C14_19284',\n",
       " 'C14_19370',\n",
       " 'C14_19418',\n",
       " 'C14_19421',\n",
       " 'C14_19436',\n",
       " 'C14_19454',\n",
       " 'C14_19493',\n",
       " 'C14_19591',\n",
       " 'C14_19592',\n",
       " 'C14_19593',\n",
       " 'C14_19594',\n",
       " 'C14_19595',\n",
       " 'C14_19597',\n",
       " 'C14_19631',\n",
       " 'C14_19632',\n",
       " 'C14_19635',\n",
       " 'C14_19641',\n",
       " 'C14_19665',\n",
       " 'C14_19666',\n",
       " 'C14_19668',\n",
       " 'C14_19733',\n",
       " 'C14_19740',\n",
       " 'C14_19741',\n",
       " 'C14_19742',\n",
       " 'C14_19743',\n",
       " 'C14_19745',\n",
       " 'C14_19748',\n",
       " 'C14_19749',\n",
       " 'C14_19771',\n",
       " 'C14_19772',\n",
       " 'C14_19775',\n",
       " 'C14_19776',\n",
       " 'C14_19865',\n",
       " 'C14_19870',\n",
       " 'C14_19878',\n",
       " 'C14_19950',\n",
       " 'C14_19951',\n",
       " 'C14_19982',\n",
       " 'C14_19983',\n",
       " 'C14_19984',\n",
       " 'C14_19985',\n",
       " 'C14_19986',\n",
       " 'C14_19988',\n",
       " 'C14_19998',\n",
       " 'C14_19999',\n",
       " 'C14_20000',\n",
       " 'C14_20001',\n",
       " 'C14_20002',\n",
       " 'C14_20003',\n",
       " 'C14_20004',\n",
       " 'C14_20005',\n",
       " 'C14_20006',\n",
       " 'C14_20007',\n",
       " 'C14_20008',\n",
       " 'C14_20009',\n",
       " 'C14_20010',\n",
       " 'C14_20011',\n",
       " 'C14_20012',\n",
       " 'C14_20013',\n",
       " 'C14_20014',\n",
       " 'C14_20015',\n",
       " 'C14_20016',\n",
       " 'C14_20018',\n",
       " 'C14_20019',\n",
       " 'C14_20048',\n",
       " 'C14_20071',\n",
       " 'C14_20072',\n",
       " 'C14_20077',\n",
       " 'C14_20093',\n",
       " 'C14_20108',\n",
       " 'C14_20122',\n",
       " 'C14_20128',\n",
       " 'C14_20130',\n",
       " 'C14_20131',\n",
       " 'C14_20133',\n",
       " 'C14_20135',\n",
       " 'C14_20143',\n",
       " 'C14_20144',\n",
       " 'C14_20145',\n",
       " 'C14_20146',\n",
       " 'C14_20147',\n",
       " 'C14_20148',\n",
       " 'C14_20149',\n",
       " 'C14_20151',\n",
       " 'C14_20152',\n",
       " 'C14_20153',\n",
       " 'C14_20170',\n",
       " 'C14_20173',\n",
       " 'C14_20213',\n",
       " 'C14_20214',\n",
       " 'C14_20215',\n",
       " 'C14_20251',\n",
       " 'C14_20262',\n",
       " 'C14_20271',\n",
       " 'C14_20272',\n",
       " 'C14_20273',\n",
       " 'C14_20274',\n",
       " 'C14_20277',\n",
       " 'C14_20279',\n",
       " 'C14_20280',\n",
       " 'C14_20282',\n",
       " 'C14_20284',\n",
       " 'C14_20285',\n",
       " 'C14_20287',\n",
       " 'C14_20288',\n",
       " 'C14_20289',\n",
       " 'C14_20291',\n",
       " 'C14_20295',\n",
       " 'C14_20312',\n",
       " 'C14_20345',\n",
       " 'C14_20346',\n",
       " 'C14_20352',\n",
       " 'C14_20355',\n",
       " 'C14_20359',\n",
       " 'C14_20360',\n",
       " 'C14_20361',\n",
       " 'C14_20362',\n",
       " 'C14_20363',\n",
       " 'C14_20364',\n",
       " 'C14_20365',\n",
       " 'C14_20366',\n",
       " 'C14_20382',\n",
       " 'C14_20384',\n",
       " 'C14_20385',\n",
       " 'C14_20386',\n",
       " 'C14_20387',\n",
       " 'C14_20388',\n",
       " 'C14_20389',\n",
       " 'C14_20390',\n",
       " 'C14_20391',\n",
       " 'C14_20392',\n",
       " 'C14_20393',\n",
       " 'C14_20394',\n",
       " 'C14_20395',\n",
       " 'C14_20396',\n",
       " 'C14_20397',\n",
       " 'C14_20476',\n",
       " 'C14_20477',\n",
       " 'C14_20478',\n",
       " 'C14_20508',\n",
       " 'C14_20509',\n",
       " 'C14_20510',\n",
       " 'C14_20540',\n",
       " 'C14_20560',\n",
       " 'C14_20596',\n",
       " 'C14_20617',\n",
       " 'C14_20619',\n",
       " 'C14_20626',\n",
       " 'C14_20632',\n",
       " 'C14_20633',\n",
       " 'C14_20634',\n",
       " 'C14_20635',\n",
       " 'C14_20731',\n",
       " 'C14_20743',\n",
       " 'C14_20744',\n",
       " 'C14_20750',\n",
       " 'C14_20751',\n",
       " 'C14_20966',\n",
       " 'C14_20969',\n",
       " 'C14_20970',\n",
       " 'C14_20980',\n",
       " 'C14_20984',\n",
       " 'C14_20993',\n",
       " 'C14_20995',\n",
       " 'C14_20996',\n",
       " 'C14_20997',\n",
       " 'C14_20998',\n",
       " 'C14_20999',\n",
       " 'C14_21093',\n",
       " 'C14_21135',\n",
       " 'C14_21137',\n",
       " 'C14_21138',\n",
       " 'C14_21153',\n",
       " 'C14_21154',\n",
       " 'C14_21155',\n",
       " 'C14_21156',\n",
       " 'C14_21157',\n",
       " 'C14_21159',\n",
       " 'C14_21160',\n",
       " 'C14_21161',\n",
       " 'C14_21189',\n",
       " 'C14_21191',\n",
       " 'C14_21192',\n",
       " 'C14_21194',\n",
       " 'C14_21195',\n",
       " 'C14_21196',\n",
       " 'C14_21197',\n",
       " 'C14_21200',\n",
       " 'C14_21201',\n",
       " 'C14_21202',\n",
       " 'C14_21204',\n",
       " 'C14_21205',\n",
       " 'C14_21207',\n",
       " 'C14_21230',\n",
       " 'C14_21234',\n",
       " 'C14_21235',\n",
       " 'C14_21241',\n",
       " 'C14_21246',\n",
       " 'C14_21247',\n",
       " 'C14_21248',\n",
       " 'C14_21249',\n",
       " 'C14_21250',\n",
       " 'C14_21273',\n",
       " 'C14_21274',\n",
       " 'C14_21276',\n",
       " 'C14_21277',\n",
       " 'C14_21278',\n",
       " 'C14_21300',\n",
       " 'C14_21309',\n",
       " 'C14_21310',\n",
       " 'C14_21311',\n",
       " 'C14_21314',\n",
       " 'C14_21315',\n",
       " 'C14_21316',\n",
       " 'C14_21325',\n",
       " 'C14_21327',\n",
       " 'C14_21328',\n",
       " 'C14_21329',\n",
       " 'C14_21330',\n",
       " 'C14_21331',\n",
       " 'C14_21333',\n",
       " 'C14_21367',\n",
       " 'C14_21399',\n",
       " 'C14_21400',\n",
       " 'C14_21401',\n",
       " 'C14_21404',\n",
       " 'C14_21408',\n",
       " 'C14_21409',\n",
       " 'C14_21410',\n",
       " 'C14_21411',\n",
       " 'C14_21412',\n",
       " 'C14_21413',\n",
       " 'C14_21475',\n",
       " 'C14_21476',\n",
       " 'C14_21478',\n",
       " 'C14_21480',\n",
       " 'C14_21481',\n",
       " 'C14_21482',\n",
       " 'C14_21483',\n",
       " 'C14_21484',\n",
       " 'C14_21485',\n",
       " 'C14_21486',\n",
       " 'C14_21555',\n",
       " 'C14_21556',\n",
       " 'C14_21557',\n",
       " 'C14_21558',\n",
       " 'C14_21559',\n",
       " 'C14_21560',\n",
       " 'C14_21561',\n",
       " 'C14_21562',\n",
       " 'C14_21563',\n",
       " 'C14_21564',\n",
       " 'C14_21566',\n",
       " 'C14_21567',\n",
       " 'C14_21569',\n",
       " 'C14_21570',\n",
       " 'C14_21571',\n",
       " 'C14_21589',\n",
       " 'C14_21590',\n",
       " 'C14_21591',\n",
       " 'C14_21592',\n",
       " 'C14_21593',\n",
       " 'C14_21594',\n",
       " 'C14_21595',\n",
       " 'C14_21600',\n",
       " 'C14_21609',\n",
       " 'C14_21610',\n",
       " 'C14_21611',\n",
       " 'C14_21612',\n",
       " 'C14_21614',\n",
       " 'C14_21616',\n",
       " 'C14_21617',\n",
       " 'C14_21618',\n",
       " 'C14_21619',\n",
       " 'C14_21620',\n",
       " 'C14_21621',\n",
       " 'C14_21622',\n",
       " 'C14_21623',\n",
       " 'C14_21624',\n",
       " 'C14_21625',\n",
       " 'C14_21626',\n",
       " 'C14_21627',\n",
       " 'C14_21628',\n",
       " 'C14_21629',\n",
       " 'C14_21630',\n",
       " 'C14_21631',\n",
       " 'C14_21632',\n",
       " 'C14_21633',\n",
       " 'C14_21640',\n",
       " 'C14_21647',\n",
       " 'C14_21652',\n",
       " 'C14_21653',\n",
       " 'C14_21654',\n",
       " 'C14_21655',\n",
       " 'C14_21660',\n",
       " 'C14_21661',\n",
       " 'C14_21662',\n",
       " 'C14_21663',\n",
       " 'C14_21664',\n",
       " 'C14_21665',\n",
       " 'C14_21666',\n",
       " 'C14_21667',\n",
       " 'C14_21668',\n",
       " 'C14_21669',\n",
       " 'C14_21671',\n",
       " 'C14_21673',\n",
       " 'C14_21674',\n",
       " 'C14_21675',\n",
       " 'C14_21676',\n",
       " 'C14_21677',\n",
       " 'C14_21678',\n",
       " 'C14_21679',\n",
       " 'C14_21680',\n",
       " 'C14_21681',\n",
       " 'C14_21682',\n",
       " 'C14_21683',\n",
       " 'C14_21684',\n",
       " 'C14_21685',\n",
       " 'C14_21686',\n",
       " 'C14_21687',\n",
       " 'C14_21688',\n",
       " 'C14_21689',\n",
       " 'C14_21690',\n",
       " 'C14_21691',\n",
       " 'C14_21693',\n",
       " 'C14_21694',\n",
       " 'C14_21695',\n",
       " 'C14_21696',\n",
       " 'C14_21697',\n",
       " 'C14_21698',\n",
       " 'C14_21699',\n",
       " 'C14_21700',\n",
       " 'C14_21701',\n",
       " 'C14_21702',\n",
       " 'C14_21703',\n",
       " 'C14_21704',\n",
       " 'C14_21705',\n",
       " 'C14_21706',\n",
       " 'C14_21715',\n",
       " 'C14_21723',\n",
       " 'C14_21724',\n",
       " 'C14_21725',\n",
       " 'C14_21726',\n",
       " 'C14_21727',\n",
       " 'C14_21729',\n",
       " 'C14_21730',\n",
       " 'C14_21731',\n",
       " 'C14_21732',\n",
       " 'C14_21734',\n",
       " 'C14_21737',\n",
       " 'C14_21738',\n",
       " 'C14_21739',\n",
       " 'C14_21741',\n",
       " 'C14_21743',\n",
       " 'C14_21744',\n",
       " 'C14_21745',\n",
       " 'C14_21746',\n",
       " 'C14_21747',\n",
       " 'C14_21748',\n",
       " 'C14_21749',\n",
       " 'C14_21751',\n",
       " 'C14_21755',\n",
       " 'C14_21757',\n",
       " 'C14_21758',\n",
       " 'C14_21759',\n",
       " 'C14_21760',\n",
       " 'C14_21761',\n",
       " 'C14_21762',\n",
       " 'C14_21763',\n",
       " 'C14_21764',\n",
       " 'C14_21765',\n",
       " 'C14_21766',\n",
       " 'C14_21767',\n",
       " 'C14_21768',\n",
       " 'C14_21769',\n",
       " 'C14_21770',\n",
       " 'C14_21771',\n",
       " 'C14_21772',\n",
       " 'C14_21773',\n",
       " 'C14_21774',\n",
       " 'C14_21775',\n",
       " 'C14_21776',\n",
       " 'C14_21777',\n",
       " 'C14_21778',\n",
       " 'C14_21779',\n",
       " 'C14_21780',\n",
       " 'C14_21789',\n",
       " 'C14_21790',\n",
       " 'C14_21791',\n",
       " 'C14_21792',\n",
       " 'C14_21793',\n",
       " 'C14_21794',\n",
       " 'C14_21795',\n",
       " 'C14_21801',\n",
       " 'C14_21803',\n",
       " 'C14_21812',\n",
       " 'C14_21814',\n",
       " 'C14_21816',\n",
       " 'C14_21817',\n",
       " 'C14_21818',\n",
       " 'C14_21819',\n",
       " 'C14_21820',\n",
       " 'C14_21821',\n",
       " 'C14_21822',\n",
       " 'C14_21827',\n",
       " 'C14_21828',\n",
       " 'C14_21829',\n",
       " 'C14_21830',\n",
       " 'C14_21831',\n",
       " 'C14_21832',\n",
       " 'C14_21833',\n",
       " 'C14_21834',\n",
       " 'C14_21835',\n",
       " 'C14_21836',\n",
       " 'C14_21837',\n",
       " 'C14_21838',\n",
       " 'C14_21841',\n",
       " 'C14_21842',\n",
       " 'C14_21844',\n",
       " 'C14_21845',\n",
       " 'C14_21846',\n",
       " 'C14_21847',\n",
       " 'C14_21848',\n",
       " 'C14_21849',\n",
       " 'C14_21850',\n",
       " 'C14_21851',\n",
       " 'C14_21853',\n",
       " 'C14_21860',\n",
       " 'C14_21862',\n",
       " 'C14_21863',\n",
       " 'C14_21869',\n",
       " 'C14_21873',\n",
       " 'C14_21874',\n",
       " 'C14_21875',\n",
       " 'C14_21876',\n",
       " 'C14_21877',\n",
       " 'C14_21878',\n",
       " 'C14_21880',\n",
       " 'C14_21882',\n",
       " 'C14_21883',\n",
       " 'C14_21885',\n",
       " 'C14_21886',\n",
       " 'C14_21887',\n",
       " 'C14_21888',\n",
       " 'C14_21889',\n",
       " 'C14_21890',\n",
       " 'C14_21891',\n",
       " 'C14_21892',\n",
       " 'C14_21893',\n",
       " 'C14_21894',\n",
       " 'C14_21895',\n",
       " 'C14_21897',\n",
       " 'C14_21898',\n",
       " 'C14_21900',\n",
       " 'C14_21902',\n",
       " 'C14_21912',\n",
       " 'C14_21913',\n",
       " 'C14_21914',\n",
       " 'C14_21916',\n",
       " 'C14_21917',\n",
       " 'C14_21918',\n",
       " 'C14_21919',\n",
       " 'C14_21921',\n",
       " 'C14_21922',\n",
       " 'C14_21923',\n",
       " 'C14_21924',\n",
       " 'C14_21950',\n",
       " 'C14_21951',\n",
       " 'C14_21952',\n",
       " 'C14_21953',\n",
       " 'C14_21954',\n",
       " 'C14_21955',\n",
       " 'C14_21956',\n",
       " 'C14_21957',\n",
       " 'C14_21960',\n",
       " 'C14_21961',\n",
       " 'C14_21962',\n",
       " 'C14_21965',\n",
       " 'C14_21966',\n",
       " 'C14_21972',\n",
       " 'C14_21975',\n",
       " 'C14_21979',\n",
       " 'C14_21980',\n",
       " 'C14_21981',\n",
       " 'C14_21982',\n",
       " 'C14_21983',\n",
       " 'C14_21984',\n",
       " 'C14_21985',\n",
       " 'C14_21987',\n",
       " 'C14_21988',\n",
       " 'C14_21990',\n",
       " 'C14_21991',\n",
       " 'C14_21992',\n",
       " 'C14_21993',\n",
       " 'C14_21994',\n",
       " 'C14_21995',\n",
       " 'C14_21996',\n",
       " 'C14_21997',\n",
       " 'C14_21998',\n",
       " 'C14_21999',\n",
       " 'C14_22000',\n",
       " 'C14_22001',\n",
       " 'C14_22002',\n",
       " 'C14_22003',\n",
       " 'C14_22006',\n",
       " 'C14_22007',\n",
       " 'C14_22008',\n",
       " 'C14_22009',\n",
       " 'C14_22010',\n",
       " 'C14_22011',\n",
       " 'C14_22016',\n",
       " 'C14_22017',\n",
       " 'C14_22019',\n",
       " 'C14_22021',\n",
       " 'C14_22022',\n",
       " 'C14_22023',\n",
       " 'C14_22024',\n",
       " 'C14_22025',\n",
       " 'C14_22026',\n",
       " 'C14_22027',\n",
       " 'C14_22028',\n",
       " 'C14_22029',\n",
       " 'C14_22057',\n",
       " 'C14_22064',\n",
       " 'C14_22067',\n",
       " 'C14_22069',\n",
       " 'C14_22077',\n",
       " 'C14_22083',\n",
       " 'C14_22085',\n",
       " 'C14_22086',\n",
       " 'C14_22089',\n",
       " 'C14_22090',\n",
       " 'C14_22092',\n",
       " 'C14_22094',\n",
       " 'C14_22097',\n",
       " 'C14_22102',\n",
       " 'C14_22103',\n",
       " 'C14_22104',\n",
       " 'C14_22105',\n",
       " 'C14_22106',\n",
       " 'C14_22107',\n",
       " 'C14_22108',\n",
       " 'C14_22109',\n",
       " 'C14_22110',\n",
       " 'C14_22111',\n",
       " 'C14_22112',\n",
       " 'C14_22113',\n",
       " 'C14_22114',\n",
       " 'C14_22115',\n",
       " 'C14_22116',\n",
       " 'C14_22117',\n",
       " 'C14_22118',\n",
       " 'C14_22120',\n",
       " 'C14_22122',\n",
       " 'C14_22127',\n",
       " 'C14_22133',\n",
       " 'C14_22137',\n",
       " 'C14_22140',\n",
       " 'C14_22141',\n",
       " 'C14_22142',\n",
       " 'C14_22143',\n",
       " 'C14_22144',\n",
       " 'C14_22147',\n",
       " 'C14_22151',\n",
       " 'C14_22152',\n",
       " 'C14_22153',\n",
       " 'C14_22154',\n",
       " 'C14_22155',\n",
       " 'C14_22156',\n",
       " 'C14_22157',\n",
       " 'C14_22158',\n",
       " 'C14_22159',\n",
       " 'C14_22160',\n",
       " 'C14_22161',\n",
       " 'C14_22162',\n",
       " 'C14_22163',\n",
       " 'C14_22164',\n",
       " 'C14_22165',\n",
       " 'C14_22166',\n",
       " 'C14_22167',\n",
       " 'C14_22168',\n",
       " 'C14_22169',\n",
       " 'C14_22170',\n",
       " 'C14_22171',\n",
       " 'C14_22172',\n",
       " 'C14_22173',\n",
       " 'C14_22174',\n",
       " 'C14_22175',\n",
       " 'C14_22176',\n",
       " 'C14_22177',\n",
       " 'C14_22178',\n",
       " 'C14_22179',\n",
       " 'C14_22180',\n",
       " 'C14_22181',\n",
       " 'C14_22182',\n",
       " 'C14_22183',\n",
       " 'C14_22184',\n",
       " 'C14_22185',\n",
       " 'C14_22186',\n",
       " 'C14_22187',\n",
       " 'C14_22188',\n",
       " 'C14_22189',\n",
       " 'C14_22190',\n",
       " 'C14_22191',\n",
       " 'C14_22192',\n",
       " 'C14_22193',\n",
       " 'C14_22195',\n",
       " 'C14_22196',\n",
       " 'C14_22197',\n",
       " 'C14_22198',\n",
       " 'C14_22200',\n",
       " 'C14_22202',\n",
       " 'C14_22218',\n",
       " 'C14_22219',\n",
       " 'C14_22220',\n",
       " 'C14_22221',\n",
       " 'C14_22222',\n",
       " 'C14_22224',\n",
       " 'C14_22225',\n",
       " 'C14_22228',\n",
       " 'C14_22236',\n",
       " 'C14_22238',\n",
       " 'C14_22240',\n",
       " 'C14_22241',\n",
       " 'C14_22242',\n",
       " 'C14_22243',\n",
       " 'C14_22244',\n",
       " 'C14_22245',\n",
       " 'C14_22246',\n",
       " 'C14_22247',\n",
       " 'C14_22254',\n",
       " 'C14_22255',\n",
       " 'C14_22256',\n",
       " 'C14_22257',\n",
       " 'C14_22258',\n",
       " 'C14_22259',\n",
       " 'C14_22260',\n",
       " 'C14_22261',\n",
       " 'C14_22262',\n",
       " 'C14_22263',\n",
       " 'C14_22264',\n",
       " 'C14_22265',\n",
       " 'C14_22267',\n",
       " 'C14_22268',\n",
       " 'C14_22269',\n",
       " 'C14_22270',\n",
       " 'C14_22271',\n",
       " 'C14_22272',\n",
       " 'C14_22273',\n",
       " 'C14_22275',\n",
       " 'C14_22277',\n",
       " 'C14_22278',\n",
       " 'C14_22279',\n",
       " 'C14_22280',\n",
       " 'C14_22283',\n",
       " 'C14_22284',\n",
       " 'C14_22287',\n",
       " 'C14_22288',\n",
       " 'C14_22289',\n",
       " 'C14_22290',\n",
       " 'C14_22291',\n",
       " 'C14_22292',\n",
       " 'C14_22293',\n",
       " 'C14_22294',\n",
       " 'C14_22295',\n",
       " 'C14_22296',\n",
       " 'C14_22297',\n",
       " 'C14_22298',\n",
       " 'C14_22299',\n",
       " 'C14_22300',\n",
       " 'C14_22301',\n",
       " 'C14_22302',\n",
       " 'C14_22303',\n",
       " 'C14_22304',\n",
       " 'C14_22305',\n",
       " 'C14_22306',\n",
       " 'C14_22307',\n",
       " 'C14_22308',\n",
       " 'C14_22309',\n",
       " 'C14_22310',\n",
       " 'C14_22311',\n",
       " 'C14_22312',\n",
       " 'C14_22313',\n",
       " 'C14_22314',\n",
       " 'C14_22315',\n",
       " 'C14_22316',\n",
       " 'C14_22318',\n",
       " 'C14_22322',\n",
       " 'C14_22324',\n",
       " 'C14_22325',\n",
       " 'C14_22326',\n",
       " 'C14_22327',\n",
       " 'C14_22328',\n",
       " 'C14_22329',\n",
       " 'C14_22330',\n",
       " 'C14_22332',\n",
       " 'C14_22335',\n",
       " 'C14_22336',\n",
       " 'C14_22338',\n",
       " 'C14_22343',\n",
       " 'C14_22350',\n",
       " 'C14_22359',\n",
       " 'C14_22362',\n",
       " 'C14_22366',\n",
       " 'C14_22371',\n",
       " 'C14_22373',\n",
       " 'C14_22380',\n",
       " 'C14_22400',\n",
       " 'C14_22406',\n",
       " 'C14_22407',\n",
       " 'C14_22411',\n",
       " 'C14_22414',\n",
       " 'C14_22418',\n",
       " 'C14_22458',\n",
       " 'C14_22459',\n",
       " 'C14_22461',\n",
       " 'C14_22462',\n",
       " 'C14_22464',\n",
       " 'C14_22466',\n",
       " 'C14_22467',\n",
       " 'C14_22468',\n",
       " 'C14_22469',\n",
       " 'C14_22473',\n",
       " 'C14_22474',\n",
       " 'C14_22480',\n",
       " ...]"
      ]
     },
     "execution_count": 55,
     "metadata": {},
     "output_type": "execute_result"
    }
   ],
   "source": [
    "col_to_remove"
   ]
  },
  {
   "cell_type": "code",
   "execution_count": 56,
   "id": "35aea792",
   "metadata": {},
   "outputs": [],
   "source": [
    "X_2 = X.drop(col_to_remove,axis=1)"
   ]
  },
  {
   "cell_type": "code",
   "execution_count": 57,
   "id": "ca6117d2",
   "metadata": {},
   "outputs": [
    {
     "data": {
      "text/html": [
       "<div>\n",
       "<style scoped>\n",
       "    .dataframe tbody tr th:only-of-type {\n",
       "        vertical-align: middle;\n",
       "    }\n",
       "\n",
       "    .dataframe tbody tr th {\n",
       "        vertical-align: top;\n",
       "    }\n",
       "\n",
       "    .dataframe thead th {\n",
       "        text-align: right;\n",
       "    }\n",
       "</style>\n",
       "<table border=\"1\" class=\"dataframe\">\n",
       "  <thead>\n",
       "    <tr style=\"text-align: right;\">\n",
       "      <th></th>\n",
       "      <th>device_type</th>\n",
       "      <th>device_conn_type</th>\n",
       "      <th>dayofweek</th>\n",
       "      <th>day</th>\n",
       "      <th>hour</th>\n",
       "      <th>C1_1002</th>\n",
       "      <th>C1_1005</th>\n",
       "      <th>C1_1007</th>\n",
       "      <th>C1_1008</th>\n",
       "      <th>C1_1010</th>\n",
       "      <th>...</th>\n",
       "      <th>app_category_8ded1f7a</th>\n",
       "      <th>app_category_8df2e842</th>\n",
       "      <th>app_category_a3c42688</th>\n",
       "      <th>app_category_a7fd01ec</th>\n",
       "      <th>app_category_a86a3e89</th>\n",
       "      <th>app_category_cef3e649</th>\n",
       "      <th>app_category_d1327cf5</th>\n",
       "      <th>app_category_dc97ec06</th>\n",
       "      <th>app_category_f95efa07</th>\n",
       "      <th>app_category_fc6fa53d</th>\n",
       "    </tr>\n",
       "  </thead>\n",
       "  <tbody>\n",
       "    <tr>\n",
       "      <th>0</th>\n",
       "      <td>1</td>\n",
       "      <td>0</td>\n",
       "      <td>1</td>\n",
       "      <td>28</td>\n",
       "      <td>14</td>\n",
       "      <td>0</td>\n",
       "      <td>1</td>\n",
       "      <td>0</td>\n",
       "      <td>0</td>\n",
       "      <td>0</td>\n",
       "      <td>...</td>\n",
       "      <td>0</td>\n",
       "      <td>0</td>\n",
       "      <td>0</td>\n",
       "      <td>0</td>\n",
       "      <td>0</td>\n",
       "      <td>0</td>\n",
       "      <td>0</td>\n",
       "      <td>0</td>\n",
       "      <td>0</td>\n",
       "      <td>0</td>\n",
       "    </tr>\n",
       "    <tr>\n",
       "      <th>1</th>\n",
       "      <td>1</td>\n",
       "      <td>0</td>\n",
       "      <td>2</td>\n",
       "      <td>22</td>\n",
       "      <td>19</td>\n",
       "      <td>0</td>\n",
       "      <td>1</td>\n",
       "      <td>0</td>\n",
       "      <td>0</td>\n",
       "      <td>0</td>\n",
       "      <td>...</td>\n",
       "      <td>0</td>\n",
       "      <td>0</td>\n",
       "      <td>0</td>\n",
       "      <td>0</td>\n",
       "      <td>0</td>\n",
       "      <td>0</td>\n",
       "      <td>0</td>\n",
       "      <td>0</td>\n",
       "      <td>0</td>\n",
       "      <td>0</td>\n",
       "    </tr>\n",
       "    <tr>\n",
       "      <th>2</th>\n",
       "      <td>1</td>\n",
       "      <td>0</td>\n",
       "      <td>3</td>\n",
       "      <td>23</td>\n",
       "      <td>18</td>\n",
       "      <td>0</td>\n",
       "      <td>1</td>\n",
       "      <td>0</td>\n",
       "      <td>0</td>\n",
       "      <td>0</td>\n",
       "      <td>...</td>\n",
       "      <td>0</td>\n",
       "      <td>0</td>\n",
       "      <td>0</td>\n",
       "      <td>0</td>\n",
       "      <td>0</td>\n",
       "      <td>0</td>\n",
       "      <td>0</td>\n",
       "      <td>0</td>\n",
       "      <td>0</td>\n",
       "      <td>0</td>\n",
       "    </tr>\n",
       "    <tr>\n",
       "      <th>3</th>\n",
       "      <td>0</td>\n",
       "      <td>0</td>\n",
       "      <td>2</td>\n",
       "      <td>22</td>\n",
       "      <td>19</td>\n",
       "      <td>1</td>\n",
       "      <td>0</td>\n",
       "      <td>0</td>\n",
       "      <td>0</td>\n",
       "      <td>0</td>\n",
       "      <td>...</td>\n",
       "      <td>0</td>\n",
       "      <td>0</td>\n",
       "      <td>0</td>\n",
       "      <td>0</td>\n",
       "      <td>0</td>\n",
       "      <td>0</td>\n",
       "      <td>0</td>\n",
       "      <td>0</td>\n",
       "      <td>0</td>\n",
       "      <td>0</td>\n",
       "    </tr>\n",
       "    <tr>\n",
       "      <th>4</th>\n",
       "      <td>1</td>\n",
       "      <td>0</td>\n",
       "      <td>1</td>\n",
       "      <td>21</td>\n",
       "      <td>8</td>\n",
       "      <td>0</td>\n",
       "      <td>1</td>\n",
       "      <td>0</td>\n",
       "      <td>0</td>\n",
       "      <td>0</td>\n",
       "      <td>...</td>\n",
       "      <td>0</td>\n",
       "      <td>0</td>\n",
       "      <td>0</td>\n",
       "      <td>0</td>\n",
       "      <td>0</td>\n",
       "      <td>0</td>\n",
       "      <td>0</td>\n",
       "      <td>0</td>\n",
       "      <td>0</td>\n",
       "      <td>0</td>\n",
       "    </tr>\n",
       "    <tr>\n",
       "      <th>...</th>\n",
       "      <td>...</td>\n",
       "      <td>...</td>\n",
       "      <td>...</td>\n",
       "      <td>...</td>\n",
       "      <td>...</td>\n",
       "      <td>...</td>\n",
       "      <td>...</td>\n",
       "      <td>...</td>\n",
       "      <td>...</td>\n",
       "      <td>...</td>\n",
       "      <td>...</td>\n",
       "      <td>...</td>\n",
       "      <td>...</td>\n",
       "      <td>...</td>\n",
       "      <td>...</td>\n",
       "      <td>...</td>\n",
       "      <td>...</td>\n",
       "      <td>...</td>\n",
       "      <td>...</td>\n",
       "      <td>...</td>\n",
       "      <td>...</td>\n",
       "    </tr>\n",
       "    <tr>\n",
       "      <th>99994</th>\n",
       "      <td>1</td>\n",
       "      <td>0</td>\n",
       "      <td>3</td>\n",
       "      <td>23</td>\n",
       "      <td>15</td>\n",
       "      <td>0</td>\n",
       "      <td>1</td>\n",
       "      <td>0</td>\n",
       "      <td>0</td>\n",
       "      <td>0</td>\n",
       "      <td>...</td>\n",
       "      <td>0</td>\n",
       "      <td>0</td>\n",
       "      <td>0</td>\n",
       "      <td>0</td>\n",
       "      <td>0</td>\n",
       "      <td>0</td>\n",
       "      <td>0</td>\n",
       "      <td>0</td>\n",
       "      <td>0</td>\n",
       "      <td>0</td>\n",
       "    </tr>\n",
       "    <tr>\n",
       "      <th>99995</th>\n",
       "      <td>1</td>\n",
       "      <td>0</td>\n",
       "      <td>2</td>\n",
       "      <td>29</td>\n",
       "      <td>0</td>\n",
       "      <td>0</td>\n",
       "      <td>1</td>\n",
       "      <td>0</td>\n",
       "      <td>0</td>\n",
       "      <td>0</td>\n",
       "      <td>...</td>\n",
       "      <td>0</td>\n",
       "      <td>0</td>\n",
       "      <td>0</td>\n",
       "      <td>0</td>\n",
       "      <td>0</td>\n",
       "      <td>0</td>\n",
       "      <td>0</td>\n",
       "      <td>0</td>\n",
       "      <td>0</td>\n",
       "      <td>0</td>\n",
       "    </tr>\n",
       "    <tr>\n",
       "      <th>99996</th>\n",
       "      <td>1</td>\n",
       "      <td>0</td>\n",
       "      <td>2</td>\n",
       "      <td>22</td>\n",
       "      <td>15</td>\n",
       "      <td>0</td>\n",
       "      <td>1</td>\n",
       "      <td>0</td>\n",
       "      <td>0</td>\n",
       "      <td>0</td>\n",
       "      <td>...</td>\n",
       "      <td>0</td>\n",
       "      <td>0</td>\n",
       "      <td>0</td>\n",
       "      <td>0</td>\n",
       "      <td>0</td>\n",
       "      <td>1</td>\n",
       "      <td>0</td>\n",
       "      <td>0</td>\n",
       "      <td>0</td>\n",
       "      <td>0</td>\n",
       "    </tr>\n",
       "    <tr>\n",
       "      <th>99997</th>\n",
       "      <td>1</td>\n",
       "      <td>0</td>\n",
       "      <td>5</td>\n",
       "      <td>25</td>\n",
       "      <td>8</td>\n",
       "      <td>0</td>\n",
       "      <td>1</td>\n",
       "      <td>0</td>\n",
       "      <td>0</td>\n",
       "      <td>0</td>\n",
       "      <td>...</td>\n",
       "      <td>0</td>\n",
       "      <td>0</td>\n",
       "      <td>0</td>\n",
       "      <td>0</td>\n",
       "      <td>0</td>\n",
       "      <td>0</td>\n",
       "      <td>0</td>\n",
       "      <td>0</td>\n",
       "      <td>0</td>\n",
       "      <td>0</td>\n",
       "    </tr>\n",
       "    <tr>\n",
       "      <th>99998</th>\n",
       "      <td>1</td>\n",
       "      <td>0</td>\n",
       "      <td>1</td>\n",
       "      <td>28</td>\n",
       "      <td>1</td>\n",
       "      <td>0</td>\n",
       "      <td>1</td>\n",
       "      <td>0</td>\n",
       "      <td>0</td>\n",
       "      <td>0</td>\n",
       "      <td>...</td>\n",
       "      <td>0</td>\n",
       "      <td>0</td>\n",
       "      <td>0</td>\n",
       "      <td>0</td>\n",
       "      <td>0</td>\n",
       "      <td>0</td>\n",
       "      <td>0</td>\n",
       "      <td>0</td>\n",
       "      <td>0</td>\n",
       "      <td>0</td>\n",
       "    </tr>\n",
       "  </tbody>\n",
       "</table>\n",
       "<p>99999 rows × 55 columns</p>\n",
       "</div>"
      ],
      "text/plain": [
       "       device_type  device_conn_type  dayofweek  day  hour  C1_1002  C1_1005  \\\n",
       "0                1                 0          1   28    14        0        1   \n",
       "1                1                 0          2   22    19        0        1   \n",
       "2                1                 0          3   23    18        0        1   \n",
       "3                0                 0          2   22    19        1        0   \n",
       "4                1                 0          1   21     8        0        1   \n",
       "...            ...               ...        ...  ...   ...      ...      ...   \n",
       "99994            1                 0          3   23    15        0        1   \n",
       "99995            1                 0          2   29     0        0        1   \n",
       "99996            1                 0          2   22    15        0        1   \n",
       "99997            1                 0          5   25     8        0        1   \n",
       "99998            1                 0          1   28     1        0        1   \n",
       "\n",
       "       C1_1007  C1_1008  C1_1010  ...  app_category_8ded1f7a  \\\n",
       "0            0        0        0  ...                      0   \n",
       "1            0        0        0  ...                      0   \n",
       "2            0        0        0  ...                      0   \n",
       "3            0        0        0  ...                      0   \n",
       "4            0        0        0  ...                      0   \n",
       "...        ...      ...      ...  ...                    ...   \n",
       "99994        0        0        0  ...                      0   \n",
       "99995        0        0        0  ...                      0   \n",
       "99996        0        0        0  ...                      0   \n",
       "99997        0        0        0  ...                      0   \n",
       "99998        0        0        0  ...                      0   \n",
       "\n",
       "       app_category_8df2e842  app_category_a3c42688  app_category_a7fd01ec  \\\n",
       "0                          0                      0                      0   \n",
       "1                          0                      0                      0   \n",
       "2                          0                      0                      0   \n",
       "3                          0                      0                      0   \n",
       "4                          0                      0                      0   \n",
       "...                      ...                    ...                    ...   \n",
       "99994                      0                      0                      0   \n",
       "99995                      0                      0                      0   \n",
       "99996                      0                      0                      0   \n",
       "99997                      0                      0                      0   \n",
       "99998                      0                      0                      0   \n",
       "\n",
       "       app_category_a86a3e89  app_category_cef3e649  app_category_d1327cf5  \\\n",
       "0                          0                      0                      0   \n",
       "1                          0                      0                      0   \n",
       "2                          0                      0                      0   \n",
       "3                          0                      0                      0   \n",
       "4                          0                      0                      0   \n",
       "...                      ...                    ...                    ...   \n",
       "99994                      0                      0                      0   \n",
       "99995                      0                      0                      0   \n",
       "99996                      0                      1                      0   \n",
       "99997                      0                      0                      0   \n",
       "99998                      0                      0                      0   \n",
       "\n",
       "       app_category_dc97ec06  app_category_f95efa07  app_category_fc6fa53d  \n",
       "0                          0                      0                      0  \n",
       "1                          0                      0                      0  \n",
       "2                          0                      0                      0  \n",
       "3                          0                      0                      0  \n",
       "4                          0                      0                      0  \n",
       "...                      ...                    ...                    ...  \n",
       "99994                      0                      0                      0  \n",
       "99995                      0                      0                      0  \n",
       "99996                      0                      0                      0  \n",
       "99997                      0                      0                      0  \n",
       "99998                      0                      0                      0  \n",
       "\n",
       "[99999 rows x 55 columns]"
      ]
     },
     "execution_count": 57,
     "metadata": {},
     "output_type": "execute_result"
    }
   ],
   "source": [
    "X_2"
   ]
  },
  {
   "cell_type": "code",
   "execution_count": 58,
   "id": "987ef5b8",
   "metadata": {},
   "outputs": [],
   "source": [
    "X_train_2, X_test_2, y_train_2, y_test_2 = train_test_split(X_2, y, test_size=0.3, random_state=0)"
   ]
  },
  {
   "cell_type": "code",
   "execution_count": 59,
   "id": "14a775e5",
   "metadata": {},
   "outputs": [
    {
     "data": {
      "text/plain": [
       "LogisticRegression()"
      ]
     },
     "execution_count": 59,
     "metadata": {},
     "output_type": "execute_result"
    }
   ],
   "source": [
    "model_2 = LogisticRegression()\n",
    "\n",
    "model_2.fit(X_train_2, y_train_2)"
   ]
  },
  {
   "cell_type": "code",
   "execution_count": 60,
   "id": "817881b3",
   "metadata": {},
   "outputs": [
    {
     "name": "stdout",
     "output_type": "stream",
     "text": [
      "0.8293333333333334\n"
     ]
    }
   ],
   "source": [
    "y_pred_2 = model_2.predict(X_test_2)\n",
    "print(metrics.accuracy_score(y_test_2,y_pred_2))\n",
    "# Accuracy of 82.93"
   ]
  },
  {
   "cell_type": "code",
   "execution_count": 61,
   "id": "c0e850a0",
   "metadata": {},
   "outputs": [
    {
     "name": "stdout",
     "output_type": "stream",
     "text": [
      "[[24880     0]\n",
      " [ 5120     0]]\n"
     ]
    }
   ],
   "source": [
    "cnf_matrix = metrics.confusion_matrix(y_test_2,y_pred_2)\n",
    "print(cnf_matrix)\n",
    "# Outputs are coming same as Base Classifier Model "
   ]
  },
  {
   "cell_type": "code",
   "execution_count": 62,
   "id": "ae235522",
   "metadata": {},
   "outputs": [
    {
     "data": {
      "text/plain": [
       "Index(['device_type', 'device_conn_type', 'dayofweek', 'day', 'hour',\n",
       "       'C1_1002', 'C1_1005', 'C1_1007', 'C1_1008', 'C1_1010', 'C1_1012',\n",
       "       'banner_pos_1', 'banner_pos_2', 'banner_pos_3', 'banner_pos_4',\n",
       "       'banner_pos_5', 'banner_pos_7', 'site_category_28905ebd',\n",
       "       'site_category_335d28a8', 'site_category_3e814130',\n",
       "       'site_category_42a36e14', 'site_category_50e219e0',\n",
       "       'site_category_5378d028', 'site_category_70fb0e29',\n",
       "       'site_category_72722551', 'site_category_75fa27f6',\n",
       "       'site_category_76b2941d', 'site_category_8fd0aea4',\n",
       "       'site_category_9ccfa2ea', 'site_category_a818d37a',\n",
       "       'site_category_c0dd3be3', 'site_category_dedf689d',\n",
       "       'site_category_e787de0e', 'site_category_f028772b',\n",
       "       'site_category_f66779e6', 'app_category_09481d60',\n",
       "       'app_category_0f2161f8', 'app_category_0f9a328c',\n",
       "       'app_category_2281a340', 'app_category_4681bb9d',\n",
       "       'app_category_4ce2e9fc', 'app_category_7113d72a',\n",
       "       'app_category_75d80bbe', 'app_category_79f0b860',\n",
       "       'app_category_879c24eb', 'app_category_8ded1f7a',\n",
       "       'app_category_8df2e842', 'app_category_a3c42688',\n",
       "       'app_category_a7fd01ec', 'app_category_a86a3e89',\n",
       "       'app_category_cef3e649', 'app_category_d1327cf5',\n",
       "       'app_category_dc97ec06', 'app_category_f95efa07',\n",
       "       'app_category_fc6fa53d'],\n",
       "      dtype='object')"
      ]
     },
     "execution_count": 62,
     "metadata": {},
     "output_type": "execute_result"
    }
   ],
   "source": [
    "X_2.columns"
   ]
  },
  {
   "cell_type": "markdown",
   "id": "c07730eb",
   "metadata": {},
   "source": [
    "## Model 3 :  Dropping Site Category and App Category Variables"
   ]
  },
  {
   "cell_type": "code",
   "execution_count": 63,
   "id": "ffe7fccd",
   "metadata": {},
   "outputs": [
    {
     "data": {
      "text/plain": [
       "Index(['device_type', 'device_conn_type', 'dayofweek', 'day', 'hour',\n",
       "       'C1_1002', 'C1_1005', 'C1_1007', 'C1_1008', 'C1_1010',\n",
       "       ...\n",
       "       'C21_71', 'C21_76', 'C21_79', 'C21_82', 'C21_85', 'C21_90', 'C21_91',\n",
       "       'C21_93', 'C21_94', 'C21_95'],\n",
       "      dtype='object', length=2467)"
      ]
     },
     "execution_count": 63,
     "metadata": {},
     "output_type": "execute_result"
    }
   ],
   "source": [
    "X.columns"
   ]
  },
  {
   "cell_type": "code",
   "execution_count": 64,
   "id": "8dc8ce37",
   "metadata": {},
   "outputs": [],
   "source": [
    "\n",
    "X_3 = X.drop([ 'site_category_28905ebd', 'site_category_335d28a8',\n",
    "       'site_category_3e814130', 'site_category_42a36e14',\n",
    "       'site_category_50e219e0', 'site_category_5378d028',\n",
    "       'site_category_70fb0e29', 'site_category_72722551',\n",
    "       'site_category_75fa27f6', 'site_category_76b2941d',\n",
    "       'site_category_8fd0aea4', 'site_category_9ccfa2ea',\n",
    "       'site_category_a818d37a', 'site_category_c0dd3be3',\n",
    "       'site_category_dedf689d', 'site_category_e787de0e',\n",
    "       'site_category_f028772b', 'site_category_f66779e6',\n",
    "       'app_category_09481d60', 'app_category_0f2161f8',\n",
    "       'app_category_0f9a328c', 'app_category_2281a340',\n",
    "       'app_category_4681bb9d', 'app_category_4ce2e9fc',\n",
    "       'app_category_7113d72a', 'app_category_75d80bbe',\n",
    "       'app_category_79f0b860', 'app_category_879c24eb',\n",
    "       'app_category_8ded1f7a', 'app_category_8df2e842',\n",
    "       'app_category_a3c42688', 'app_category_a7fd01ec',\n",
    "       'app_category_a86a3e89', 'app_category_cef3e649',\n",
    "       'app_category_d1327cf5', 'app_category_dc97ec06',\n",
    "       'app_category_f95efa07', 'app_category_fc6fa53d'], axis=1)"
   ]
  },
  {
   "cell_type": "code",
   "execution_count": 65,
   "id": "0559cded",
   "metadata": {},
   "outputs": [
    {
     "name": "stdout",
     "output_type": "stream",
     "text": [
      "0.8312666666666667\n"
     ]
    }
   ],
   "source": [
    "X_train_3, X_test_3, y_train_3, y_test_3 = train_test_split(X_3, y, test_size=0.3, random_state=0)\n",
    "model_3 = LogisticRegression()\n",
    "\n",
    "model_3.fit(X_train_3, y_train_3)\n",
    "y_pred_3 = model_3.predict(X_test_3)\n",
    "print(metrics.accuracy_score(y_test_3,y_pred_3))\n",
    "# Accuracy of 83.12 "
   ]
  },
  {
   "cell_type": "code",
   "execution_count": 66,
   "id": "dfea5d35",
   "metadata": {},
   "outputs": [
    {
     "data": {
      "text/plain": [
       "(69999, 2429)"
      ]
     },
     "execution_count": 66,
     "metadata": {},
     "output_type": "execute_result"
    }
   ],
   "source": [
    "X_train_3.shape"
   ]
  },
  {
   "cell_type": "code",
   "execution_count": 67,
   "id": "38534b61",
   "metadata": {},
   "outputs": [
    {
     "data": {
      "image/png": "[encoded data removed]",
      "text/plain": [
       "<Figure size 432x288 with 1 Axes>"
      ]
     },
     "metadata": {
      "needs_background": "light"
     },
     "output_type": "display_data"
    }
   ],
   "source": [
    "metrics.plot_roc_curve(model_3 , X_test_3, y_test_3) \n",
    "plt.show()\n",
    "# 69% is the AUC "
   ]
  },
  {
   "cell_type": "markdown",
   "id": "f989cd2d",
   "metadata": {},
   "source": [
    "# Performing Decision Tree Classification\n",
    "## Reasons for choosing D -tree model \n",
    "It can help in improving the accuracy along with ensuring that explanation of outputs to stakeholders is easy.\n",
    "\n",
    "## Model 4 : Simple D- tree Model"
   ]
  },
  {
   "cell_type": "code",
   "execution_count": 68,
   "id": "b08f6776",
   "metadata": {},
   "outputs": [],
   "source": [
    "from sklearn.tree import DecisionTreeClassifier\n",
    "from sklearn.metrics import classification_report , confusion_matrix"
   ]
  },
  {
   "cell_type": "code",
   "execution_count": 69,
   "id": "6fe3e7b8",
   "metadata": {},
   "outputs": [
    {
     "data": {
      "text/plain": [
       "Index(['click', 'C1', 'banner_pos', 'site_id', 'site_domain', 'site_category',\n",
       "       'app_id', 'app_domain', 'app_category', 'device_id', 'device_ip',\n",
       "       'device_model', 'device_type', 'device_conn_type', 'C14', 'C15', 'C16',\n",
       "       'C17', 'C18', 'C19', 'C20', 'C21', 'month', 'dayofweek', 'day', 'hour',\n",
       "       'y'],\n",
       "      dtype='object')"
      ]
     },
     "execution_count": 69,
     "metadata": {},
     "output_type": "execute_result"
    }
   ],
   "source": [
    "df.columns"
   ]
  },
  {
   "cell_type": "code",
   "execution_count": null,
   "id": "34876a49",
   "metadata": {},
   "outputs": [],
   "source": []
  },
  {
   "cell_type": "code",
   "execution_count": null,
   "id": "abb0bb3f",
   "metadata": {},
   "outputs": [],
   "source": []
  },
  {
   "cell_type": "code",
   "execution_count": 70,
   "id": "29080e1f",
   "metadata": {},
   "outputs": [
    {
     "data": {
      "text/plain": [
       "0.8314333333333334"
      ]
     },
     "execution_count": 70,
     "metadata": {},
     "output_type": "execute_result"
    }
   ],
   "source": [
    "dt_basic = DecisionTreeClassifier(max_depth=4)\n",
    "dt_basic.fit(X_train,y_train)\n",
    "y_preds=dt_basic.predict(X_test)\n",
    "metrics.accuracy_score(y_test,y_preds)"
   ]
  },
  {
   "cell_type": "code",
   "execution_count": 71,
   "id": "b19d20a3",
   "metadata": {},
   "outputs": [
    {
     "data": {
      "text/plain": [
       "array([[24800,    80],\n",
       "       [ 4977,   143]], dtype=int64)"
      ]
     },
     "execution_count": 71,
     "metadata": {},
     "output_type": "execute_result"
    }
   ],
   "source": [
    "confusion_matrix(y_test,y_preds)"
   ]
  },
  {
   "cell_type": "code",
   "execution_count": 72,
   "id": "a47fd132",
   "metadata": {},
   "outputs": [
    {
     "data": {
      "image/png": "[encoded data removed]",
      "text/plain": [
       "<Figure size 432x288 with 1 Axes>"
      ]
     },
     "metadata": {
      "needs_background": "light"
     },
     "output_type": "display_data"
    }
   ],
   "source": [
    "metrics.plot_roc_curve(dt_basic, X_test, y_test) \n",
    "plt.show()\n",
    "# 64% is the AUC "
   ]
  },
  {
   "cell_type": "code",
   "execution_count": 73,
   "id": "4af4312c",
   "metadata": {},
   "outputs": [],
   "source": [
    "from sklearn import tree\n"
   ]
  },
  {
   "cell_type": "code",
   "execution_count": 74,
   "id": "a929ec6e",
   "metadata": {},
   "outputs": [
    {
     "data": {
      "text/plain": [
       "['device_type',\n",
       " 'device_conn_type',\n",
       " 'dayofweek',\n",
       " 'day',\n",
       " 'hour',\n",
       " 'C1_1002',\n",
       " 'C1_1005',\n",
       " 'C1_1007',\n",
       " 'C1_1008',\n",
       " 'C1_1010',\n",
       " 'C1_1012',\n",
       " 'banner_pos_1',\n",
       " 'banner_pos_2',\n",
       " 'banner_pos_3',\n",
       " 'banner_pos_4',\n",
       " 'banner_pos_5',\n",
       " 'banner_pos_7',\n",
       " 'site_category_28905ebd',\n",
       " 'site_category_335d28a8',\n",
       " 'site_category_3e814130',\n",
       " 'site_category_42a36e14',\n",
       " 'site_category_50e219e0',\n",
       " 'site_category_5378d028',\n",
       " 'site_category_70fb0e29',\n",
       " 'site_category_72722551',\n",
       " 'site_category_75fa27f6',\n",
       " 'site_category_76b2941d',\n",
       " 'site_category_8fd0aea4',\n",
       " 'site_category_9ccfa2ea',\n",
       " 'site_category_a818d37a',\n",
       " 'site_category_c0dd3be3',\n",
       " 'site_category_dedf689d',\n",
       " 'site_category_e787de0e',\n",
       " 'site_category_f028772b',\n",
       " 'site_category_f66779e6',\n",
       " 'app_category_09481d60',\n",
       " 'app_category_0f2161f8',\n",
       " 'app_category_0f9a328c',\n",
       " 'app_category_2281a340',\n",
       " 'app_category_4681bb9d',\n",
       " 'app_category_4ce2e9fc',\n",
       " 'app_category_7113d72a',\n",
       " 'app_category_75d80bbe',\n",
       " 'app_category_79f0b860',\n",
       " 'app_category_879c24eb',\n",
       " 'app_category_8ded1f7a',\n",
       " 'app_category_8df2e842',\n",
       " 'app_category_a3c42688',\n",
       " 'app_category_a7fd01ec',\n",
       " 'app_category_a86a3e89',\n",
       " 'app_category_cef3e649',\n",
       " 'app_category_d1327cf5',\n",
       " 'app_category_dc97ec06',\n",
       " 'app_category_f95efa07',\n",
       " 'app_category_fc6fa53d',\n",
       " 'C14_1037',\n",
       " 'C14_1038',\n",
       " 'C14_1039',\n",
       " 'C14_10532',\n",
       " 'C14_10536',\n",
       " 'C14_10738',\n",
       " 'C14_10739',\n",
       " 'C14_10740',\n",
       " 'C14_10741',\n",
       " 'C14_10742',\n",
       " 'C14_10743',\n",
       " 'C14_10897',\n",
       " 'C14_11142',\n",
       " 'C14_11144',\n",
       " 'C14_11188',\n",
       " 'C14_11190',\n",
       " 'C14_11193',\n",
       " 'C14_11323',\n",
       " 'C14_11325',\n",
       " 'C14_12000',\n",
       " 'C14_12012',\n",
       " 'C14_12026',\n",
       " 'C14_12034',\n",
       " 'C14_12043',\n",
       " 'C14_12199',\n",
       " 'C14_12217',\n",
       " 'C14_12469',\n",
       " 'C14_12470',\n",
       " 'C14_12471',\n",
       " 'C14_12472',\n",
       " 'C14_12477',\n",
       " 'C14_1266',\n",
       " 'C14_1267',\n",
       " 'C14_1268',\n",
       " 'C14_1272',\n",
       " 'C14_1275',\n",
       " 'C14_1276',\n",
       " 'C14_1278',\n",
       " 'C14_13557',\n",
       " 'C14_13558',\n",
       " 'C14_13560',\n",
       " 'C14_13643',\n",
       " 'C14_13644',\n",
       " 'C14_13777',\n",
       " 'C14_13778',\n",
       " 'C14_13779',\n",
       " 'C14_13780',\n",
       " 'C14_13781',\n",
       " 'C14_13782',\n",
       " 'C14_13783',\n",
       " 'C14_14140',\n",
       " 'C14_14142',\n",
       " 'C14_14202',\n",
       " 'C14_14264',\n",
       " 'C14_14265',\n",
       " 'C14_14266',\n",
       " 'C14_14283',\n",
       " 'C14_14983',\n",
       " 'C14_14985',\n",
       " 'C14_14988',\n",
       " 'C14_15005',\n",
       " 'C14_15006',\n",
       " 'C14_15010',\n",
       " 'C14_15016',\n",
       " 'C14_15017',\n",
       " 'C14_15385',\n",
       " 'C14_15387',\n",
       " 'C14_15388',\n",
       " 'C14_15390',\n",
       " 'C14_15503',\n",
       " 'C14_15504',\n",
       " 'C14_15505',\n",
       " 'C14_15506',\n",
       " 'C14_15507',\n",
       " 'C14_15508',\n",
       " 'C14_15509',\n",
       " 'C14_15511',\n",
       " 'C14_15512',\n",
       " 'C14_15513',\n",
       " 'C14_15514',\n",
       " 'C14_15515',\n",
       " 'C14_15516',\n",
       " 'C14_15538',\n",
       " 'C14_15539',\n",
       " 'C14_15540',\n",
       " 'C14_15543',\n",
       " 'C14_15575',\n",
       " 'C14_15698',\n",
       " 'C14_15699',\n",
       " 'C14_15700',\n",
       " 'C14_15701',\n",
       " 'C14_15702',\n",
       " 'C14_15703',\n",
       " 'C14_15704',\n",
       " 'C14_15705',\n",
       " 'C14_15706',\n",
       " 'C14_15707',\n",
       " 'C14_15708',\n",
       " 'C14_15827',\n",
       " 'C14_15829',\n",
       " 'C14_15838',\n",
       " 'C14_15839',\n",
       " 'C14_15840',\n",
       " 'C14_15841',\n",
       " 'C14_15847',\n",
       " 'C14_15908',\n",
       " 'C14_16011',\n",
       " 'C14_16071',\n",
       " 'C14_16152',\n",
       " 'C14_16153',\n",
       " 'C14_16204',\n",
       " 'C14_16208',\n",
       " 'C14_16250',\n",
       " 'C14_16251',\n",
       " 'C14_16252',\n",
       " 'C14_16263',\n",
       " 'C14_16339',\n",
       " 'C14_16340',\n",
       " 'C14_16341',\n",
       " 'C14_16342',\n",
       " 'C14_16343',\n",
       " 'C14_16350',\n",
       " 'C14_16352',\n",
       " 'C14_16403',\n",
       " 'C14_16405',\n",
       " 'C14_16406',\n",
       " 'C14_16407',\n",
       " 'C14_16408',\n",
       " 'C14_16615',\n",
       " 'C14_16685',\n",
       " 'C14_16687',\n",
       " 'C14_16688',\n",
       " 'C14_16838',\n",
       " 'C14_16841',\n",
       " 'C14_16858',\n",
       " 'C14_16859',\n",
       " 'C14_16920',\n",
       " 'C14_16932',\n",
       " 'C14_16934',\n",
       " 'C14_16989',\n",
       " 'C14_17014',\n",
       " 'C14_17016',\n",
       " 'C14_17017',\n",
       " 'C14_17026',\n",
       " 'C14_17037',\n",
       " 'C14_17062',\n",
       " 'C14_17081',\n",
       " 'C14_17109',\n",
       " 'C14_17156',\n",
       " 'C14_17163',\n",
       " 'C14_17170',\n",
       " 'C14_17171',\n",
       " 'C14_17208',\n",
       " 'C14_17209',\n",
       " 'C14_17212',\n",
       " 'C14_17234',\n",
       " 'C14_17239',\n",
       " 'C14_17262',\n",
       " 'C14_17263',\n",
       " 'C14_17264',\n",
       " 'C14_17444',\n",
       " 'C14_17566',\n",
       " 'C14_17573',\n",
       " 'C14_17583',\n",
       " 'C14_17586',\n",
       " 'C14_17614',\n",
       " 'C14_17653',\n",
       " 'C14_17654',\n",
       " 'C14_17661',\n",
       " 'C14_17670',\n",
       " 'C14_17671',\n",
       " 'C14_17706',\n",
       " 'C14_17709',\n",
       " 'C14_17747',\n",
       " 'C14_17753',\n",
       " 'C14_17755',\n",
       " 'C14_17757',\n",
       " 'C14_17758',\n",
       " 'C14_17759',\n",
       " 'C14_17786',\n",
       " 'C14_17863',\n",
       " 'C14_17875',\n",
       " 'C14_17877',\n",
       " 'C14_17893',\n",
       " 'C14_17894',\n",
       " 'C14_17914',\n",
       " 'C14_18091',\n",
       " 'C14_18092',\n",
       " 'C14_18093',\n",
       " 'C14_18094',\n",
       " 'C14_18095',\n",
       " 'C14_18311',\n",
       " 'C14_18314',\n",
       " 'C14_18316',\n",
       " 'C14_18405',\n",
       " 'C14_18419',\n",
       " 'C14_18430',\n",
       " 'C14_18447',\n",
       " 'C14_18452',\n",
       " 'C14_18454',\n",
       " 'C14_18455',\n",
       " 'C14_18457',\n",
       " 'C14_18459',\n",
       " 'C14_18461',\n",
       " 'C14_18467',\n",
       " 'C14_18468',\n",
       " 'C14_18475',\n",
       " 'C14_18489',\n",
       " 'C14_18492',\n",
       " 'C14_18493',\n",
       " 'C14_18495',\n",
       " 'C14_18496',\n",
       " 'C14_18503',\n",
       " 'C14_18510',\n",
       " 'C14_18532',\n",
       " 'C14_18536',\n",
       " 'C14_18539',\n",
       " 'C14_18542',\n",
       " 'C14_18546',\n",
       " 'C14_18553',\n",
       " 'C14_18560',\n",
       " 'C14_18564',\n",
       " 'C14_18567',\n",
       " 'C14_18568',\n",
       " 'C14_18571',\n",
       " 'C14_18572',\n",
       " 'C14_18573',\n",
       " 'C14_18574',\n",
       " 'C14_18578',\n",
       " 'C14_18581',\n",
       " 'C14_18584',\n",
       " 'C14_18587',\n",
       " 'C14_18588',\n",
       " 'C14_18594',\n",
       " 'C14_18595',\n",
       " 'C14_18599',\n",
       " 'C14_18602',\n",
       " 'C14_18648',\n",
       " 'C14_18854',\n",
       " 'C14_18856',\n",
       " 'C14_18858',\n",
       " 'C14_18859',\n",
       " 'C14_18861',\n",
       " 'C14_18920',\n",
       " 'C14_18924',\n",
       " 'C14_18925',\n",
       " 'C14_18934',\n",
       " 'C14_18936',\n",
       " 'C14_18945',\n",
       " 'C14_18946',\n",
       " 'C14_18947',\n",
       " 'C14_18949',\n",
       " 'C14_18950',\n",
       " 'C14_18952',\n",
       " 'C14_18953',\n",
       " 'C14_18954',\n",
       " 'C14_18985',\n",
       " 'C14_18986',\n",
       " 'C14_18987',\n",
       " 'C14_18993',\n",
       " 'C14_19015',\n",
       " 'C14_19016',\n",
       " 'C14_19143',\n",
       " 'C14_19146',\n",
       " 'C14_19176',\n",
       " 'C14_19178',\n",
       " 'C14_19196',\n",
       " 'C14_19197',\n",
       " 'C14_19215',\n",
       " 'C14_19216',\n",
       " 'C14_19251',\n",
       " 'C14_19276',\n",
       " 'C14_19277',\n",
       " 'C14_19278',\n",
       " 'C14_19279',\n",
       " 'C14_19284',\n",
       " 'C14_19370',\n",
       " 'C14_19418',\n",
       " 'C14_19421',\n",
       " 'C14_19436',\n",
       " 'C14_19454',\n",
       " 'C14_19493',\n",
       " 'C14_19591',\n",
       " 'C14_19592',\n",
       " 'C14_19593',\n",
       " 'C14_19594',\n",
       " 'C14_19595',\n",
       " 'C14_19597',\n",
       " 'C14_19631',\n",
       " 'C14_19632',\n",
       " 'C14_19635',\n",
       " 'C14_19641',\n",
       " 'C14_19665',\n",
       " 'C14_19666',\n",
       " 'C14_19668',\n",
       " 'C14_19733',\n",
       " 'C14_19740',\n",
       " 'C14_19741',\n",
       " 'C14_19742',\n",
       " 'C14_19743',\n",
       " 'C14_19745',\n",
       " 'C14_19748',\n",
       " 'C14_19749',\n",
       " 'C14_19771',\n",
       " 'C14_19772',\n",
       " 'C14_19775',\n",
       " 'C14_19776',\n",
       " 'C14_19865',\n",
       " 'C14_19870',\n",
       " 'C14_19878',\n",
       " 'C14_19950',\n",
       " 'C14_19951',\n",
       " 'C14_19982',\n",
       " 'C14_19983',\n",
       " 'C14_19984',\n",
       " 'C14_19985',\n",
       " 'C14_19986',\n",
       " 'C14_19988',\n",
       " 'C14_19998',\n",
       " 'C14_19999',\n",
       " 'C14_20000',\n",
       " 'C14_20001',\n",
       " 'C14_20002',\n",
       " 'C14_20003',\n",
       " 'C14_20004',\n",
       " 'C14_20005',\n",
       " 'C14_20006',\n",
       " 'C14_20007',\n",
       " 'C14_20008',\n",
       " 'C14_20009',\n",
       " 'C14_20010',\n",
       " 'C14_20011',\n",
       " 'C14_20012',\n",
       " 'C14_20013',\n",
       " 'C14_20014',\n",
       " 'C14_20015',\n",
       " 'C14_20016',\n",
       " 'C14_20018',\n",
       " 'C14_20019',\n",
       " 'C14_20048',\n",
       " 'C14_20071',\n",
       " 'C14_20072',\n",
       " 'C14_20077',\n",
       " 'C14_20093',\n",
       " 'C14_20108',\n",
       " 'C14_20122',\n",
       " 'C14_20128',\n",
       " 'C14_20130',\n",
       " 'C14_20131',\n",
       " 'C14_20133',\n",
       " 'C14_20135',\n",
       " 'C14_20143',\n",
       " 'C14_20144',\n",
       " 'C14_20145',\n",
       " 'C14_20146',\n",
       " 'C14_20147',\n",
       " 'C14_20148',\n",
       " 'C14_20149',\n",
       " 'C14_20151',\n",
       " 'C14_20152',\n",
       " 'C14_20153',\n",
       " 'C14_20170',\n",
       " 'C14_20173',\n",
       " 'C14_20213',\n",
       " 'C14_20214',\n",
       " 'C14_20215',\n",
       " 'C14_20251',\n",
       " 'C14_20262',\n",
       " 'C14_20271',\n",
       " 'C14_20272',\n",
       " 'C14_20273',\n",
       " 'C14_20274',\n",
       " 'C14_20277',\n",
       " 'C14_20279',\n",
       " 'C14_20280',\n",
       " 'C14_20282',\n",
       " 'C14_20284',\n",
       " 'C14_20285',\n",
       " 'C14_20287',\n",
       " 'C14_20288',\n",
       " 'C14_20289',\n",
       " 'C14_20291',\n",
       " 'C14_20295',\n",
       " 'C14_20312',\n",
       " 'C14_20345',\n",
       " 'C14_20346',\n",
       " 'C14_20352',\n",
       " 'C14_20355',\n",
       " 'C14_20359',\n",
       " 'C14_20360',\n",
       " 'C14_20361',\n",
       " 'C14_20362',\n",
       " 'C14_20363',\n",
       " 'C14_20364',\n",
       " 'C14_20365',\n",
       " 'C14_20366',\n",
       " 'C14_20382',\n",
       " 'C14_20384',\n",
       " 'C14_20385',\n",
       " 'C14_20386',\n",
       " 'C14_20387',\n",
       " 'C14_20388',\n",
       " 'C14_20389',\n",
       " 'C14_20390',\n",
       " 'C14_20391',\n",
       " 'C14_20392',\n",
       " 'C14_20393',\n",
       " 'C14_20394',\n",
       " 'C14_20395',\n",
       " 'C14_20396',\n",
       " 'C14_20397',\n",
       " 'C14_20476',\n",
       " 'C14_20477',\n",
       " 'C14_20478',\n",
       " 'C14_20508',\n",
       " 'C14_20509',\n",
       " 'C14_20510',\n",
       " 'C14_20540',\n",
       " 'C14_20560',\n",
       " 'C14_20596',\n",
       " 'C14_20617',\n",
       " 'C14_20619',\n",
       " 'C14_20626',\n",
       " 'C14_20632',\n",
       " 'C14_20633',\n",
       " 'C14_20634',\n",
       " 'C14_20635',\n",
       " 'C14_20731',\n",
       " 'C14_20743',\n",
       " 'C14_20744',\n",
       " 'C14_20750',\n",
       " 'C14_20751',\n",
       " 'C14_20966',\n",
       " 'C14_20969',\n",
       " 'C14_20970',\n",
       " 'C14_20980',\n",
       " 'C14_20984',\n",
       " 'C14_20993',\n",
       " 'C14_20995',\n",
       " 'C14_20996',\n",
       " 'C14_20997',\n",
       " 'C14_20998',\n",
       " 'C14_20999',\n",
       " 'C14_21093',\n",
       " 'C14_21135',\n",
       " 'C14_21137',\n",
       " 'C14_21138',\n",
       " 'C14_21153',\n",
       " 'C14_21154',\n",
       " 'C14_21155',\n",
       " 'C14_21156',\n",
       " 'C14_21157',\n",
       " 'C14_21159',\n",
       " 'C14_21160',\n",
       " 'C14_21161',\n",
       " 'C14_21189',\n",
       " 'C14_21191',\n",
       " 'C14_21192',\n",
       " 'C14_21194',\n",
       " 'C14_21195',\n",
       " 'C14_21196',\n",
       " 'C14_21197',\n",
       " 'C14_21200',\n",
       " 'C14_21201',\n",
       " 'C14_21202',\n",
       " 'C14_21204',\n",
       " 'C14_21205',\n",
       " 'C14_21207',\n",
       " 'C14_21230',\n",
       " 'C14_21234',\n",
       " 'C14_21235',\n",
       " 'C14_21241',\n",
       " 'C14_21246',\n",
       " 'C14_21247',\n",
       " 'C14_21248',\n",
       " 'C14_21249',\n",
       " 'C14_21250',\n",
       " 'C14_21273',\n",
       " 'C14_21274',\n",
       " 'C14_21276',\n",
       " 'C14_21277',\n",
       " 'C14_21278',\n",
       " 'C14_21300',\n",
       " 'C14_21309',\n",
       " 'C14_21310',\n",
       " 'C14_21311',\n",
       " 'C14_21314',\n",
       " 'C14_21315',\n",
       " 'C14_21316',\n",
       " 'C14_21325',\n",
       " 'C14_21327',\n",
       " 'C14_21328',\n",
       " 'C14_21329',\n",
       " 'C14_21330',\n",
       " 'C14_21331',\n",
       " 'C14_21333',\n",
       " 'C14_21367',\n",
       " 'C14_21399',\n",
       " 'C14_21400',\n",
       " 'C14_21401',\n",
       " 'C14_21404',\n",
       " 'C14_21408',\n",
       " 'C14_21409',\n",
       " 'C14_21410',\n",
       " 'C14_21411',\n",
       " 'C14_21412',\n",
       " 'C14_21413',\n",
       " 'C14_21475',\n",
       " 'C14_21476',\n",
       " 'C14_21478',\n",
       " 'C14_21480',\n",
       " 'C14_21481',\n",
       " 'C14_21482',\n",
       " 'C14_21483',\n",
       " 'C14_21484',\n",
       " 'C14_21485',\n",
       " 'C14_21486',\n",
       " 'C14_21555',\n",
       " 'C14_21556',\n",
       " 'C14_21557',\n",
       " 'C14_21558',\n",
       " 'C14_21559',\n",
       " 'C14_21560',\n",
       " 'C14_21561',\n",
       " 'C14_21562',\n",
       " 'C14_21563',\n",
       " 'C14_21564',\n",
       " 'C14_21566',\n",
       " 'C14_21567',\n",
       " 'C14_21569',\n",
       " 'C14_21570',\n",
       " 'C14_21571',\n",
       " 'C14_21589',\n",
       " 'C14_21590',\n",
       " 'C14_21591',\n",
       " 'C14_21592',\n",
       " 'C14_21593',\n",
       " 'C14_21594',\n",
       " 'C14_21595',\n",
       " 'C14_21600',\n",
       " 'C14_21609',\n",
       " 'C14_21610',\n",
       " 'C14_21611',\n",
       " 'C14_21612',\n",
       " 'C14_21614',\n",
       " 'C14_21616',\n",
       " 'C14_21617',\n",
       " 'C14_21618',\n",
       " 'C14_21619',\n",
       " 'C14_21620',\n",
       " 'C14_21621',\n",
       " 'C14_21622',\n",
       " 'C14_21623',\n",
       " 'C14_21624',\n",
       " 'C14_21625',\n",
       " 'C14_21626',\n",
       " 'C14_21627',\n",
       " 'C14_21628',\n",
       " 'C14_21629',\n",
       " 'C14_21630',\n",
       " 'C14_21631',\n",
       " 'C14_21632',\n",
       " 'C14_21633',\n",
       " 'C14_21640',\n",
       " 'C14_21647',\n",
       " 'C14_21652',\n",
       " 'C14_21653',\n",
       " 'C14_21654',\n",
       " 'C14_21655',\n",
       " 'C14_21660',\n",
       " 'C14_21661',\n",
       " 'C14_21662',\n",
       " 'C14_21663',\n",
       " 'C14_21664',\n",
       " 'C14_21665',\n",
       " 'C14_21666',\n",
       " 'C14_21667',\n",
       " 'C14_21668',\n",
       " 'C14_21669',\n",
       " 'C14_21671',\n",
       " 'C14_21673',\n",
       " 'C14_21674',\n",
       " 'C14_21675',\n",
       " 'C14_21676',\n",
       " 'C14_21677',\n",
       " 'C14_21678',\n",
       " 'C14_21679',\n",
       " 'C14_21680',\n",
       " 'C14_21681',\n",
       " 'C14_21682',\n",
       " 'C14_21683',\n",
       " 'C14_21684',\n",
       " 'C14_21685',\n",
       " 'C14_21686',\n",
       " 'C14_21687',\n",
       " 'C14_21688',\n",
       " 'C14_21689',\n",
       " 'C14_21690',\n",
       " 'C14_21691',\n",
       " 'C14_21693',\n",
       " 'C14_21694',\n",
       " 'C14_21695',\n",
       " 'C14_21696',\n",
       " 'C14_21697',\n",
       " 'C14_21698',\n",
       " 'C14_21699',\n",
       " 'C14_21700',\n",
       " 'C14_21701',\n",
       " 'C14_21702',\n",
       " 'C14_21703',\n",
       " 'C14_21704',\n",
       " 'C14_21705',\n",
       " 'C14_21706',\n",
       " 'C14_21715',\n",
       " 'C14_21723',\n",
       " 'C14_21724',\n",
       " 'C14_21725',\n",
       " 'C14_21726',\n",
       " 'C14_21727',\n",
       " 'C14_21729',\n",
       " 'C14_21730',\n",
       " 'C14_21731',\n",
       " 'C14_21732',\n",
       " 'C14_21734',\n",
       " 'C14_21737',\n",
       " 'C14_21738',\n",
       " 'C14_21739',\n",
       " 'C14_21741',\n",
       " 'C14_21743',\n",
       " 'C14_21744',\n",
       " 'C14_21745',\n",
       " 'C14_21746',\n",
       " 'C14_21747',\n",
       " 'C14_21748',\n",
       " 'C14_21749',\n",
       " 'C14_21751',\n",
       " 'C14_21755',\n",
       " 'C14_21757',\n",
       " 'C14_21758',\n",
       " 'C14_21759',\n",
       " 'C14_21760',\n",
       " 'C14_21761',\n",
       " 'C14_21762',\n",
       " 'C14_21763',\n",
       " 'C14_21764',\n",
       " 'C14_21765',\n",
       " 'C14_21766',\n",
       " 'C14_21767',\n",
       " 'C14_21768',\n",
       " 'C14_21769',\n",
       " 'C14_21770',\n",
       " 'C14_21771',\n",
       " 'C14_21772',\n",
       " 'C14_21773',\n",
       " 'C14_21774',\n",
       " 'C14_21775',\n",
       " 'C14_21776',\n",
       " 'C14_21777',\n",
       " 'C14_21778',\n",
       " 'C14_21779',\n",
       " 'C14_21780',\n",
       " 'C14_21789',\n",
       " 'C14_21790',\n",
       " 'C14_21791',\n",
       " 'C14_21792',\n",
       " 'C14_21793',\n",
       " 'C14_21794',\n",
       " 'C14_21795',\n",
       " 'C14_21801',\n",
       " 'C14_21803',\n",
       " 'C14_21812',\n",
       " 'C14_21814',\n",
       " 'C14_21816',\n",
       " 'C14_21817',\n",
       " 'C14_21818',\n",
       " 'C14_21819',\n",
       " 'C14_21820',\n",
       " 'C14_21821',\n",
       " 'C14_21822',\n",
       " 'C14_21827',\n",
       " 'C14_21828',\n",
       " 'C14_21829',\n",
       " 'C14_21830',\n",
       " 'C14_21831',\n",
       " 'C14_21832',\n",
       " 'C14_21833',\n",
       " 'C14_21834',\n",
       " 'C14_21835',\n",
       " 'C14_21836',\n",
       " 'C14_21837',\n",
       " 'C14_21838',\n",
       " 'C14_21841',\n",
       " 'C14_21842',\n",
       " 'C14_21844',\n",
       " 'C14_21845',\n",
       " 'C14_21846',\n",
       " 'C14_21847',\n",
       " 'C14_21848',\n",
       " 'C14_21849',\n",
       " 'C14_21850',\n",
       " 'C14_21851',\n",
       " 'C14_21853',\n",
       " 'C14_21860',\n",
       " 'C14_21862',\n",
       " 'C14_21863',\n",
       " 'C14_21869',\n",
       " 'C14_21873',\n",
       " 'C14_21874',\n",
       " 'C14_21875',\n",
       " 'C14_21876',\n",
       " 'C14_21877',\n",
       " 'C14_21878',\n",
       " 'C14_21880',\n",
       " 'C14_21882',\n",
       " 'C14_21883',\n",
       " 'C14_21885',\n",
       " 'C14_21886',\n",
       " 'C14_21887',\n",
       " 'C14_21888',\n",
       " 'C14_21889',\n",
       " 'C14_21890',\n",
       " 'C14_21891',\n",
       " 'C14_21892',\n",
       " 'C14_21893',\n",
       " 'C14_21894',\n",
       " 'C14_21895',\n",
       " 'C14_21897',\n",
       " 'C14_21898',\n",
       " 'C14_21900',\n",
       " 'C14_21902',\n",
       " 'C14_21912',\n",
       " 'C14_21913',\n",
       " 'C14_21914',\n",
       " 'C14_21916',\n",
       " 'C14_21917',\n",
       " 'C14_21918',\n",
       " 'C14_21919',\n",
       " 'C14_21921',\n",
       " 'C14_21922',\n",
       " 'C14_21923',\n",
       " 'C14_21924',\n",
       " 'C14_21950',\n",
       " 'C14_21951',\n",
       " 'C14_21952',\n",
       " 'C14_21953',\n",
       " 'C14_21954',\n",
       " 'C14_21955',\n",
       " 'C14_21956',\n",
       " 'C14_21957',\n",
       " 'C14_21960',\n",
       " 'C14_21961',\n",
       " 'C14_21962',\n",
       " 'C14_21965',\n",
       " 'C14_21966',\n",
       " 'C14_21972',\n",
       " 'C14_21975',\n",
       " 'C14_21979',\n",
       " 'C14_21980',\n",
       " 'C14_21981',\n",
       " 'C14_21982',\n",
       " 'C14_21983',\n",
       " 'C14_21984',\n",
       " 'C14_21985',\n",
       " 'C14_21987',\n",
       " 'C14_21988',\n",
       " 'C14_21990',\n",
       " 'C14_21991',\n",
       " 'C14_21992',\n",
       " 'C14_21993',\n",
       " 'C14_21994',\n",
       " 'C14_21995',\n",
       " 'C14_21996',\n",
       " 'C14_21997',\n",
       " 'C14_21998',\n",
       " 'C14_21999',\n",
       " 'C14_22000',\n",
       " 'C14_22001',\n",
       " 'C14_22002',\n",
       " 'C14_22003',\n",
       " 'C14_22006',\n",
       " 'C14_22007',\n",
       " 'C14_22008',\n",
       " 'C14_22009',\n",
       " 'C14_22010',\n",
       " 'C14_22011',\n",
       " 'C14_22016',\n",
       " 'C14_22017',\n",
       " 'C14_22019',\n",
       " 'C14_22021',\n",
       " 'C14_22022',\n",
       " 'C14_22023',\n",
       " 'C14_22024',\n",
       " 'C14_22025',\n",
       " 'C14_22026',\n",
       " 'C14_22027',\n",
       " 'C14_22028',\n",
       " 'C14_22029',\n",
       " 'C14_22057',\n",
       " 'C14_22064',\n",
       " 'C14_22067',\n",
       " 'C14_22069',\n",
       " 'C14_22077',\n",
       " 'C14_22083',\n",
       " 'C14_22085',\n",
       " 'C14_22086',\n",
       " 'C14_22089',\n",
       " 'C14_22090',\n",
       " 'C14_22092',\n",
       " 'C14_22094',\n",
       " 'C14_22097',\n",
       " 'C14_22102',\n",
       " 'C14_22103',\n",
       " 'C14_22104',\n",
       " 'C14_22105',\n",
       " 'C14_22106',\n",
       " 'C14_22107',\n",
       " 'C14_22108',\n",
       " 'C14_22109',\n",
       " 'C14_22110',\n",
       " 'C14_22111',\n",
       " 'C14_22112',\n",
       " 'C14_22113',\n",
       " 'C14_22114',\n",
       " 'C14_22115',\n",
       " 'C14_22116',\n",
       " 'C14_22117',\n",
       " 'C14_22118',\n",
       " 'C14_22120',\n",
       " 'C14_22122',\n",
       " 'C14_22127',\n",
       " 'C14_22133',\n",
       " 'C14_22137',\n",
       " 'C14_22140',\n",
       " 'C14_22141',\n",
       " 'C14_22142',\n",
       " 'C14_22143',\n",
       " 'C14_22144',\n",
       " 'C14_22147',\n",
       " 'C14_22151',\n",
       " 'C14_22152',\n",
       " 'C14_22153',\n",
       " 'C14_22154',\n",
       " 'C14_22155',\n",
       " 'C14_22156',\n",
       " 'C14_22157',\n",
       " 'C14_22158',\n",
       " 'C14_22159',\n",
       " 'C14_22160',\n",
       " 'C14_22161',\n",
       " 'C14_22162',\n",
       " 'C14_22163',\n",
       " 'C14_22164',\n",
       " 'C14_22165',\n",
       " 'C14_22166',\n",
       " 'C14_22167',\n",
       " 'C14_22168',\n",
       " 'C14_22169',\n",
       " 'C14_22170',\n",
       " 'C14_22171',\n",
       " 'C14_22172',\n",
       " 'C14_22173',\n",
       " 'C14_22174',\n",
       " 'C14_22175',\n",
       " 'C14_22176',\n",
       " 'C14_22177',\n",
       " 'C14_22178',\n",
       " 'C14_22179',\n",
       " 'C14_22180',\n",
       " 'C14_22181',\n",
       " 'C14_22182',\n",
       " 'C14_22183',\n",
       " 'C14_22184',\n",
       " 'C14_22185',\n",
       " 'C14_22186',\n",
       " 'C14_22187',\n",
       " 'C14_22188',\n",
       " 'C14_22189',\n",
       " 'C14_22190',\n",
       " 'C14_22191',\n",
       " 'C14_22192',\n",
       " 'C14_22193',\n",
       " 'C14_22195',\n",
       " 'C14_22196',\n",
       " 'C14_22197',\n",
       " 'C14_22198',\n",
       " 'C14_22200',\n",
       " 'C14_22202',\n",
       " 'C14_22218',\n",
       " 'C14_22219',\n",
       " 'C14_22220',\n",
       " 'C14_22221',\n",
       " 'C14_22222',\n",
       " 'C14_22224',\n",
       " 'C14_22225',\n",
       " 'C14_22228',\n",
       " 'C14_22236',\n",
       " 'C14_22238',\n",
       " 'C14_22240',\n",
       " 'C14_22241',\n",
       " 'C14_22242',\n",
       " 'C14_22243',\n",
       " 'C14_22244',\n",
       " 'C14_22245',\n",
       " 'C14_22246',\n",
       " 'C14_22247',\n",
       " 'C14_22254',\n",
       " 'C14_22255',\n",
       " 'C14_22256',\n",
       " 'C14_22257',\n",
       " 'C14_22258',\n",
       " 'C14_22259',\n",
       " 'C14_22260',\n",
       " 'C14_22261',\n",
       " 'C14_22262',\n",
       " 'C14_22263',\n",
       " 'C14_22264',\n",
       " 'C14_22265',\n",
       " 'C14_22267',\n",
       " 'C14_22268',\n",
       " 'C14_22269',\n",
       " 'C14_22270',\n",
       " 'C14_22271',\n",
       " 'C14_22272',\n",
       " 'C14_22273',\n",
       " 'C14_22275',\n",
       " 'C14_22277',\n",
       " 'C14_22278',\n",
       " 'C14_22279',\n",
       " 'C14_22280',\n",
       " 'C14_22283',\n",
       " 'C14_22284',\n",
       " 'C14_22287',\n",
       " 'C14_22288',\n",
       " 'C14_22289',\n",
       " 'C14_22290',\n",
       " 'C14_22291',\n",
       " 'C14_22292',\n",
       " 'C14_22293',\n",
       " 'C14_22294',\n",
       " 'C14_22295',\n",
       " 'C14_22296',\n",
       " 'C14_22297',\n",
       " 'C14_22298',\n",
       " 'C14_22299',\n",
       " 'C14_22300',\n",
       " ...]"
      ]
     },
     "execution_count": 74,
     "metadata": {},
     "output_type": "execute_result"
    }
   ],
   "source": [
    "list(X.columns)"
   ]
  },
  {
   "cell_type": "code",
   "execution_count": 75,
   "id": "102a4e13",
   "metadata": {},
   "outputs": [
    {
     "data": {
      "text/plain": [
       "[Text(0.5, 0.9, 'C18_2 <= 0.5\\ngini = 0.281\\nsamples = 69999\\nvalue = [58139, 11860]\\nclass = Not Click'),\n",
       " Text(0.25, 0.7, 'C18_1 <= 0.5\\ngini = 0.244\\nsamples = 57650\\nvalue = [49461, 8189]\\nclass = Not Click'),\n",
       " Text(0.125, 0.5, 'C19_39 <= 0.5\\ngini = 0.257\\nsamples = 52936\\nvalue = [44923, 8013]\\nclass = Not Click'),\n",
       " Text(0.0625, 0.3, 'site_category_28905ebd <= 0.5\\ngini = 0.242\\nsamples = 43528\\nvalue = [37385, 6143]\\nclass = Not Click'),\n",
       " Text(0.03125, 0.1, 'gini = 0.221\\nsamples = 33019\\nvalue = [28831, 4188]\\nclass = Not Click'),\n",
       " Text(0.09375, 0.1, 'gini = 0.303\\nsamples = 10509\\nvalue = [8554, 1955]\\nclass = Not Click'),\n",
       " Text(0.1875, 0.3, 'C16_250 <= 0.5\\ngini = 0.319\\nsamples = 9408\\nvalue = [7538, 1870]\\nclass = Not Click'),\n",
       " Text(0.15625, 0.1, 'gini = 0.306\\nsamples = 9086\\nvalue = [7373, 1713]\\nclass = Not Click'),\n",
       " Text(0.21875, 0.1, 'gini = 0.5\\nsamples = 322\\nvalue = [165, 157]\\nclass = Not Click'),\n",
       " Text(0.375, 0.5, 'C21_51 <= 0.5\\ngini = 0.072\\nsamples = 4714\\nvalue = [4538, 176]\\nclass = Not Click'),\n",
       " Text(0.3125, 0.3, 'C1_1002 <= 0.5\\ngini = 0.062\\nsamples = 4426\\nvalue = [4285, 141]\\nclass = Not Click'),\n",
       " Text(0.28125, 0.1, 'gini = 0.058\\nsamples = 4390\\nvalue = [4259, 131]\\nclass = Not Click'),\n",
       " Text(0.34375, 0.1, 'gini = 0.401\\nsamples = 36\\nvalue = [26, 10]\\nclass = Not Click'),\n",
       " Text(0.4375, 0.3, 'app_category_f95efa07 <= 0.5\\ngini = 0.214\\nsamples = 288\\nvalue = [253, 35]\\nclass = Not Click'),\n",
       " Text(0.40625, 0.1, 'gini = 0.19\\nsamples = 273\\nvalue = [244, 29]\\nclass = Not Click'),\n",
       " Text(0.46875, 0.1, 'gini = 0.48\\nsamples = 15\\nvalue = [9, 6]\\nclass = Not Click'),\n",
       " Text(0.75, 0.7, 'C16_250 <= 0.5\\ngini = 0.418\\nsamples = 12349\\nvalue = [8678, 3671]\\nclass = Not Click'),\n",
       " Text(0.625, 0.5, 'banner_pos_1 <= 0.5\\ngini = 0.386\\nsamples = 9829\\nvalue = [7257, 2572]\\nclass = Not Click'),\n",
       " Text(0.5625, 0.3, 'C20_100004 <= 0.5\\ngini = 0.351\\nsamples = 5594\\nvalue = [4326, 1268]\\nclass = Not Click'),\n",
       " Text(0.53125, 0.1, 'gini = 0.347\\nsamples = 5554\\nvalue = [4314, 1240]\\nclass = Not Click'),\n",
       " Text(0.59375, 0.1, 'gini = 0.42\\nsamples = 40\\nvalue = [12, 28]\\nclass = Click'),\n",
       " Text(0.6875, 0.3, 'C17_1993 <= 0.5\\ngini = 0.426\\nsamples = 4235\\nvalue = [2931, 1304]\\nclass = Not Click'),\n",
       " Text(0.65625, 0.1, 'gini = 0.414\\nsamples = 3406\\nvalue = [2409, 997]\\nclass = Not Click'),\n",
       " Text(0.71875, 0.1, 'gini = 0.466\\nsamples = 829\\nvalue = [522, 307]\\nclass = Not Click'),\n",
       " Text(0.875, 0.5, 'site_category_28905ebd <= 0.5\\ngini = 0.492\\nsamples = 2520\\nvalue = [1421, 1099]\\nclass = Not Click'),\n",
       " Text(0.8125, 0.3, 'C14_20093 <= 0.5\\ngini = 0.487\\nsamples = 2375\\nvalue = [1379, 996]\\nclass = Not Click'),\n",
       " Text(0.78125, 0.1, 'gini = 0.478\\nsamples = 2033\\nvalue = [1229, 804]\\nclass = Not Click'),\n",
       " Text(0.84375, 0.1, 'gini = 0.492\\nsamples = 342\\nvalue = [150, 192]\\nclass = Click'),\n",
       " Text(0.9375, 0.3, 'C20_100034 <= 0.5\\ngini = 0.412\\nsamples = 145\\nvalue = [42, 103]\\nclass = Click'),\n",
       " Text(0.90625, 0.1, 'gini = 0.381\\nsamples = 129\\nvalue = [33, 96]\\nclass = Click'),\n",
       " Text(0.96875, 0.1, 'gini = 0.492\\nsamples = 16\\nvalue = [9, 7]\\nclass = Not Click')]"
      ]
     },
     "execution_count": 75,
     "metadata": {},
     "output_type": "execute_result"
    },
    {
     "data": {
      "image/png": "[encoded data removed]",
      "text/plain": [
       "<Figure size 432x288 with 1 Axes>"
      ]
     },
     "metadata": {
      "needs_background": "light"
     },
     "output_type": "display_data"
    }
   ],
   "source": [
    "tree.plot_tree(dt_basic,feature_names = list(X.columns), class_names= ['Not Click','Click'])"
   ]
  },
  {
   "cell_type": "code",
   "execution_count": 76,
   "id": "2fb5d099",
   "metadata": {},
   "outputs": [],
   "source": [
    "# Changing the Max Depth and Checking\n",
    "l=[]\n",
    "m=[]\n",
    "for i in range(1,100):\n",
    "    dt_basic = DecisionTreeClassifier(max_depth=i)\n",
    "    dt_basic.fit(X_train.drop(col_to_remove,axis=1),y_train) # using reduced features to ensure optimal memory usafe\n",
    "    y_preds=dt_basic.predict(X_test.drop(col_to_remove,axis=1))\n",
    "    l.append(i) \n",
    "    m.append(metrics.accuracy_score(y_test,y_preds))"
   ]
  },
  {
   "cell_type": "code",
   "execution_count": 77,
   "id": "dd872a29",
   "metadata": {},
   "outputs": [
    {
     "data": {
      "text/plain": [
       "[<matplotlib.lines.Line2D at 0x1aa2dc047c0>]"
      ]
     },
     "execution_count": 77,
     "metadata": {},
     "output_type": "execute_result"
    },
    {
     "data": {
      "image/png": "[encoded data removed]",
      "text/plain": [
       "<Figure size 432x288 with 1 Axes>"
      ]
     },
     "metadata": {
      "needs_background": "light"
     },
     "output_type": "display_data"
    }
   ],
   "source": [
    "plt.plot(l,m)"
   ]
  },
  {
   "cell_type": "code",
   "execution_count": 78,
   "id": "aea9e436",
   "metadata": {},
   "outputs": [
    {
     "data": {
      "text/plain": [
       "[<matplotlib.lines.Line2D at 0x1aa2dc5d460>]"
      ]
     },
     "execution_count": 78,
     "metadata": {},
     "output_type": "execute_result"
    },
    {
     "data": {
      "image/png": "[encoded data removed]",
      "text/plain": [
       "<Figure size 432x288 with 1 Axes>"
      ]
     },
     "metadata": {
      "needs_background": "light"
     },
     "output_type": "display_data"
    }
   ],
   "source": [
    "# Checking the same without dropping features for 10 points\n",
    "l=[]\n",
    "m=[]\n",
    "for i in range(1,11):\n",
    "    dt_basic = DecisionTreeClassifier(max_depth=i)\n",
    "    dt_basic.fit(X_train,y_train)\n",
    "    y_preds=dt_basic.predict(X_test)\n",
    "    l.append(i) \n",
    "    m.append(metrics.accuracy_score(y_test,y_preds))\n",
    "plt.plot(l,m)    \n",
    "# Higher accuracy comes at 7 depth"
   ]
  },
  {
   "cell_type": "markdown",
   "id": "afd097f4",
   "metadata": {},
   "source": [
    "## Model 5 : HyperParameter Tuning of Dtree\n",
    "\n",
    "## Reasons fo choosing this Model \n",
    "It ensures that overfitting issue of D-tree is reduced and good outputs are also produced"
   ]
  },
  {
   "cell_type": "code",
   "execution_count": 79,
   "id": "228cf98a",
   "metadata": {},
   "outputs": [],
   "source": [
    "from sklearn.model_selection import KFold\n",
    "from sklearn.model_selection import GridSearchCV"
   ]
  },
  {
   "cell_type": "code",
   "execution_count": 80,
   "id": "bdd593ac",
   "metadata": {},
   "outputs": [],
   "source": [
    "parameters = {'min_samples_leaf': range(1,300,10),'max_depth': range(1,11), 'criterion':['entropy','gini']}"
   ]
  },
  {
   "cell_type": "code",
   "execution_count": 81,
   "id": "b1e2545d",
   "metadata": {},
   "outputs": [],
   "source": [
    "dtree = DecisionTreeClassifier()"
   ]
  },
  {
   "cell_type": "code",
   "execution_count": 82,
   "id": "4d6056e8",
   "metadata": {},
   "outputs": [],
   "source": [
    "n_folds = 5"
   ]
  },
  {
   "cell_type": "code",
   "execution_count": 83,
   "id": "27fc6046",
   "metadata": {},
   "outputs": [],
   "source": [
    "grid= GridSearchCV(dtree, parameters, cv= n_folds,  n_jobs = -1, return_train_score=True)"
   ]
  },
  {
   "cell_type": "code",
   "execution_count": 84,
   "id": "2c5aa908",
   "metadata": {
    "collapsed": true
   },
   "outputs": [
    {
     "data": {
      "text/plain": [
       "GridSearchCV(cv=5, estimator=DecisionTreeClassifier(), n_jobs=-1,\n",
       "             param_grid={'criterion': ['entropy', 'gini'],\n",
       "                         'max_depth': range(1, 11),\n",
       "                         'min_samples_leaf': range(1, 300, 10)},\n",
       "             return_train_score=True)"
      ]
     },
     "execution_count": 84,
     "metadata": {},
     "output_type": "execute_result"
    }
   ],
   "source": [
    "grid"
   ]
  },
  {
   "cell_type": "code",
   "execution_count": 85,
   "id": "9d0eea22",
   "metadata": {},
   "outputs": [
    {
     "data": {
      "text/plain": [
       "(69999, 55)"
      ]
     },
     "execution_count": 85,
     "metadata": {},
     "output_type": "execute_result"
    }
   ],
   "source": [
    "X_train.drop(col_to_remove,axis=1).shape"
   ]
  },
  {
   "cell_type": "code",
   "execution_count": 86,
   "id": "6ad3ada0",
   "metadata": {},
   "outputs": [
    {
     "data": {
      "text/plain": [
       "GridSearchCV(cv=5, estimator=DecisionTreeClassifier(), n_jobs=-1,\n",
       "             param_grid={'criterion': ['entropy', 'gini'],\n",
       "                         'max_depth': range(1, 11),\n",
       "                         'min_samples_leaf': range(1, 300, 10)},\n",
       "             return_train_score=True)"
      ]
     },
     "execution_count": 86,
     "metadata": {},
     "output_type": "execute_result"
    }
   ],
   "source": [
    "grid.fit(X_train.drop(col_to_remove,axis=1),y_train)"
   ]
  },
  {
   "cell_type": "code",
   "execution_count": 87,
   "id": "295ee92c",
   "metadata": {},
   "outputs": [
    {
     "data": {
      "text/html": [
       "<div>\n",
       "<style scoped>\n",
       "    .dataframe tbody tr th:only-of-type {\n",
       "        vertical-align: middle;\n",
       "    }\n",
       "\n",
       "    .dataframe tbody tr th {\n",
       "        vertical-align: top;\n",
       "    }\n",
       "\n",
       "    .dataframe thead th {\n",
       "        text-align: right;\n",
       "    }\n",
       "</style>\n",
       "<table border=\"1\" class=\"dataframe\">\n",
       "  <thead>\n",
       "    <tr style=\"text-align: right;\">\n",
       "      <th></th>\n",
       "      <th>mean_fit_time</th>\n",
       "      <th>std_fit_time</th>\n",
       "      <th>mean_score_time</th>\n",
       "      <th>std_score_time</th>\n",
       "      <th>param_criterion</th>\n",
       "      <th>param_max_depth</th>\n",
       "      <th>param_min_samples_leaf</th>\n",
       "      <th>params</th>\n",
       "      <th>split0_test_score</th>\n",
       "      <th>split1_test_score</th>\n",
       "      <th>...</th>\n",
       "      <th>mean_test_score</th>\n",
       "      <th>std_test_score</th>\n",
       "      <th>rank_test_score</th>\n",
       "      <th>split0_train_score</th>\n",
       "      <th>split1_train_score</th>\n",
       "      <th>split2_train_score</th>\n",
       "      <th>split3_train_score</th>\n",
       "      <th>split4_train_score</th>\n",
       "      <th>mean_train_score</th>\n",
       "      <th>std_train_score</th>\n",
       "    </tr>\n",
       "  </thead>\n",
       "  <tbody>\n",
       "    <tr>\n",
       "      <th>420</th>\n",
       "      <td>0.567757</td>\n",
       "      <td>0.018651</td>\n",
       "      <td>0.029636</td>\n",
       "      <td>0.003891</td>\n",
       "      <td>gini</td>\n",
       "      <td>5</td>\n",
       "      <td>1</td>\n",
       "      <td>{'criterion': 'gini', 'max_depth': 5, 'min_sam...</td>\n",
       "      <td>0.830786</td>\n",
       "      <td>0.830643</td>\n",
       "      <td>...</td>\n",
       "      <td>0.830669</td>\n",
       "      <td>0.000101</td>\n",
       "      <td>1</td>\n",
       "      <td>0.830747</td>\n",
       "      <td>0.830676</td>\n",
       "      <td>0.830729</td>\n",
       "      <td>0.830801</td>\n",
       "      <td>0.830750</td>\n",
       "      <td>0.830740</td>\n",
       "      <td>0.000040</td>\n",
       "    </tr>\n",
       "    <tr>\n",
       "      <th>150</th>\n",
       "      <td>0.586109</td>\n",
       "      <td>0.018754</td>\n",
       "      <td>0.026830</td>\n",
       "      <td>0.002309</td>\n",
       "      <td>entropy</td>\n",
       "      <td>6</td>\n",
       "      <td>1</td>\n",
       "      <td>{'criterion': 'entropy', 'max_depth': 6, 'min_...</td>\n",
       "      <td>0.830857</td>\n",
       "      <td>0.830571</td>\n",
       "      <td>...</td>\n",
       "      <td>0.830655</td>\n",
       "      <td>0.000141</td>\n",
       "      <td>2</td>\n",
       "      <td>0.830729</td>\n",
       "      <td>0.830801</td>\n",
       "      <td>0.830765</td>\n",
       "      <td>0.830818</td>\n",
       "      <td>0.830857</td>\n",
       "      <td>0.830794</td>\n",
       "      <td>0.000044</td>\n",
       "    </tr>\n",
       "    <tr>\n",
       "      <th>450</th>\n",
       "      <td>0.617942</td>\n",
       "      <td>0.018056</td>\n",
       "      <td>0.035593</td>\n",
       "      <td>0.007677</td>\n",
       "      <td>gini</td>\n",
       "      <td>6</td>\n",
       "      <td>1</td>\n",
       "      <td>{'criterion': 'gini', 'max_depth': 6, 'min_sam...</td>\n",
       "      <td>0.830786</td>\n",
       "      <td>0.830571</td>\n",
       "      <td>...</td>\n",
       "      <td>0.830626</td>\n",
       "      <td>0.000127</td>\n",
       "      <td>3</td>\n",
       "      <td>0.830854</td>\n",
       "      <td>0.830854</td>\n",
       "      <td>0.830783</td>\n",
       "      <td>0.830908</td>\n",
       "      <td>0.830857</td>\n",
       "      <td>0.830851</td>\n",
       "      <td>0.000040</td>\n",
       "    </tr>\n",
       "    <tr>\n",
       "      <th>483</th>\n",
       "      <td>0.883551</td>\n",
       "      <td>0.100994</td>\n",
       "      <td>0.047775</td>\n",
       "      <td>0.009761</td>\n",
       "      <td>gini</td>\n",
       "      <td>7</td>\n",
       "      <td>31</td>\n",
       "      <td>{'criterion': 'gini', 'max_depth': 7, 'min_sam...</td>\n",
       "      <td>0.830714</td>\n",
       "      <td>0.830643</td>\n",
       "      <td>...</td>\n",
       "      <td>0.830583</td>\n",
       "      <td>0.000099</td>\n",
       "      <td>4</td>\n",
       "      <td>0.830676</td>\n",
       "      <td>0.830693</td>\n",
       "      <td>0.830568</td>\n",
       "      <td>0.830568</td>\n",
       "      <td>0.830750</td>\n",
       "      <td>0.830651</td>\n",
       "      <td>0.000072</td>\n",
       "    </tr>\n",
       "    <tr>\n",
       "      <th>0</th>\n",
       "      <td>0.256443</td>\n",
       "      <td>0.007233</td>\n",
       "      <td>0.026454</td>\n",
       "      <td>0.007794</td>\n",
       "      <td>entropy</td>\n",
       "      <td>1</td>\n",
       "      <td>1</td>\n",
       "      <td>{'criterion': 'entropy', 'max_depth': 1, 'min_...</td>\n",
       "      <td>0.830571</td>\n",
       "      <td>0.830571</td>\n",
       "      <td>...</td>\n",
       "      <td>0.830569</td>\n",
       "      <td>0.000005</td>\n",
       "      <td>5</td>\n",
       "      <td>0.830568</td>\n",
       "      <td>0.830568</td>\n",
       "      <td>0.830568</td>\n",
       "      <td>0.830568</td>\n",
       "      <td>0.830571</td>\n",
       "      <td>0.830569</td>\n",
       "      <td>0.000001</td>\n",
       "    </tr>\n",
       "    <tr>\n",
       "      <th>...</th>\n",
       "      <td>...</td>\n",
       "      <td>...</td>\n",
       "      <td>...</td>\n",
       "      <td>...</td>\n",
       "      <td>...</td>\n",
       "      <td>...</td>\n",
       "      <td>...</td>\n",
       "      <td>...</td>\n",
       "      <td>...</td>\n",
       "      <td>...</td>\n",
       "      <td>...</td>\n",
       "      <td>...</td>\n",
       "      <td>...</td>\n",
       "      <td>...</td>\n",
       "      <td>...</td>\n",
       "      <td>...</td>\n",
       "      <td>...</td>\n",
       "      <td>...</td>\n",
       "      <td>...</td>\n",
       "      <td>...</td>\n",
       "      <td>...</td>\n",
       "    </tr>\n",
       "    <tr>\n",
       "      <th>541</th>\n",
       "      <td>0.710577</td>\n",
       "      <td>0.010734</td>\n",
       "      <td>0.034568</td>\n",
       "      <td>0.011405</td>\n",
       "      <td>gini</td>\n",
       "      <td>9</td>\n",
       "      <td>11</td>\n",
       "      <td>{'criterion': 'gini', 'max_depth': 9, 'min_sam...</td>\n",
       "      <td>0.829857</td>\n",
       "      <td>0.830571</td>\n",
       "      <td>...</td>\n",
       "      <td>0.829783</td>\n",
       "      <td>0.000959</td>\n",
       "      <td>596</td>\n",
       "      <td>0.831372</td>\n",
       "      <td>0.830801</td>\n",
       "      <td>0.831033</td>\n",
       "      <td>0.831033</td>\n",
       "      <td>0.831161</td>\n",
       "      <td>0.831080</td>\n",
       "      <td>0.000187</td>\n",
       "    </tr>\n",
       "    <tr>\n",
       "      <th>240</th>\n",
       "      <td>0.782173</td>\n",
       "      <td>0.072272</td>\n",
       "      <td>0.032574</td>\n",
       "      <td>0.005605</td>\n",
       "      <td>entropy</td>\n",
       "      <td>9</td>\n",
       "      <td>1</td>\n",
       "      <td>{'criterion': 'entropy', 'max_depth': 9, 'min_...</td>\n",
       "      <td>0.829286</td>\n",
       "      <td>0.830000</td>\n",
       "      <td>...</td>\n",
       "      <td>0.829612</td>\n",
       "      <td>0.000551</td>\n",
       "      <td>597</td>\n",
       "      <td>0.832301</td>\n",
       "      <td>0.831533</td>\n",
       "      <td>0.831497</td>\n",
       "      <td>0.831872</td>\n",
       "      <td>0.832089</td>\n",
       "      <td>0.831858</td>\n",
       "      <td>0.000312</td>\n",
       "    </tr>\n",
       "    <tr>\n",
       "      <th>540</th>\n",
       "      <td>0.694673</td>\n",
       "      <td>0.027575</td>\n",
       "      <td>0.031168</td>\n",
       "      <td>0.004944</td>\n",
       "      <td>gini</td>\n",
       "      <td>9</td>\n",
       "      <td>1</td>\n",
       "      <td>{'criterion': 'gini', 'max_depth': 9, 'min_sam...</td>\n",
       "      <td>0.829214</td>\n",
       "      <td>0.830071</td>\n",
       "      <td>...</td>\n",
       "      <td>0.829455</td>\n",
       "      <td>0.001071</td>\n",
       "      <td>598</td>\n",
       "      <td>0.832318</td>\n",
       "      <td>0.831943</td>\n",
       "      <td>0.831836</td>\n",
       "      <td>0.831908</td>\n",
       "      <td>0.832411</td>\n",
       "      <td>0.832083</td>\n",
       "      <td>0.000234</td>\n",
       "    </tr>\n",
       "    <tr>\n",
       "      <th>270</th>\n",
       "      <td>0.797006</td>\n",
       "      <td>0.030095</td>\n",
       "      <td>0.035818</td>\n",
       "      <td>0.004602</td>\n",
       "      <td>entropy</td>\n",
       "      <td>10</td>\n",
       "      <td>1</td>\n",
       "      <td>{'criterion': 'entropy', 'max_depth': 10, 'min...</td>\n",
       "      <td>0.828357</td>\n",
       "      <td>0.830500</td>\n",
       "      <td>...</td>\n",
       "      <td>0.829426</td>\n",
       "      <td>0.001132</td>\n",
       "      <td>599</td>\n",
       "      <td>0.832836</td>\n",
       "      <td>0.832229</td>\n",
       "      <td>0.832104</td>\n",
       "      <td>0.832318</td>\n",
       "      <td>0.832786</td>\n",
       "      <td>0.832455</td>\n",
       "      <td>0.000299</td>\n",
       "    </tr>\n",
       "    <tr>\n",
       "      <th>570</th>\n",
       "      <td>0.746303</td>\n",
       "      <td>0.018314</td>\n",
       "      <td>0.029305</td>\n",
       "      <td>0.003276</td>\n",
       "      <td>gini</td>\n",
       "      <td>10</td>\n",
       "      <td>1</td>\n",
       "      <td>{'criterion': 'gini', 'max_depth': 10, 'min_sa...</td>\n",
       "      <td>0.827857</td>\n",
       "      <td>0.829214</td>\n",
       "      <td>...</td>\n",
       "      <td>0.828840</td>\n",
       "      <td>0.001267</td>\n",
       "      <td>600</td>\n",
       "      <td>0.832854</td>\n",
       "      <td>0.832426</td>\n",
       "      <td>0.832283</td>\n",
       "      <td>0.832497</td>\n",
       "      <td>0.833107</td>\n",
       "      <td>0.832633</td>\n",
       "      <td>0.000303</td>\n",
       "    </tr>\n",
       "  </tbody>\n",
       "</table>\n",
       "<p>600 rows × 23 columns</p>\n",
       "</div>"
      ],
      "text/plain": [
       "     mean_fit_time  std_fit_time  mean_score_time  std_score_time  \\\n",
       "420       0.567757      0.018651         0.029636        0.003891   \n",
       "150       0.586109      0.018754         0.026830        0.002309   \n",
       "450       0.617942      0.018056         0.035593        0.007677   \n",
       "483       0.883551      0.100994         0.047775        0.009761   \n",
       "0         0.256443      0.007233         0.026454        0.007794   \n",
       "..             ...           ...              ...             ...   \n",
       "541       0.710577      0.010734         0.034568        0.011405   \n",
       "240       0.782173      0.072272         0.032574        0.005605   \n",
       "540       0.694673      0.027575         0.031168        0.004944   \n",
       "270       0.797006      0.030095         0.035818        0.004602   \n",
       "570       0.746303      0.018314         0.029305        0.003276   \n",
       "\n",
       "    param_criterion param_max_depth param_min_samples_leaf  \\\n",
       "420            gini               5                      1   \n",
       "150         entropy               6                      1   \n",
       "450            gini               6                      1   \n",
       "483            gini               7                     31   \n",
       "0           entropy               1                      1   \n",
       "..              ...             ...                    ...   \n",
       "541            gini               9                     11   \n",
       "240         entropy               9                      1   \n",
       "540            gini               9                      1   \n",
       "270         entropy              10                      1   \n",
       "570            gini              10                      1   \n",
       "\n",
       "                                                params  split0_test_score  \\\n",
       "420  {'criterion': 'gini', 'max_depth': 5, 'min_sam...           0.830786   \n",
       "150  {'criterion': 'entropy', 'max_depth': 6, 'min_...           0.830857   \n",
       "450  {'criterion': 'gini', 'max_depth': 6, 'min_sam...           0.830786   \n",
       "483  {'criterion': 'gini', 'max_depth': 7, 'min_sam...           0.830714   \n",
       "0    {'criterion': 'entropy', 'max_depth': 1, 'min_...           0.830571   \n",
       "..                                                 ...                ...   \n",
       "541  {'criterion': 'gini', 'max_depth': 9, 'min_sam...           0.829857   \n",
       "240  {'criterion': 'entropy', 'max_depth': 9, 'min_...           0.829286   \n",
       "540  {'criterion': 'gini', 'max_depth': 9, 'min_sam...           0.829214   \n",
       "270  {'criterion': 'entropy', 'max_depth': 10, 'min...           0.828357   \n",
       "570  {'criterion': 'gini', 'max_depth': 10, 'min_sa...           0.827857   \n",
       "\n",
       "     split1_test_score  ...  mean_test_score  std_test_score  rank_test_score  \\\n",
       "420           0.830643  ...         0.830669        0.000101                1   \n",
       "150           0.830571  ...         0.830655        0.000141                2   \n",
       "450           0.830571  ...         0.830626        0.000127                3   \n",
       "483           0.830643  ...         0.830583        0.000099                4   \n",
       "0             0.830571  ...         0.830569        0.000005                5   \n",
       "..                 ...  ...              ...             ...              ...   \n",
       "541           0.830571  ...         0.829783        0.000959              596   \n",
       "240           0.830000  ...         0.829612        0.000551              597   \n",
       "540           0.830071  ...         0.829455        0.001071              598   \n",
       "270           0.830500  ...         0.829426        0.001132              599   \n",
       "570           0.829214  ...         0.828840        0.001267              600   \n",
       "\n",
       "     split0_train_score  split1_train_score  split2_train_score  \\\n",
       "420            0.830747            0.830676            0.830729   \n",
       "150            0.830729            0.830801            0.830765   \n",
       "450            0.830854            0.830854            0.830783   \n",
       "483            0.830676            0.830693            0.830568   \n",
       "0              0.830568            0.830568            0.830568   \n",
       "..                  ...                 ...                 ...   \n",
       "541            0.831372            0.830801            0.831033   \n",
       "240            0.832301            0.831533            0.831497   \n",
       "540            0.832318            0.831943            0.831836   \n",
       "270            0.832836            0.832229            0.832104   \n",
       "570            0.832854            0.832426            0.832283   \n",
       "\n",
       "     split3_train_score  split4_train_score  mean_train_score  std_train_score  \n",
       "420            0.830801            0.830750          0.830740         0.000040  \n",
       "150            0.830818            0.830857          0.830794         0.000044  \n",
       "450            0.830908            0.830857          0.830851         0.000040  \n",
       "483            0.830568            0.830750          0.830651         0.000072  \n",
       "0              0.830568            0.830571          0.830569         0.000001  \n",
       "..                  ...                 ...               ...              ...  \n",
       "541            0.831033            0.831161          0.831080         0.000187  \n",
       "240            0.831872            0.832089          0.831858         0.000312  \n",
       "540            0.831908            0.832411          0.832083         0.000234  \n",
       "270            0.832318            0.832786          0.832455         0.000299  \n",
       "570            0.832497            0.833107          0.832633         0.000303  \n",
       "\n",
       "[600 rows x 23 columns]"
      ]
     },
     "execution_count": 87,
     "metadata": {},
     "output_type": "execute_result"
    }
   ],
   "source": [
    "pd.DataFrame(grid.cv_results_).sort_values(by='rank_test_score')"
   ]
  },
  {
   "cell_type": "code",
   "execution_count": 88,
   "id": "7496da5d",
   "metadata": {},
   "outputs": [
    {
     "data": {
      "text/plain": [
       "{'criterion': 'gini', 'max_depth': 5, 'min_samples_leaf': 1}"
      ]
     },
     "execution_count": 88,
     "metadata": {},
     "output_type": "execute_result"
    }
   ],
   "source": [
    "grid.best_params_"
   ]
  },
  {
   "cell_type": "code",
   "execution_count": 89,
   "id": "db4dbadd",
   "metadata": {},
   "outputs": [],
   "source": [
    "best_grid = grid.best_estimator_"
   ]
  },
  {
   "cell_type": "code",
   "execution_count": 90,
   "id": "33b315c2",
   "metadata": {},
   "outputs": [
    {
     "data": {
      "text/plain": [
       "DecisionTreeClassifier(max_depth=5)"
      ]
     },
     "execution_count": 90,
     "metadata": {},
     "output_type": "execute_result"
    }
   ],
   "source": [
    "best_grid.fit(X_train.drop(col_to_remove,axis=1),y_train)"
   ]
  },
  {
   "cell_type": "code",
   "execution_count": 91,
   "id": "7ee725e0",
   "metadata": {},
   "outputs": [],
   "source": [
    "y_pred = best_grid.predict(X_test.drop(col_to_remove,axis=1))"
   ]
  },
  {
   "cell_type": "code",
   "execution_count": 92,
   "id": "015540cb",
   "metadata": {},
   "outputs": [
    {
     "data": {
      "text/plain": [
       "0.8290333333333333"
      ]
     },
     "execution_count": 92,
     "metadata": {},
     "output_type": "execute_result"
    }
   ],
   "source": [
    "best_grid.score(X_test.drop(col_to_remove,axis=1), y_test)"
   ]
  },
  {
   "cell_type": "code",
   "execution_count": 93,
   "id": "08965e33",
   "metadata": {},
   "outputs": [
    {
     "data": {
      "image/png": "[encoded data removed]",
      "text/plain": [
       "<Figure size 432x288 with 1 Axes>"
      ]
     },
     "metadata": {
      "needs_background": "light"
     },
     "output_type": "display_data"
    }
   ],
   "source": [
    "metrics.plot_roc_curve(best_grid, X_test.drop(col_to_remove,axis=1), y_test) \n",
    "plt.show()\n",
    "# 61% is the AUC but the number of features used here are very less compared to the complete set. So a tradeoff is present \n",
    "# between accuracy and complexity of a model"
   ]
  },
  {
   "cell_type": "code",
   "execution_count": 94,
   "id": "ec1f01d6",
   "metadata": {},
   "outputs": [
    {
     "data": {
      "text/html": [
       "<div>\n",
       "<style scoped>\n",
       "    .dataframe tbody tr th:only-of-type {\n",
       "        vertical-align: middle;\n",
       "    }\n",
       "\n",
       "    .dataframe tbody tr th {\n",
       "        vertical-align: top;\n",
       "    }\n",
       "\n",
       "    .dataframe thead th {\n",
       "        text-align: right;\n",
       "    }\n",
       "</style>\n",
       "<table border=\"1\" class=\"dataframe\">\n",
       "  <thead>\n",
       "    <tr style=\"text-align: right;\">\n",
       "      <th></th>\n",
       "      <th>feature</th>\n",
       "      <th>importance</th>\n",
       "    </tr>\n",
       "  </thead>\n",
       "  <tbody>\n",
       "    <tr>\n",
       "      <th>36</th>\n",
       "      <td>app_category_0f2161f8</td>\n",
       "      <td>0.313694</td>\n",
       "    </tr>\n",
       "    <tr>\n",
       "      <th>19</th>\n",
       "      <td>site_category_3e814130</td>\n",
       "      <td>0.184254</td>\n",
       "    </tr>\n",
       "    <tr>\n",
       "      <th>11</th>\n",
       "      <td>banner_pos_1</td>\n",
       "      <td>0.156092</td>\n",
       "    </tr>\n",
       "    <tr>\n",
       "      <th>45</th>\n",
       "      <td>app_category_8ded1f7a</td>\n",
       "      <td>0.074326</td>\n",
       "    </tr>\n",
       "    <tr>\n",
       "      <th>50</th>\n",
       "      <td>app_category_cef3e649</td>\n",
       "      <td>0.070029</td>\n",
       "    </tr>\n",
       "    <tr>\n",
       "      <th>1</th>\n",
       "      <td>device_conn_type</td>\n",
       "      <td>0.069925</td>\n",
       "    </tr>\n",
       "    <tr>\n",
       "      <th>53</th>\n",
       "      <td>app_category_f95efa07</td>\n",
       "      <td>0.038555</td>\n",
       "    </tr>\n",
       "    <tr>\n",
       "      <th>3</th>\n",
       "      <td>day</td>\n",
       "      <td>0.028612</td>\n",
       "    </tr>\n",
       "    <tr>\n",
       "      <th>4</th>\n",
       "      <td>hour</td>\n",
       "      <td>0.026248</td>\n",
       "    </tr>\n",
       "    <tr>\n",
       "      <th>0</th>\n",
       "      <td>device_type</td>\n",
       "      <td>0.015635</td>\n",
       "    </tr>\n",
       "    <tr>\n",
       "      <th>2</th>\n",
       "      <td>dayofweek</td>\n",
       "      <td>0.013137</td>\n",
       "    </tr>\n",
       "    <tr>\n",
       "      <th>16</th>\n",
       "      <td>banner_pos_7</td>\n",
       "      <td>0.009492</td>\n",
       "    </tr>\n",
       "    <tr>\n",
       "      <th>41</th>\n",
       "      <td>app_category_7113d72a</td>\n",
       "      <td>0.000000</td>\n",
       "    </tr>\n",
       "    <tr>\n",
       "      <th>34</th>\n",
       "      <td>site_category_f66779e6</td>\n",
       "      <td>0.000000</td>\n",
       "    </tr>\n",
       "    <tr>\n",
       "      <th>33</th>\n",
       "      <td>site_category_f028772b</td>\n",
       "      <td>0.000000</td>\n",
       "    </tr>\n",
       "    <tr>\n",
       "      <th>37</th>\n",
       "      <td>app_category_0f9a328c</td>\n",
       "      <td>0.000000</td>\n",
       "    </tr>\n",
       "    <tr>\n",
       "      <th>38</th>\n",
       "      <td>app_category_2281a340</td>\n",
       "      <td>0.000000</td>\n",
       "    </tr>\n",
       "    <tr>\n",
       "      <th>39</th>\n",
       "      <td>app_category_4681bb9d</td>\n",
       "      <td>0.000000</td>\n",
       "    </tr>\n",
       "    <tr>\n",
       "      <th>40</th>\n",
       "      <td>app_category_4ce2e9fc</td>\n",
       "      <td>0.000000</td>\n",
       "    </tr>\n",
       "    <tr>\n",
       "      <th>35</th>\n",
       "      <td>app_category_09481d60</td>\n",
       "      <td>0.000000</td>\n",
       "    </tr>\n",
       "    <tr>\n",
       "      <th>44</th>\n",
       "      <td>app_category_879c24eb</td>\n",
       "      <td>0.000000</td>\n",
       "    </tr>\n",
       "    <tr>\n",
       "      <th>42</th>\n",
       "      <td>app_category_75d80bbe</td>\n",
       "      <td>0.000000</td>\n",
       "    </tr>\n",
       "    <tr>\n",
       "      <th>43</th>\n",
       "      <td>app_category_79f0b860</td>\n",
       "      <td>0.000000</td>\n",
       "    </tr>\n",
       "    <tr>\n",
       "      <th>31</th>\n",
       "      <td>site_category_dedf689d</td>\n",
       "      <td>0.000000</td>\n",
       "    </tr>\n",
       "    <tr>\n",
       "      <th>46</th>\n",
       "      <td>app_category_8df2e842</td>\n",
       "      <td>0.000000</td>\n",
       "    </tr>\n",
       "    <tr>\n",
       "      <th>47</th>\n",
       "      <td>app_category_a3c42688</td>\n",
       "      <td>0.000000</td>\n",
       "    </tr>\n",
       "    <tr>\n",
       "      <th>48</th>\n",
       "      <td>app_category_a7fd01ec</td>\n",
       "      <td>0.000000</td>\n",
       "    </tr>\n",
       "    <tr>\n",
       "      <th>49</th>\n",
       "      <td>app_category_a86a3e89</td>\n",
       "      <td>0.000000</td>\n",
       "    </tr>\n",
       "    <tr>\n",
       "      <th>51</th>\n",
       "      <td>app_category_d1327cf5</td>\n",
       "      <td>0.000000</td>\n",
       "    </tr>\n",
       "    <tr>\n",
       "      <th>52</th>\n",
       "      <td>app_category_dc97ec06</td>\n",
       "      <td>0.000000</td>\n",
       "    </tr>\n",
       "    <tr>\n",
       "      <th>32</th>\n",
       "      <td>site_category_e787de0e</td>\n",
       "      <td>0.000000</td>\n",
       "    </tr>\n",
       "    <tr>\n",
       "      <th>27</th>\n",
       "      <td>site_category_8fd0aea4</td>\n",
       "      <td>0.000000</td>\n",
       "    </tr>\n",
       "    <tr>\n",
       "      <th>30</th>\n",
       "      <td>site_category_c0dd3be3</td>\n",
       "      <td>0.000000</td>\n",
       "    </tr>\n",
       "    <tr>\n",
       "      <th>15</th>\n",
       "      <td>banner_pos_5</td>\n",
       "      <td>0.000000</td>\n",
       "    </tr>\n",
       "    <tr>\n",
       "      <th>5</th>\n",
       "      <td>C1_1002</td>\n",
       "      <td>0.000000</td>\n",
       "    </tr>\n",
       "    <tr>\n",
       "      <th>6</th>\n",
       "      <td>C1_1005</td>\n",
       "      <td>0.000000</td>\n",
       "    </tr>\n",
       "    <tr>\n",
       "      <th>7</th>\n",
       "      <td>C1_1007</td>\n",
       "      <td>0.000000</td>\n",
       "    </tr>\n",
       "    <tr>\n",
       "      <th>8</th>\n",
       "      <td>C1_1008</td>\n",
       "      <td>0.000000</td>\n",
       "    </tr>\n",
       "    <tr>\n",
       "      <th>9</th>\n",
       "      <td>C1_1010</td>\n",
       "      <td>0.000000</td>\n",
       "    </tr>\n",
       "    <tr>\n",
       "      <th>10</th>\n",
       "      <td>C1_1012</td>\n",
       "      <td>0.000000</td>\n",
       "    </tr>\n",
       "    <tr>\n",
       "      <th>12</th>\n",
       "      <td>banner_pos_2</td>\n",
       "      <td>0.000000</td>\n",
       "    </tr>\n",
       "    <tr>\n",
       "      <th>13</th>\n",
       "      <td>banner_pos_3</td>\n",
       "      <td>0.000000</td>\n",
       "    </tr>\n",
       "    <tr>\n",
       "      <th>14</th>\n",
       "      <td>banner_pos_4</td>\n",
       "      <td>0.000000</td>\n",
       "    </tr>\n",
       "    <tr>\n",
       "      <th>17</th>\n",
       "      <td>site_category_28905ebd</td>\n",
       "      <td>0.000000</td>\n",
       "    </tr>\n",
       "    <tr>\n",
       "      <th>29</th>\n",
       "      <td>site_category_a818d37a</td>\n",
       "      <td>0.000000</td>\n",
       "    </tr>\n",
       "    <tr>\n",
       "      <th>18</th>\n",
       "      <td>site_category_335d28a8</td>\n",
       "      <td>0.000000</td>\n",
       "    </tr>\n",
       "    <tr>\n",
       "      <th>20</th>\n",
       "      <td>site_category_42a36e14</td>\n",
       "      <td>0.000000</td>\n",
       "    </tr>\n",
       "    <tr>\n",
       "      <th>21</th>\n",
       "      <td>site_category_50e219e0</td>\n",
       "      <td>0.000000</td>\n",
       "    </tr>\n",
       "    <tr>\n",
       "      <th>22</th>\n",
       "      <td>site_category_5378d028</td>\n",
       "      <td>0.000000</td>\n",
       "    </tr>\n",
       "    <tr>\n",
       "      <th>23</th>\n",
       "      <td>site_category_70fb0e29</td>\n",
       "      <td>0.000000</td>\n",
       "    </tr>\n",
       "    <tr>\n",
       "      <th>24</th>\n",
       "      <td>site_category_72722551</td>\n",
       "      <td>0.000000</td>\n",
       "    </tr>\n",
       "    <tr>\n",
       "      <th>25</th>\n",
       "      <td>site_category_75fa27f6</td>\n",
       "      <td>0.000000</td>\n",
       "    </tr>\n",
       "    <tr>\n",
       "      <th>26</th>\n",
       "      <td>site_category_76b2941d</td>\n",
       "      <td>0.000000</td>\n",
       "    </tr>\n",
       "    <tr>\n",
       "      <th>28</th>\n",
       "      <td>site_category_9ccfa2ea</td>\n",
       "      <td>0.000000</td>\n",
       "    </tr>\n",
       "    <tr>\n",
       "      <th>54</th>\n",
       "      <td>app_category_fc6fa53d</td>\n",
       "      <td>0.000000</td>\n",
       "    </tr>\n",
       "  </tbody>\n",
       "</table>\n",
       "</div>"
      ],
      "text/plain": [
       "                   feature  importance\n",
       "36   app_category_0f2161f8    0.313694\n",
       "19  site_category_3e814130    0.184254\n",
       "11            banner_pos_1    0.156092\n",
       "45   app_category_8ded1f7a    0.074326\n",
       "50   app_category_cef3e649    0.070029\n",
       "1         device_conn_type    0.069925\n",
       "53   app_category_f95efa07    0.038555\n",
       "3                      day    0.028612\n",
       "4                     hour    0.026248\n",
       "0              device_type    0.015635\n",
       "2                dayofweek    0.013137\n",
       "16            banner_pos_7    0.009492\n",
       "41   app_category_7113d72a    0.000000\n",
       "34  site_category_f66779e6    0.000000\n",
       "33  site_category_f028772b    0.000000\n",
       "37   app_category_0f9a328c    0.000000\n",
       "38   app_category_2281a340    0.000000\n",
       "39   app_category_4681bb9d    0.000000\n",
       "40   app_category_4ce2e9fc    0.000000\n",
       "35   app_category_09481d60    0.000000\n",
       "44   app_category_879c24eb    0.000000\n",
       "42   app_category_75d80bbe    0.000000\n",
       "43   app_category_79f0b860    0.000000\n",
       "31  site_category_dedf689d    0.000000\n",
       "46   app_category_8df2e842    0.000000\n",
       "47   app_category_a3c42688    0.000000\n",
       "48   app_category_a7fd01ec    0.000000\n",
       "49   app_category_a86a3e89    0.000000\n",
       "51   app_category_d1327cf5    0.000000\n",
       "52   app_category_dc97ec06    0.000000\n",
       "32  site_category_e787de0e    0.000000\n",
       "27  site_category_8fd0aea4    0.000000\n",
       "30  site_category_c0dd3be3    0.000000\n",
       "15            banner_pos_5    0.000000\n",
       "5                  C1_1002    0.000000\n",
       "6                  C1_1005    0.000000\n",
       "7                  C1_1007    0.000000\n",
       "8                  C1_1008    0.000000\n",
       "9                  C1_1010    0.000000\n",
       "10                 C1_1012    0.000000\n",
       "12            banner_pos_2    0.000000\n",
       "13            banner_pos_3    0.000000\n",
       "14            banner_pos_4    0.000000\n",
       "17  site_category_28905ebd    0.000000\n",
       "29  site_category_a818d37a    0.000000\n",
       "18  site_category_335d28a8    0.000000\n",
       "20  site_category_42a36e14    0.000000\n",
       "21  site_category_50e219e0    0.000000\n",
       "22  site_category_5378d028    0.000000\n",
       "23  site_category_70fb0e29    0.000000\n",
       "24  site_category_72722551    0.000000\n",
       "25  site_category_75fa27f6    0.000000\n",
       "26  site_category_76b2941d    0.000000\n",
       "28  site_category_9ccfa2ea    0.000000\n",
       "54   app_category_fc6fa53d    0.000000"
      ]
     },
     "execution_count": 94,
     "metadata": {},
     "output_type": "execute_result"
    }
   ],
   "source": [
    "pd.DataFrame({'feature':list(X_train.drop(col_to_remove,axis=1).columns),'importance'  : list(best_grid.feature_importances_)}).sort_values(by='importance',ascending=False)"
   ]
  },
  {
   "cell_type": "code",
   "execution_count": 95,
   "id": "b9771826",
   "metadata": {},
   "outputs": [
    {
     "name": "stdout",
     "output_type": "stream",
     "text": [
      "[[24869    11]\n",
      " [ 5118     2]]\n"
     ]
    }
   ],
   "source": [
    "cnf_matrix = metrics.confusion_matrix(y_test,y_pred)\n",
    "print(cnf_matrix)"
   ]
  },
  {
   "cell_type": "markdown",
   "id": "adfb209e",
   "metadata": {},
   "source": [
    "## Model 6 : Using the D- tree model without Dropping features and at Max Depth = 7 (based on the graph above"
   ]
  },
  {
   "cell_type": "code",
   "execution_count": 96,
   "id": "5c3d9663",
   "metadata": {},
   "outputs": [],
   "source": [
    "d_tree_depth = DecisionTreeClassifier(max_depth=7)"
   ]
  },
  {
   "cell_type": "code",
   "execution_count": 97,
   "id": "fb913ea6",
   "metadata": {},
   "outputs": [
    {
     "data": {
      "text/plain": [
       "DecisionTreeClassifier(max_depth=7)"
      ]
     },
     "execution_count": 97,
     "metadata": {},
     "output_type": "execute_result"
    }
   ],
   "source": [
    "d_tree_depth.fit(X_train,y_train)"
   ]
  },
  {
   "cell_type": "code",
   "execution_count": 98,
   "id": "faac78bb",
   "metadata": {},
   "outputs": [
    {
     "data": {
      "text/plain": [
       "0.8336333333333333"
      ]
     },
     "execution_count": 98,
     "metadata": {},
     "output_type": "execute_result"
    }
   ],
   "source": [
    "d_tree_depth.score(X_test,y_test)"
   ]
  },
  {
   "cell_type": "code",
   "execution_count": 99,
   "id": "4a35cc4f",
   "metadata": {},
   "outputs": [
    {
     "data": {
      "image/png": "[encoded data removed]",
      "text/plain": [
       "<Figure size 432x288 with 1 Axes>"
      ]
     },
     "metadata": {
      "needs_background": "light"
     },
     "output_type": "display_data"
    }
   ],
   "source": [
    "metrics.plot_roc_curve(d_tree_depth, X_test, y_test) \n",
    "plt.show()\n",
    "# 67% is the AUC. Although higher accuracy is obtained but the number of features incrementally added in the data is way too many.\n",
    "# The increase in accuracy does not justify the number of additional variables present."
   ]
  },
  {
   "cell_type": "code",
   "execution_count": null,
   "id": "fd325f4b",
   "metadata": {},
   "outputs": [],
   "source": []
  },
  {
   "cell_type": "markdown",
   "id": "14797236",
   "metadata": {},
   "source": [
    "## Model 7 : D- tree Model with Features having feature importance > 0\n",
    "## Reasons for performing this method : \n",
    "Can help in reducing the overfitting chances further"
   ]
  },
  {
   "cell_type": "code",
   "execution_count": 100,
   "id": "6e5897b8",
   "metadata": {},
   "outputs": [],
   "source": [
    "a= pd.DataFrame({'feature':list(X_train.columns),'importance'  : list(d_tree_depth.feature_importances_)}).sort_values(by='importance',ascending=False)"
   ]
  },
  {
   "cell_type": "code",
   "execution_count": 101,
   "id": "2cffb6a5",
   "metadata": {},
   "outputs": [
    {
     "data": {
      "text/plain": [
       "['C18_2',\n",
       " 'C16_250',\n",
       " 'C18_1',\n",
       " 'site_category_28905ebd',\n",
       " 'hour',\n",
       " 'C19_39',\n",
       " 'banner_pos_1',\n",
       " 'C21_15',\n",
       " 'day',\n",
       " 'device_type',\n",
       " 'C17_1872',\n",
       " 'app_category_f95efa07',\n",
       " 'C17_2667',\n",
       " 'C19_303',\n",
       " 'C20_100004',\n",
       " 'C18_3',\n",
       " 'C14_20093',\n",
       " 'site_category_3e814130',\n",
       " 'C19_47',\n",
       " 'app_category_0f2161f8',\n",
       " 'C20_100148',\n",
       " 'C17_2162',\n",
       " 'C17_1993',\n",
       " 'C20_100076',\n",
       " 'device_conn_type',\n",
       " 'C17_2374',\n",
       " 'dayofweek',\n",
       " 'C17_2518',\n",
       " 'C20_100079',\n",
       " 'C20_100034',\n",
       " 'C14_17264',\n",
       " 'C14_23726',\n",
       " 'C1_1002',\n",
       " 'C19_547',\n",
       " 'C20_100077',\n",
       " 'C17_2495',\n",
       " 'site_category_f028772b',\n",
       " 'C17_1882',\n",
       " 'C19_1327',\n",
       " 'C14_21691',\n",
       " 'C20_100084',\n",
       " 'C17_1887',\n",
       " 'C20_100193',\n",
       " 'C14_18856',\n",
       " 'C21_71',\n",
       " 'C20_100012',\n",
       " 'C14_22141',\n",
       " 'C17_2688',\n",
       " 'C20_100068',\n",
       " 'site_category_50e219e0',\n",
       " 'C14_23454',\n",
       " 'C19_1319',\n",
       " 'C20_100005',\n",
       " 'C20_100111',\n",
       " 'C14_21814']"
      ]
     },
     "execution_count": 101,
     "metadata": {},
     "output_type": "execute_result"
    }
   ],
   "source": [
    "list(a[a.importance > 0].feature)"
   ]
  },
  {
   "cell_type": "code",
   "execution_count": 102,
   "id": "92f04a0d",
   "metadata": {},
   "outputs": [],
   "source": [
    "xt = X_train[list(a[a.importance > 0].feature)]"
   ]
  },
  {
   "cell_type": "code",
   "execution_count": 103,
   "id": "78c4f083",
   "metadata": {},
   "outputs": [],
   "source": [
    "best_grid2 = grid.best_estimator_"
   ]
  },
  {
   "cell_type": "code",
   "execution_count": 104,
   "id": "cdb42ec9",
   "metadata": {},
   "outputs": [
    {
     "data": {
      "text/plain": [
       "DecisionTreeClassifier(max_depth=5)"
      ]
     },
     "execution_count": 104,
     "metadata": {},
     "output_type": "execute_result"
    }
   ],
   "source": [
    "best_grid2.fit(xt,y_train)"
   ]
  },
  {
   "cell_type": "code",
   "execution_count": 105,
   "id": "bad02d8b",
   "metadata": {},
   "outputs": [
    {
     "data": {
      "text/plain": [
       "(69999, 55)"
      ]
     },
     "execution_count": 105,
     "metadata": {},
     "output_type": "execute_result"
    }
   ],
   "source": [
    "xt.shape # 54 Features are used"
   ]
  },
  {
   "cell_type": "code",
   "execution_count": 106,
   "id": "c3ddd197",
   "metadata": {},
   "outputs": [
    {
     "data": {
      "text/plain": [
       "0.8320333333333333"
      ]
     },
     "execution_count": 106,
     "metadata": {},
     "output_type": "execute_result"
    }
   ],
   "source": [
    "best_grid2.score(X_test[list(a[a.importance > 0].feature)], y_test)\n",
    "## Good accuracy achieved with lesser features "
   ]
  },
  {
   "cell_type": "code",
   "execution_count": 107,
   "id": "4c4a144f",
   "metadata": {},
   "outputs": [
    {
     "data": {
      "image/png": "[encoded data removed]",
      "text/plain": [
       "<Figure size 432x288 with 1 Axes>"
      ]
     },
     "metadata": {
      "needs_background": "light"
     },
     "output_type": "display_data"
    }
   ],
   "source": [
    "metrics.plot_roc_curve(best_grid2, X_test[list(a[a.importance > 0].feature)], y_test) \n",
    "plt.show()\n",
    "# 65% is the AUC  - Using Occam's Razor we can say that this model is better among all Decision Tree models made\n",
    "# because the number of features used are less and good accuracy is obtained"
   ]
  },
  {
   "cell_type": "markdown",
   "id": "2afa76bb",
   "metadata": {},
   "source": [
    "## Model 8 : Random Forest with 3 trees and max_depth = 10\n",
    "### Reason for using this model:\n",
    "1. checking if further increase in accuracy is happening\n",
    "2. Ensembling helps in reducing the number of features in a tree and improve accuracy by using multiple tree. We can check if we are able to leverage this quality of Random forest"
   ]
  },
  {
   "cell_type": "code",
   "execution_count": 108,
   "id": "bc60cdf6",
   "metadata": {},
   "outputs": [
    {
     "data": {
      "text/plain": [
       "RandomForestClassifier(max_depth=10, n_estimators=3, random_state=42)"
      ]
     },
     "execution_count": 108,
     "metadata": {},
     "output_type": "execute_result"
    }
   ],
   "source": [
    "from sklearn.ensemble import RandomForestClassifier\n",
    "model_rf = RandomForestClassifier( n_estimators=3, max_depth=10, random_state=42)\n",
    "model_rf.fit(X_train, y_train)"
   ]
  },
  {
   "cell_type": "code",
   "execution_count": 109,
   "id": "6bda03d4",
   "metadata": {},
   "outputs": [],
   "source": [
    "from sklearn.metrics import (\n",
    "    classification_report,\n",
    "    recall_score,\n",
    "    precision_score,\n",
    "    accuracy_score\n",
    ")"
   ]
  },
  {
   "cell_type": "code",
   "execution_count": 110,
   "id": "d399a675",
   "metadata": {},
   "outputs": [],
   "source": [
    "predict_rf = model_rf.predict(X_test)\n",
    "recall_rf = recall_score(y_test, predict_rf)\n",
    "precision_rf = precision_score(y_test, predict_rf)"
   ]
  },
  {
   "cell_type": "code",
   "execution_count": 111,
   "id": "e51ac8bb",
   "metadata": {},
   "outputs": [
    {
     "data": {
      "text/plain": [
       "0.8293"
      ]
     },
     "execution_count": 111,
     "metadata": {},
     "output_type": "execute_result"
    }
   ],
   "source": [
    "model_rf.score(X_test, y_test)"
   ]
  },
  {
   "cell_type": "code",
   "execution_count": 112,
   "id": "74100d62",
   "metadata": {},
   "outputs": [
    {
     "name": "stdout",
     "output_type": "stream",
     "text": [
      "[[24872     8]\n",
      " [ 5113     7]]\n"
     ]
    }
   ],
   "source": [
    "cnf_matrix = metrics.confusion_matrix(y_test,predict_rf)\n",
    "print(cnf_matrix)"
   ]
  },
  {
   "cell_type": "code",
   "execution_count": 113,
   "id": "0ee25f15",
   "metadata": {},
   "outputs": [
    {
     "name": "stdout",
     "output_type": "stream",
     "text": [
      "Classification Report:\n",
      "\n",
      "              precision    recall  f1-score   support\n",
      "\n",
      "           0       0.83      1.00      0.91     24880\n",
      "           1       0.47      0.00      0.00      5120\n",
      "\n",
      "    accuracy                           0.83     30000\n",
      "   macro avg       0.65      0.50      0.45     30000\n",
      "weighted avg       0.77      0.83      0.75     30000\n",
      "\n"
     ]
    }
   ],
   "source": [
    "print('Classification Report:\\n')\n",
    "print(classification_report(y_test, predict_rf))"
   ]
  },
  {
   "cell_type": "code",
   "execution_count": 114,
   "id": "85a9024a",
   "metadata": {},
   "outputs": [
    {
     "name": "stdout",
     "output_type": "stream",
     "text": [
      "              features  importance\n",
      "1     device_conn_type    0.140179\n",
      "2192          C19_1063    0.096750\n",
      "4                 hour    0.069180\n",
      "2223            C19_39    0.057693\n",
      "2190             C18_2    0.040365\n",
      "...                ...         ...\n",
      "858          C14_22085    0.000000\n",
      "859          C14_22086    0.000000\n",
      "860          C14_22089    0.000000\n",
      "861          C14_22090    0.000000\n",
      "2466            C21_95    0.000000\n",
      "\n",
      "[2467 rows x 2 columns]\n"
     ]
    }
   ],
   "source": [
    "#Feature Importance\n",
    "feature_importances = model_rf.feature_importances_\n",
    "features = list(X_train.columns)\n",
    "d = pd.DataFrame({'features': features, 'importance': list(feature_importances)})\n",
    "print(d.sort_values(by='importance',ascending=False))"
   ]
  },
  {
   "cell_type": "code",
   "execution_count": 115,
   "id": "45732012",
   "metadata": {},
   "outputs": [
    {
     "data": {
      "image/png": "[encoded data removed]",
      "text/plain": [
       "<Figure size 432x288 with 1 Axes>"
      ]
     },
     "metadata": {
      "needs_background": "light"
     },
     "output_type": "display_data"
    }
   ],
   "source": [
    "metrics.plot_roc_curve(model_rf, X_test, y_test) \n",
    "plt.show()\n",
    "# 63% AUC Score"
   ]
  },
  {
   "cell_type": "code",
   "execution_count": null,
   "id": "e65ba5b4",
   "metadata": {},
   "outputs": [],
   "source": []
  },
  {
   "cell_type": "code",
   "execution_count": 116,
   "id": "7a27fd50",
   "metadata": {},
   "outputs": [
    {
     "data": {
      "text/plain": [
       "[<matplotlib.lines.Line2D at 0x1aa2e3b6a60>]"
      ]
     },
     "execution_count": 116,
     "metadata": {},
     "output_type": "execute_result"
    },
    {
     "data": {
      "image/png": "[encoded data removed]",
      "text/plain": [
       "<Figure size 432x288 with 1 Axes>"
      ]
     },
     "metadata": {
      "needs_background": "light"
     },
     "output_type": "display_data"
    }
   ],
   "source": [
    "# Finding Best No. of tress in Random forest\n",
    "l=[]\n",
    "m=[]\n",
    "for i in range(1,11):\n",
    "    model_rf = RandomForestClassifier( n_estimators=i, random_state=42)\n",
    "    model_rf.fit(X_train, y_train)\n",
    "    y_preds=model_rf.predict(X_test)\n",
    "    l.append(i) \n",
    "    m.append(metrics.accuracy_score(y_test,y_preds))\n",
    "plt.plot(l,m)    "
   ]
  },
  {
   "cell_type": "code",
   "execution_count": 117,
   "id": "b96d5d41",
   "metadata": {},
   "outputs": [
    {
     "data": {
      "text/plain": [
       "[<matplotlib.lines.Line2D at 0x1aa2e761a00>]"
      ]
     },
     "execution_count": 117,
     "metadata": {},
     "output_type": "execute_result"
    },
    {
     "data": {
      "image/png": "[encoded data removed]",
      "text/plain": [
       "<Figure size 432x288 with 1 Axes>"
      ]
     },
     "metadata": {
      "needs_background": "light"
     },
     "output_type": "display_data"
    }
   ],
   "source": [
    "# Finding best depth for Random forest\n",
    "l=[]\n",
    "m=[]\n",
    "for i in range(1,11):\n",
    "    model_rf = RandomForestClassifier( n_estimators=2,max_depth=i, random_state=42)\n",
    "    model_rf.fit(X_train, y_train)\n",
    "    y_preds=model_rf.predict(X_test)\n",
    "    l.append(i) \n",
    "    m.append(metrics.accuracy_score(y_test,y_preds))\n",
    "plt.plot(l,m)    "
   ]
  },
  {
   "cell_type": "markdown",
   "id": "e685adb3",
   "metadata": {},
   "source": [
    "## Model 9 : Random Forest with 2 Trees and max_depth = 3\n",
    "### Reason for using this :\n",
    "Based on the optimization of parameters above"
   ]
  },
  {
   "cell_type": "code",
   "execution_count": 118,
   "id": "3364ea05",
   "metadata": {},
   "outputs": [
    {
     "data": {
      "text/plain": [
       "RandomForestClassifier(max_depth=3, n_estimators=2, random_state=42)"
      ]
     },
     "execution_count": 118,
     "metadata": {},
     "output_type": "execute_result"
    }
   ],
   "source": [
    "model_rf = RandomForestClassifier( n_estimators=2, max_depth=3, random_state=42)\n",
    "model_rf.fit(X_train, y_train)"
   ]
  },
  {
   "cell_type": "code",
   "execution_count": 119,
   "id": "11de00ed",
   "metadata": {},
   "outputs": [
    {
     "data": {
      "text/plain": [
       "0.8293666666666667"
      ]
     },
     "execution_count": 119,
     "metadata": {},
     "output_type": "execute_result"
    }
   ],
   "source": [
    "model_rf.score(X_test, y_test)\n",
    "# No increase in accuracy is observed"
   ]
  },
  {
   "cell_type": "markdown",
   "id": "d83f2155",
   "metadata": {},
   "source": [
    "## Model 10 : Random Forest with feature selection\n",
    "### Reason for using this : \n",
    "Checking if simplification of model is helping in improving of accuracy"
   ]
  },
  {
   "cell_type": "code",
   "execution_count": 120,
   "id": "cd52ab1d",
   "metadata": {},
   "outputs": [
    {
     "data": {
      "text/plain": [
       "RandomForestClassifier(max_depth=3, n_estimators=2, random_state=42)"
      ]
     },
     "execution_count": 120,
     "metadata": {},
     "output_type": "execute_result"
    }
   ],
   "source": [
    "model_rf = RandomForestClassifier( n_estimators=2, max_depth=3, random_state=42)\n",
    "model_rf.fit(X_train.drop(col_to_remove,axis=1), y_train)"
   ]
  },
  {
   "cell_type": "code",
   "execution_count": 121,
   "id": "7516dde9",
   "metadata": {},
   "outputs": [
    {
     "data": {
      "text/plain": [
       "0.8293333333333334"
      ]
     },
     "execution_count": 121,
     "metadata": {},
     "output_type": "execute_result"
    }
   ],
   "source": [
    "model_rf.score(X_test.drop(col_to_remove,axis=1), y_test)\n",
    "# No Change in accuracy"
   ]
  },
  {
   "cell_type": "code",
   "execution_count": 122,
   "id": "7990f95e",
   "metadata": {},
   "outputs": [
    {
     "data": {
      "image/png": "[encoded data removed]",
      "text/plain": [
       "<Figure size 432x288 with 1 Axes>"
      ]
     },
     "metadata": {
      "needs_background": "light"
     },
     "output_type": "display_data"
    }
   ],
   "source": [
    "metrics.plot_roc_curve(model_rf, X_test.drop(col_to_remove,axis=1), y_test) \n",
    "plt.show()\n",
    "# 58% is the AUC. Very less AUC is obtained considering the complexity of the model."
   ]
  },
  {
   "cell_type": "code",
   "execution_count": 123,
   "id": "016282c0",
   "metadata": {},
   "outputs": [
    {
     "data": {
      "text/plain": [
       "array([[24880,     0],\n",
       "       [ 5120,     0]], dtype=int64)"
      ]
     },
     "execution_count": 123,
     "metadata": {},
     "output_type": "execute_result"
    }
   ],
   "source": [
    "confusion_matrix(y_test,model_rf.predict(X_test.drop(col_to_remove,axis=1)))"
   ]
  },
  {
   "cell_type": "markdown",
   "id": "f3f7a05e",
   "metadata": {},
   "source": [
    "# Summary\n",
    "- Three different algorithms were tried out : 1. Logistic Regression , 2. Decision Tree , 3. Random Forest\n",
    "- The Accuracy and AUC value are used as a judging parameter of the models and it is found that all three models are performing similarly on the dataset.\n",
    "- The feature selection helped us in reducing the number of feature while keeping the accuracy intact.\n",
    "- Based on the 10 Model Analysed, it will be best to used Logistic Regression Model with Feature Selection operation done. This is because it ensures that a simple model is chosen and number of features are not too many. This is a good selection because use of Decision tree or Random Forest Did not bring about a significant increase in the Accuracy of decisioning.\n",
    "- Best Model Among All - Model No. 3 : Logistic Regression after Dropping Site Category and App Category Variables"
   ]
  }
 ],
 "metadata": {
  "kernelspec": {
   "display_name": "Python 3",
   "language": "python",
   "name": "python3"
  },
  "language_info": {
   "codemirror_mode": {
    "name": "ipython",
    "version": 3
   },
   "file_extension": ".py",
   "mimetype": "text/x-python",
   "name": "python",
   "nbconvert_exporter": "python",
   "pygments_lexer": "ipython3",
   "version": "3.8.8"
  }
 },
 "nbformat": 4,
 "nbformat_minor": 5
}
